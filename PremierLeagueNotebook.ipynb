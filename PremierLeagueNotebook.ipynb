{
 "cells": [
  {
   "cell_type": "markdown",
   "metadata": {},
   "source": [
    "## Data analysis with Premier League data"
   ]
  },
  {
   "cell_type": "markdown",
   "metadata": {},
   "source": [
    "### Useful libraries"
   ]
  },
  {
   "cell_type": "code",
   "execution_count": 1,
   "metadata": {},
   "outputs": [],
   "source": [
    "import pandas as pd\n",
    "import plotly.express as px\n",
    "import matplotlib.pylab as plt\n",
    "import numpy as np"
   ]
  },
  {
   "cell_type": "markdown",
   "metadata": {},
   "source": [
    "## Linear Regressinon with sklearn"
   ]
  },
  {
   "cell_type": "code",
   "execution_count": 2,
   "metadata": {},
   "outputs": [],
   "source": [
    "from sklearn.linear_model import LinearRegression"
   ]
  },
  {
   "cell_type": "markdown",
   "metadata": {},
   "source": [
    "## Importation of the dataset as a pandas dataframe"
   ]
  },
  {
   "cell_type": "code",
   "execution_count": 4,
   "metadata": {},
   "outputs": [
    {
     "output_type": "execute_result",
     "data": {
      "text/plain": "                         PLAYER             TEAM  GAMES PLAYED  GAMES STARTED  \\\nRank                                                                            \n1                   Jamie Vardy   Leicester City            35             34   \n2                    Danny Ings      Southampton            38             32   \n3     Pierre-Emerick Aubameyang          Arsenal            36             35   \n4     Raheem Shaquille Sterling  Manchester City            33             30   \n5           Mohamed Salah Ghaly        Liverpool            34             33   \n\n      MINUTES PLAYED  GOALS  ASSISTS  SHOTS  SHOTS ON GOAL  \nRank                                                        \n1               3034     23        5     71             43  \n2               2812     22        2     66             38  \n3               3138     22        3     70             42  \n4               2660     20        1     68             38  \n5               2884     19       10     95             59  ",
      "text/html": "<div>\n<style scoped>\n    .dataframe tbody tr th:only-of-type {\n        vertical-align: middle;\n    }\n\n    .dataframe tbody tr th {\n        vertical-align: top;\n    }\n\n    .dataframe thead th {\n        text-align: right;\n    }\n</style>\n<table border=\"1\" class=\"dataframe\">\n  <thead>\n    <tr style=\"text-align: right;\">\n      <th></th>\n      <th>PLAYER</th>\n      <th>TEAM</th>\n      <th>GAMES PLAYED</th>\n      <th>GAMES STARTED</th>\n      <th>MINUTES PLAYED</th>\n      <th>GOALS</th>\n      <th>ASSISTS</th>\n      <th>SHOTS</th>\n      <th>SHOTS ON GOAL</th>\n    </tr>\n    <tr>\n      <th>Rank</th>\n      <th></th>\n      <th></th>\n      <th></th>\n      <th></th>\n      <th></th>\n      <th></th>\n      <th></th>\n      <th></th>\n      <th></th>\n    </tr>\n  </thead>\n  <tbody>\n    <tr>\n      <th>1</th>\n      <td>Jamie Vardy</td>\n      <td>Leicester City</td>\n      <td>35</td>\n      <td>34</td>\n      <td>3034</td>\n      <td>23</td>\n      <td>5</td>\n      <td>71</td>\n      <td>43</td>\n    </tr>\n    <tr>\n      <th>2</th>\n      <td>Danny Ings</td>\n      <td>Southampton</td>\n      <td>38</td>\n      <td>32</td>\n      <td>2812</td>\n      <td>22</td>\n      <td>2</td>\n      <td>66</td>\n      <td>38</td>\n    </tr>\n    <tr>\n      <th>3</th>\n      <td>Pierre-Emerick Aubameyang</td>\n      <td>Arsenal</td>\n      <td>36</td>\n      <td>35</td>\n      <td>3138</td>\n      <td>22</td>\n      <td>3</td>\n      <td>70</td>\n      <td>42</td>\n    </tr>\n    <tr>\n      <th>4</th>\n      <td>Raheem Shaquille Sterling</td>\n      <td>Manchester City</td>\n      <td>33</td>\n      <td>30</td>\n      <td>2660</td>\n      <td>20</td>\n      <td>1</td>\n      <td>68</td>\n      <td>38</td>\n    </tr>\n    <tr>\n      <th>5</th>\n      <td>Mohamed Salah Ghaly</td>\n      <td>Liverpool</td>\n      <td>34</td>\n      <td>33</td>\n      <td>2884</td>\n      <td>19</td>\n      <td>10</td>\n      <td>95</td>\n      <td>59</td>\n    </tr>\n  </tbody>\n</table>\n</div>"
     },
     "metadata": {},
     "execution_count": 4
    }
   ],
   "source": [
    "df = pd.read_csv('Premier League Player Stats.csv',index_col='Rank')\n",
    "df.head()"
   ]
  },
  {
   "cell_type": "markdown",
   "metadata": {},
   "source": [
    "## Filtering players who have scored less than one goal or one assist and less than 10 shots"
   ]
  },
  {
   "cell_type": "code",
   "execution_count": 8,
   "metadata": {},
   "outputs": [],
   "source": [
    "df = df[(df['SHOTS'] > 10) & ((df['ASSISTS'] > 0) | (df['GOALS'] > 0))]"
   ]
  },
  {
   "cell_type": "code",
   "execution_count": 9,
   "metadata": {},
   "outputs": [],
   "source": [
    "shots_df = np.asarray(df[['GOALS','SHOTS ON GOAL','SHOTS']])\n",
    "shots_labels = np.asarray(['GOALS','SHOTS ON GOAL','SHOTS'])\n",
    "shots_df = shots_df.transpose()"
   ]
  },
  {
   "cell_type": "markdown",
   "metadata": {},
   "source": [
    "## Statistical infos for numerical values"
   ]
  },
  {
   "cell_type": "code",
   "execution_count": 10,
   "metadata": {},
   "outputs": [
    {
     "output_type": "execute_result",
     "data": {
      "text/plain": "       GAMES PLAYED  GAMES STARTED  MINUTES PLAYED       GOALS     ASSISTS  \\\ncount    197.000000     197.000000      197.000000  197.000000  197.000000   \nmean      29.538071      23.883249     2129.253807    4.517766    2.700508   \nstd        6.718450       9.273705      790.041782    4.738675    2.751002   \nmin       10.000000       1.000000      226.000000    0.000000    0.000000   \n25%       25.000000      17.000000     1505.000000    1.000000    1.000000   \n50%       31.000000      26.000000     2247.000000    3.000000    2.000000   \n75%       35.000000      31.000000     2766.000000    6.000000    4.000000   \nmax       38.000000      38.000000     3420.000000   23.000000   20.000000   \n\n            SHOTS  SHOTS ON GOAL  \ncount  197.000000     197.000000  \nmean    28.538071      14.177665  \nstd     17.936248      11.054314  \nmin     11.000000       1.000000  \n25%     15.000000       6.000000  \n50%     22.000000      10.000000  \n75%     36.000000      19.000000  \nmax     95.000000      59.000000  ",
      "text/html": "<div>\n<style scoped>\n    .dataframe tbody tr th:only-of-type {\n        vertical-align: middle;\n    }\n\n    .dataframe tbody tr th {\n        vertical-align: top;\n    }\n\n    .dataframe thead th {\n        text-align: right;\n    }\n</style>\n<table border=\"1\" class=\"dataframe\">\n  <thead>\n    <tr style=\"text-align: right;\">\n      <th></th>\n      <th>GAMES PLAYED</th>\n      <th>GAMES STARTED</th>\n      <th>MINUTES PLAYED</th>\n      <th>GOALS</th>\n      <th>ASSISTS</th>\n      <th>SHOTS</th>\n      <th>SHOTS ON GOAL</th>\n    </tr>\n  </thead>\n  <tbody>\n    <tr>\n      <th>count</th>\n      <td>197.000000</td>\n      <td>197.000000</td>\n      <td>197.000000</td>\n      <td>197.000000</td>\n      <td>197.000000</td>\n      <td>197.000000</td>\n      <td>197.000000</td>\n    </tr>\n    <tr>\n      <th>mean</th>\n      <td>29.538071</td>\n      <td>23.883249</td>\n      <td>2129.253807</td>\n      <td>4.517766</td>\n      <td>2.700508</td>\n      <td>28.538071</td>\n      <td>14.177665</td>\n    </tr>\n    <tr>\n      <th>std</th>\n      <td>6.718450</td>\n      <td>9.273705</td>\n      <td>790.041782</td>\n      <td>4.738675</td>\n      <td>2.751002</td>\n      <td>17.936248</td>\n      <td>11.054314</td>\n    </tr>\n    <tr>\n      <th>min</th>\n      <td>10.000000</td>\n      <td>1.000000</td>\n      <td>226.000000</td>\n      <td>0.000000</td>\n      <td>0.000000</td>\n      <td>11.000000</td>\n      <td>1.000000</td>\n    </tr>\n    <tr>\n      <th>25%</th>\n      <td>25.000000</td>\n      <td>17.000000</td>\n      <td>1505.000000</td>\n      <td>1.000000</td>\n      <td>1.000000</td>\n      <td>15.000000</td>\n      <td>6.000000</td>\n    </tr>\n    <tr>\n      <th>50%</th>\n      <td>31.000000</td>\n      <td>26.000000</td>\n      <td>2247.000000</td>\n      <td>3.000000</td>\n      <td>2.000000</td>\n      <td>22.000000</td>\n      <td>10.000000</td>\n    </tr>\n    <tr>\n      <th>75%</th>\n      <td>35.000000</td>\n      <td>31.000000</td>\n      <td>2766.000000</td>\n      <td>6.000000</td>\n      <td>4.000000</td>\n      <td>36.000000</td>\n      <td>19.000000</td>\n    </tr>\n    <tr>\n      <th>max</th>\n      <td>38.000000</td>\n      <td>38.000000</td>\n      <td>3420.000000</td>\n      <td>23.000000</td>\n      <td>20.000000</td>\n      <td>95.000000</td>\n      <td>59.000000</td>\n    </tr>\n  </tbody>\n</table>\n</div>"
     },
     "metadata": {},
     "execution_count": 10
    }
   ],
   "source": [
    "df.describe()"
   ]
  },
  {
   "cell_type": "markdown",
   "metadata": {},
   "source": [
    "## Definition of a scatter function using the Plotly module to reduce code redundancy"
   ]
  },
  {
   "cell_type": "code",
   "execution_count": 11,
   "metadata": {},
   "outputs": [],
   "source": [
    "def plotlyScatter(data,xAxis,yAxis,labelAxis,title):\n",
    "    fig = px.scatter(data, x=xAxis, y=yAxis, text=labelAxis, log_x=True, size_max=80)\n",
    "\n",
    "    fig.update_traces(textposition='top center')\n",
    "\n",
    "    fig.update_layout(\n",
    "        height=800,\n",
    "        title_text = title\n",
    "    )\n",
    "\n",
    "    fig.show()"
   ]
  },
  {
   "cell_type": "markdown",
   "metadata": {},
   "source": [
    "## Scatter of shots and goals to observe who are the best goalscorers"
   ]
  },
  {
   "cell_type": "code",
   "execution_count": 12,
   "metadata": {},
   "outputs": [
    {
     "output_type": "display_data",
     "data": {
      "application/vnd.plotly.v1+json": {
       "config": {
        "plotlyServerURL": "https://plot.ly"
       },
       "data": [
        {
         "hovertemplate": "SHOTS=%{x}<br>GOALS=%{y}<br>PLAYER=%{text}<extra></extra>",
         "legendgroup": "",
         "marker": {
          "color": "#636efa",
          "symbol": "circle"
         },
         "mode": "markers+text",
         "name": "",
         "orientation": "v",
         "showlegend": false,
         "text": [
          "Jamie Vardy",
          "Danny Ings",
          "Pierre-Emerick Aubameyang",
          "Raheem Shaquille Sterling",
          "Mohamed Salah Ghaly",
          "Sadio Mané",
          "Harry Kane",
          "Raúl Alonso Jiménez Rodríguez",
          "Marcus Rashford",
          "Anthony Martial",
          "Sergio Leonel Agüero del Castillo",
          "Tammy Bakumo-Abraham",
          "Gabriel Fernando de Jesus",
          "Chris Wood",
          "Kevin De Bruyne",
          "Dominic Calvert-Lewin",
          "Richarlison de Andrade",
          "Teemu Pukki",
          "Riyad Mahrez",
          "Heung-Min Son",
          "Michail Antonio",
          "Neal Maupay",
          "Alexandre Lacazette",
          "Mason Greenwood",
          "Troy Deeney",
          "Roberto Firmino Barbosa de Oliveira",
          "Jordan Ayew",
          "Christian Pulisic",
          "Willian Borges Da Silva",
          "Callum Wilson",
          "Jack Grealish",
          "Ayoze Pérez",
          "Olivier Giroud",
          "Jay Rodriguez",
          "Bamidele Alli",
          "Bruno Miguel Borges Fernandes",
          "Sébastien Haller",
          "Harry Wilson",
          "Diogo José Teixeira da Silva",
          "Mason Mount",
          "Todd Cantwell",
          "David Silva",
          "Bernardo Mota Veiga de Carvalho e Silva",
          "Ashley Barnes",
          "Oliver McBurnie",
          "Joshua King",
          "Mahmoud Ahmed Ibrahim Hassan",
          "Harvey Barnes",
          "James Maddison",
          "Jonjo Shelvey",
          "Lys Mousset",
          "Virgil van Dijk",
          "Phil Foden",
          "Robert Snodgrass",
          "John Fleck",
          "Leandro Trossard",
          "John Lundstram",
          "James Ward-Prowse",
          "Wesley Moraes Ferreira da Silva",
          "Nicolas Pépé",
          "Kelechi Iheanacho",
          "Stuart Armstrong",
          "Andrii Yarmolenko",
          "Ismaïla Sarr",
          "Trent Alexander-Arnold",
          "Jordan Henderson",
          "Alex Oxlade-Chamberlain",
          "Georginio Wijnaldum",
          "Che Adams",
          "Nathan Redmond",
          "Wilfried Zaha",
          "Lucas Rodrigues Moura da Silva",
          "Anwar El Ghazi",
          "Miguel Ángel Almirón Rejala",
          "Leander Dendoncker",
          "Matt Doherty",
          "Adama Traoré",
          "Marcos Alonso",
          "Scott McTominay",
          "Gerard Deulofeu",
          "Abdoulaye Doucouré",
          "Mark Noble",
          "Dwight Gayle",
          "Rodrigo Hernández Cascante",
          "Aaron Cresswell",
          "Issa Diop",
          "Luka Milivojević",
          "Lewis Dunk",
          "Billy Sharp",
          "Adam Webster",
          "Dominic Solanke",
          "Patrick van Aanholt",
          "John McGinn",
          "Conor Hourihane",
          "Douglas Luiz Soares de Paulo",
          "Ricardo Domingos Barbosa Pereira",
          "Ben Chilwell",
          "Pedro Lomba Neto",
          "Youri Tielemans",
          "Allan Saint-Maximin",
          "Daniel James",
          "N'Golo Kanté",
          "Roberto Maximiliano Pereyra",
          "Jeffrey Schlupp",
          "Aaron Anthony Connolly",
          "Junior Stanislas",
          "Tomáš Souček",
          "Andrew Robertson",
          "İlkay Gündoğan",
          "Nicolás Hernán Otamendi",
          "Pablo Fornals",
          "Angelo Ogbonna",
          "Moise Kean",
          "Michael Keane",
          "Yerry Fernando Mina González",
          "Gylfi Sigurdsson",
          "Cenk Tosun",
          "Theo Walcott",
          "Pascal Groß",
          "John Egan",
          "David McGoldrick",
          "Enda Stevens",
          "Nathan Aké",
          "Moussa Djenepo",
          "Christian Benteke Liolo",
          "Erik Lamela",
          "Moussa Sissoko",
          "Toby Alderweireld",
          "Jonathan Castro Otto",
          "Rúben Diogo da Silva Neves",
          "David Luiz Moreira Marinho",
          "Onyinye Wilfred Ndidi",
          "Romain Saïss",
          "Joelinton Cássio Apolinário de Lira",
          "Federico Fernández",
          "Matt Ritchie",
          "Fabian Schär",
          "César Azpilicueta",
          "Dwight McNeil",
          "James Tarkowski",
          "Craig Dawson",
          "Andre Gray",
          "Danny Welbeck",
          "Demarai Gray",
          "Matej Vydra",
          "Shane Long",
          "Eddie Nketiah",
          "Emiliano Buendía",
          "Josip Drmic",
          "Onel Hernández",
          "Kenny McLean",
          "Felipe Anderson Pereira Gomes",
          "Declan Rice",
          "Davy Pröpper",
          "Tom Davies",
          "Glenn Murray",
          "Oliver Norwood",
          "Philip Billing",
          "Jefferson Andrés Lerma Solís",
          "Ryan Bertrand",
          "Cheikhou Kouyaté",
          "Lucas Torreira",
          "Joseph Willock",
          "Jonny Evans",
          "João Filipe Iria Santos Moutinho",
          "Çağlar Söyüncü",
          "Sean Longstaff",
          "Jesse Lingard",
          "Andreas Hugo Hoelgebaum Pereira",
          "Paul Pogba",
          "Ross Barkley",
          "Mateo Kovačić",
          "Pedro Rodríguez Ledesma",
          "Harry Maguire",
          "Ben Mee",
          "Will Hughes",
          "Alex Iwobi",
          "Alexander Tettey",
          "Michy Batshuayi Tunga",
          "Adam Masina",
          "Yves Bissouma",
          "Kortney Hause",
          "Mbwana Ally Samatta",
          "Jarrod Bowen",
          "Manuel Lanzini",
          "Erik Pieters",
          "Lucas Digne",
          "Solly March",
          "Dale Stephens",
          "Jack O'Connell",
          "Sofiane Boufal",
          "Pierre-Emile Højbjerg",
          "Gary Cahill",
          "James McArthur",
          "Etienne Capoue",
          "Fernando Luiz Rosa",
          "Reece James"
         ],
         "textposition": "top center",
         "type": "scatter",
         "x": [
          71,
          66,
          70,
          68,
          95,
          66,
          62,
          89,
          77,
          59,
          54,
          74,
          81,
          57,
          70,
          70,
          66,
          56,
          51,
          62,
          54,
          65,
          44,
          32,
          32,
          70,
          44,
          48,
          48,
          45,
          55,
          36,
          35,
          55,
          35,
          37,
          46,
          31,
          46,
          50,
          29,
          32,
          29,
          32,
          43,
          22,
          28,
          46,
          44,
          30,
          23,
          27,
          26,
          16,
          19,
          33,
          33,
          43,
          28,
          37,
          29,
          35,
          22,
          30,
          27,
          12,
          22,
          31,
          22,
          45,
          39,
          35,
          41,
          37,
          15,
          26,
          28,
          19,
          17,
          43,
          41,
          14,
          18,
          20,
          14,
          14,
          21,
          26,
          13,
          13,
          18,
          18,
          43,
          16,
          22,
          15,
          13,
          12,
          35,
          32,
          32,
          12,
          13,
          12,
          25,
          11,
          16,
          15,
          19,
          12,
          27,
          12,
          25,
          13,
          23,
          26,
          12,
          19,
          20,
          13,
          38,
          15,
          19,
          17,
          34,
          19,
          12,
          13,
          11,
          38,
          19,
          19,
          19,
          38,
          13,
          17,
          15,
          20,
          32,
          15,
          18,
          16,
          18,
          16,
          17,
          28,
          13,
          27,
          11,
          17,
          23,
          15,
          23,
          19,
          11,
          15,
          12,
          26,
          21,
          14,
          20,
          17,
          12,
          22,
          17,
          17,
          18,
          12,
          28,
          17,
          24,
          12,
          14,
          25,
          13,
          17,
          18,
          13,
          11,
          12,
          14,
          18,
          12,
          14,
          15,
          13,
          14,
          15,
          13,
          11,
          12,
          36,
          13,
          20,
          13,
          13,
          12
         ],
         "xaxis": "x",
         "y": [
          23,
          22,
          22,
          20,
          19,
          18,
          18,
          17,
          17,
          17,
          16,
          15,
          14,
          14,
          13,
          13,
          13,
          11,
          11,
          11,
          10,
          10,
          10,
          10,
          10,
          9,
          9,
          9,
          9,
          8,
          8,
          8,
          8,
          8,
          8,
          8,
          7,
          7,
          7,
          7,
          6,
          6,
          6,
          6,
          6,
          6,
          6,
          6,
          6,
          6,
          6,
          5,
          5,
          5,
          5,
          5,
          5,
          5,
          5,
          5,
          5,
          5,
          5,
          5,
          4,
          4,
          4,
          4,
          4,
          4,
          4,
          4,
          4,
          4,
          4,
          4,
          4,
          4,
          4,
          4,
          4,
          4,
          4,
          3,
          3,
          3,
          3,
          3,
          3,
          3,
          3,
          3,
          3,
          3,
          3,
          3,
          3,
          3,
          3,
          3,
          3,
          3,
          3,
          3,
          3,
          3,
          3,
          2,
          2,
          2,
          2,
          2,
          2,
          2,
          2,
          2,
          2,
          2,
          2,
          2,
          2,
          2,
          2,
          2,
          2,
          2,
          2,
          2,
          2,
          2,
          2,
          2,
          2,
          2,
          2,
          2,
          2,
          2,
          2,
          2,
          2,
          2,
          2,
          2,
          2,
          2,
          2,
          1,
          1,
          1,
          1,
          1,
          1,
          1,
          1,
          1,
          1,
          1,
          1,
          1,
          1,
          1,
          1,
          1,
          1,
          1,
          1,
          1,
          1,
          1,
          1,
          1,
          1,
          1,
          1,
          1,
          1,
          1,
          1,
          1,
          1,
          1,
          1,
          1,
          0,
          0,
          0,
          0,
          0,
          0,
          0,
          0,
          0,
          0,
          0,
          0,
          0
         ],
         "yaxis": "y"
        }
       ],
       "layout": {
        "height": 800,
        "legend": {
         "tracegroupgap": 0
        },
        "margin": {
         "t": 60
        },
        "template": {
         "data": {
          "bar": [
           {
            "error_x": {
             "color": "#2a3f5f"
            },
            "error_y": {
             "color": "#2a3f5f"
            },
            "marker": {
             "line": {
              "color": "#E5ECF6",
              "width": 0.5
             }
            },
            "type": "bar"
           }
          ],
          "barpolar": [
           {
            "marker": {
             "line": {
              "color": "#E5ECF6",
              "width": 0.5
             }
            },
            "type": "barpolar"
           }
          ],
          "carpet": [
           {
            "aaxis": {
             "endlinecolor": "#2a3f5f",
             "gridcolor": "white",
             "linecolor": "white",
             "minorgridcolor": "white",
             "startlinecolor": "#2a3f5f"
            },
            "baxis": {
             "endlinecolor": "#2a3f5f",
             "gridcolor": "white",
             "linecolor": "white",
             "minorgridcolor": "white",
             "startlinecolor": "#2a3f5f"
            },
            "type": "carpet"
           }
          ],
          "choropleth": [
           {
            "colorbar": {
             "outlinewidth": 0,
             "ticks": ""
            },
            "type": "choropleth"
           }
          ],
          "contour": [
           {
            "colorbar": {
             "outlinewidth": 0,
             "ticks": ""
            },
            "colorscale": [
             [
              0,
              "#0d0887"
             ],
             [
              0.1111111111111111,
              "#46039f"
             ],
             [
              0.2222222222222222,
              "#7201a8"
             ],
             [
              0.3333333333333333,
              "#9c179e"
             ],
             [
              0.4444444444444444,
              "#bd3786"
             ],
             [
              0.5555555555555556,
              "#d8576b"
             ],
             [
              0.6666666666666666,
              "#ed7953"
             ],
             [
              0.7777777777777778,
              "#fb9f3a"
             ],
             [
              0.8888888888888888,
              "#fdca26"
             ],
             [
              1,
              "#f0f921"
             ]
            ],
            "type": "contour"
           }
          ],
          "contourcarpet": [
           {
            "colorbar": {
             "outlinewidth": 0,
             "ticks": ""
            },
            "type": "contourcarpet"
           }
          ],
          "heatmap": [
           {
            "colorbar": {
             "outlinewidth": 0,
             "ticks": ""
            },
            "colorscale": [
             [
              0,
              "#0d0887"
             ],
             [
              0.1111111111111111,
              "#46039f"
             ],
             [
              0.2222222222222222,
              "#7201a8"
             ],
             [
              0.3333333333333333,
              "#9c179e"
             ],
             [
              0.4444444444444444,
              "#bd3786"
             ],
             [
              0.5555555555555556,
              "#d8576b"
             ],
             [
              0.6666666666666666,
              "#ed7953"
             ],
             [
              0.7777777777777778,
              "#fb9f3a"
             ],
             [
              0.8888888888888888,
              "#fdca26"
             ],
             [
              1,
              "#f0f921"
             ]
            ],
            "type": "heatmap"
           }
          ],
          "heatmapgl": [
           {
            "colorbar": {
             "outlinewidth": 0,
             "ticks": ""
            },
            "colorscale": [
             [
              0,
              "#0d0887"
             ],
             [
              0.1111111111111111,
              "#46039f"
             ],
             [
              0.2222222222222222,
              "#7201a8"
             ],
             [
              0.3333333333333333,
              "#9c179e"
             ],
             [
              0.4444444444444444,
              "#bd3786"
             ],
             [
              0.5555555555555556,
              "#d8576b"
             ],
             [
              0.6666666666666666,
              "#ed7953"
             ],
             [
              0.7777777777777778,
              "#fb9f3a"
             ],
             [
              0.8888888888888888,
              "#fdca26"
             ],
             [
              1,
              "#f0f921"
             ]
            ],
            "type": "heatmapgl"
           }
          ],
          "histogram": [
           {
            "marker": {
             "colorbar": {
              "outlinewidth": 0,
              "ticks": ""
             }
            },
            "type": "histogram"
           }
          ],
          "histogram2d": [
           {
            "colorbar": {
             "outlinewidth": 0,
             "ticks": ""
            },
            "colorscale": [
             [
              0,
              "#0d0887"
             ],
             [
              0.1111111111111111,
              "#46039f"
             ],
             [
              0.2222222222222222,
              "#7201a8"
             ],
             [
              0.3333333333333333,
              "#9c179e"
             ],
             [
              0.4444444444444444,
              "#bd3786"
             ],
             [
              0.5555555555555556,
              "#d8576b"
             ],
             [
              0.6666666666666666,
              "#ed7953"
             ],
             [
              0.7777777777777778,
              "#fb9f3a"
             ],
             [
              0.8888888888888888,
              "#fdca26"
             ],
             [
              1,
              "#f0f921"
             ]
            ],
            "type": "histogram2d"
           }
          ],
          "histogram2dcontour": [
           {
            "colorbar": {
             "outlinewidth": 0,
             "ticks": ""
            },
            "colorscale": [
             [
              0,
              "#0d0887"
             ],
             [
              0.1111111111111111,
              "#46039f"
             ],
             [
              0.2222222222222222,
              "#7201a8"
             ],
             [
              0.3333333333333333,
              "#9c179e"
             ],
             [
              0.4444444444444444,
              "#bd3786"
             ],
             [
              0.5555555555555556,
              "#d8576b"
             ],
             [
              0.6666666666666666,
              "#ed7953"
             ],
             [
              0.7777777777777778,
              "#fb9f3a"
             ],
             [
              0.8888888888888888,
              "#fdca26"
             ],
             [
              1,
              "#f0f921"
             ]
            ],
            "type": "histogram2dcontour"
           }
          ],
          "mesh3d": [
           {
            "colorbar": {
             "outlinewidth": 0,
             "ticks": ""
            },
            "type": "mesh3d"
           }
          ],
          "parcoords": [
           {
            "line": {
             "colorbar": {
              "outlinewidth": 0,
              "ticks": ""
             }
            },
            "type": "parcoords"
           }
          ],
          "pie": [
           {
            "automargin": true,
            "type": "pie"
           }
          ],
          "scatter": [
           {
            "marker": {
             "colorbar": {
              "outlinewidth": 0,
              "ticks": ""
             }
            },
            "type": "scatter"
           }
          ],
          "scatter3d": [
           {
            "line": {
             "colorbar": {
              "outlinewidth": 0,
              "ticks": ""
             }
            },
            "marker": {
             "colorbar": {
              "outlinewidth": 0,
              "ticks": ""
             }
            },
            "type": "scatter3d"
           }
          ],
          "scattercarpet": [
           {
            "marker": {
             "colorbar": {
              "outlinewidth": 0,
              "ticks": ""
             }
            },
            "type": "scattercarpet"
           }
          ],
          "scattergeo": [
           {
            "marker": {
             "colorbar": {
              "outlinewidth": 0,
              "ticks": ""
             }
            },
            "type": "scattergeo"
           }
          ],
          "scattergl": [
           {
            "marker": {
             "colorbar": {
              "outlinewidth": 0,
              "ticks": ""
             }
            },
            "type": "scattergl"
           }
          ],
          "scattermapbox": [
           {
            "marker": {
             "colorbar": {
              "outlinewidth": 0,
              "ticks": ""
             }
            },
            "type": "scattermapbox"
           }
          ],
          "scatterpolar": [
           {
            "marker": {
             "colorbar": {
              "outlinewidth": 0,
              "ticks": ""
             }
            },
            "type": "scatterpolar"
           }
          ],
          "scatterpolargl": [
           {
            "marker": {
             "colorbar": {
              "outlinewidth": 0,
              "ticks": ""
             }
            },
            "type": "scatterpolargl"
           }
          ],
          "scatterternary": [
           {
            "marker": {
             "colorbar": {
              "outlinewidth": 0,
              "ticks": ""
             }
            },
            "type": "scatterternary"
           }
          ],
          "surface": [
           {
            "colorbar": {
             "outlinewidth": 0,
             "ticks": ""
            },
            "colorscale": [
             [
              0,
              "#0d0887"
             ],
             [
              0.1111111111111111,
              "#46039f"
             ],
             [
              0.2222222222222222,
              "#7201a8"
             ],
             [
              0.3333333333333333,
              "#9c179e"
             ],
             [
              0.4444444444444444,
              "#bd3786"
             ],
             [
              0.5555555555555556,
              "#d8576b"
             ],
             [
              0.6666666666666666,
              "#ed7953"
             ],
             [
              0.7777777777777778,
              "#fb9f3a"
             ],
             [
              0.8888888888888888,
              "#fdca26"
             ],
             [
              1,
              "#f0f921"
             ]
            ],
            "type": "surface"
           }
          ],
          "table": [
           {
            "cells": {
             "fill": {
              "color": "#EBF0F8"
             },
             "line": {
              "color": "white"
             }
            },
            "header": {
             "fill": {
              "color": "#C8D4E3"
             },
             "line": {
              "color": "white"
             }
            },
            "type": "table"
           }
          ]
         },
         "layout": {
          "annotationdefaults": {
           "arrowcolor": "#2a3f5f",
           "arrowhead": 0,
           "arrowwidth": 1
          },
          "coloraxis": {
           "colorbar": {
            "outlinewidth": 0,
            "ticks": ""
           }
          },
          "colorscale": {
           "diverging": [
            [
             0,
             "#8e0152"
            ],
            [
             0.1,
             "#c51b7d"
            ],
            [
             0.2,
             "#de77ae"
            ],
            [
             0.3,
             "#f1b6da"
            ],
            [
             0.4,
             "#fde0ef"
            ],
            [
             0.5,
             "#f7f7f7"
            ],
            [
             0.6,
             "#e6f5d0"
            ],
            [
             0.7,
             "#b8e186"
            ],
            [
             0.8,
             "#7fbc41"
            ],
            [
             0.9,
             "#4d9221"
            ],
            [
             1,
             "#276419"
            ]
           ],
           "sequential": [
            [
             0,
             "#0d0887"
            ],
            [
             0.1111111111111111,
             "#46039f"
            ],
            [
             0.2222222222222222,
             "#7201a8"
            ],
            [
             0.3333333333333333,
             "#9c179e"
            ],
            [
             0.4444444444444444,
             "#bd3786"
            ],
            [
             0.5555555555555556,
             "#d8576b"
            ],
            [
             0.6666666666666666,
             "#ed7953"
            ],
            [
             0.7777777777777778,
             "#fb9f3a"
            ],
            [
             0.8888888888888888,
             "#fdca26"
            ],
            [
             1,
             "#f0f921"
            ]
           ],
           "sequentialminus": [
            [
             0,
             "#0d0887"
            ],
            [
             0.1111111111111111,
             "#46039f"
            ],
            [
             0.2222222222222222,
             "#7201a8"
            ],
            [
             0.3333333333333333,
             "#9c179e"
            ],
            [
             0.4444444444444444,
             "#bd3786"
            ],
            [
             0.5555555555555556,
             "#d8576b"
            ],
            [
             0.6666666666666666,
             "#ed7953"
            ],
            [
             0.7777777777777778,
             "#fb9f3a"
            ],
            [
             0.8888888888888888,
             "#fdca26"
            ],
            [
             1,
             "#f0f921"
            ]
           ]
          },
          "colorway": [
           "#636efa",
           "#EF553B",
           "#00cc96",
           "#ab63fa",
           "#FFA15A",
           "#19d3f3",
           "#FF6692",
           "#B6E880",
           "#FF97FF",
           "#FECB52"
          ],
          "font": {
           "color": "#2a3f5f"
          },
          "geo": {
           "bgcolor": "white",
           "lakecolor": "white",
           "landcolor": "#E5ECF6",
           "showlakes": true,
           "showland": true,
           "subunitcolor": "white"
          },
          "hoverlabel": {
           "align": "left"
          },
          "hovermode": "closest",
          "mapbox": {
           "style": "light"
          },
          "paper_bgcolor": "white",
          "plot_bgcolor": "#E5ECF6",
          "polar": {
           "angularaxis": {
            "gridcolor": "white",
            "linecolor": "white",
            "ticks": ""
           },
           "bgcolor": "#E5ECF6",
           "radialaxis": {
            "gridcolor": "white",
            "linecolor": "white",
            "ticks": ""
           }
          },
          "scene": {
           "xaxis": {
            "backgroundcolor": "#E5ECF6",
            "gridcolor": "white",
            "gridwidth": 2,
            "linecolor": "white",
            "showbackground": true,
            "ticks": "",
            "zerolinecolor": "white"
           },
           "yaxis": {
            "backgroundcolor": "#E5ECF6",
            "gridcolor": "white",
            "gridwidth": 2,
            "linecolor": "white",
            "showbackground": true,
            "ticks": "",
            "zerolinecolor": "white"
           },
           "zaxis": {
            "backgroundcolor": "#E5ECF6",
            "gridcolor": "white",
            "gridwidth": 2,
            "linecolor": "white",
            "showbackground": true,
            "ticks": "",
            "zerolinecolor": "white"
           }
          },
          "shapedefaults": {
           "line": {
            "color": "#2a3f5f"
           }
          },
          "ternary": {
           "aaxis": {
            "gridcolor": "white",
            "linecolor": "white",
            "ticks": ""
           },
           "baxis": {
            "gridcolor": "white",
            "linecolor": "white",
            "ticks": ""
           },
           "bgcolor": "#E5ECF6",
           "caxis": {
            "gridcolor": "white",
            "linecolor": "white",
            "ticks": ""
           }
          },
          "title": {
           "x": 0.05
          },
          "xaxis": {
           "automargin": true,
           "gridcolor": "white",
           "linecolor": "white",
           "ticks": "",
           "title": {
            "standoff": 15
           },
           "zerolinecolor": "white",
           "zerolinewidth": 2
          },
          "yaxis": {
           "automargin": true,
           "gridcolor": "white",
           "linecolor": "white",
           "ticks": "",
           "title": {
            "standoff": 15
           },
           "zerolinecolor": "white",
           "zerolinewidth": 2
          }
         }
        },
        "title": {
         "text": "Scatter of shots and goals"
        },
        "xaxis": {
         "anchor": "y",
         "domain": [
          0,
          1
         ],
         "title": {
          "text": "SHOTS"
         },
         "type": "log"
        },
        "yaxis": {
         "anchor": "x",
         "domain": [
          0,
          1
         ],
         "title": {
          "text": "GOALS"
         }
        }
       }
      }
     },
     "metadata": {}
    }
   ],
   "source": [
    "plotlyScatter(df,'SHOTS','GOALS','PLAYER','Scatter of shots and goals')"
   ]
  },
  {
   "cell_type": "markdown",
   "metadata": {},
   "source": [
    "## Scatter of shots on goal and goals to observe who are the most efficient players"
   ]
  },
  {
   "cell_type": "code",
   "execution_count": 12,
   "metadata": {},
   "outputs": [
    {
     "data": {
      "application/vnd.plotly.v1+json": {
       "config": {
        "plotlyServerURL": "https://plot.ly"
       },
       "data": [
        {
         "hovertemplate": "SHOTS ON GOAL=%{x}<br>GOALS=%{y}<br>PLAYER=%{text}<extra></extra>",
         "legendgroup": "",
         "marker": {
          "color": "#636efa",
          "symbol": "circle"
         },
         "mode": "markers+text",
         "name": "",
         "orientation": "v",
         "showlegend": false,
         "text": [
          "Jamie Vardy",
          "Danny Ings",
          "Pierre-Emerick Aubameyang",
          "Raheem Shaquille Sterling",
          "Mohamed Salah Ghaly",
          "Sadio Mané",
          "Harry Kane",
          "Raúl Alonso Jiménez Rodríguez",
          "Marcus Rashford",
          "Anthony Martial",
          "Sergio Leonel Agüero del Castillo",
          "Tammy Bakumo-Abraham",
          "Gabriel Fernando de Jesus",
          "Chris Wood",
          "Kevin De Bruyne",
          "Dominic Calvert-Lewin",
          "Richarlison de Andrade",
          "Teemu Pukki",
          "Riyad Mahrez",
          "Heung-Min Son",
          "Michail Antonio",
          "Neal Maupay",
          "Alexandre Lacazette",
          "Mason Greenwood",
          "Troy Deeney",
          "Roberto Firmino Barbosa de Oliveira",
          "Jordan Ayew",
          "Christian Pulisic",
          "Willian Borges Da Silva",
          "Callum Wilson",
          "Jack Grealish",
          "Ayoze Pérez",
          "Olivier Giroud",
          "Jay Rodriguez",
          "Bamidele Alli",
          "Bruno Miguel Borges Fernandes",
          "Sébastien Haller",
          "Harry Wilson",
          "Diogo José Teixeira da Silva",
          "Mason Mount",
          "Todd Cantwell",
          "David Silva",
          "Bernardo Mota Veiga de Carvalho e Silva",
          "Ashley Barnes",
          "Oliver McBurnie",
          "Joshua King",
          "Mahmoud Ahmed Ibrahim Hassan",
          "Harvey Barnes",
          "James Maddison",
          "Jonjo Shelvey",
          "Lys Mousset",
          "Virgil van Dijk",
          "Phil Foden",
          "Robert Snodgrass",
          "John Fleck",
          "Leandro Trossard",
          "John Lundstram",
          "James Ward-Prowse",
          "Wesley Moraes Ferreira da Silva",
          "Nicolas Pépé",
          "Kelechi Iheanacho",
          "Stuart Armstrong",
          "Andrii Yarmolenko",
          "Ismaïla Sarr",
          "Trent Alexander-Arnold",
          "Jordan Henderson",
          "Alex Oxlade-Chamberlain",
          "Georginio Wijnaldum",
          "Che Adams",
          "Nathan Redmond",
          "Wilfried Zaha",
          "Lucas Rodrigues Moura da Silva",
          "Anwar El Ghazi",
          "Miguel Ángel Almirón Rejala",
          "Leander Dendoncker",
          "Matt Doherty",
          "Adama Traoré",
          "Marcos Alonso",
          "Scott McTominay",
          "Gerard Deulofeu",
          "Abdoulaye Doucouré",
          "Mark Noble",
          "Dwight Gayle",
          "Rodrigo Hernández Cascante",
          "Aaron Cresswell",
          "Issa Diop",
          "Luka Milivojević",
          "Lewis Dunk",
          "Billy Sharp",
          "Adam Webster",
          "Dominic Solanke",
          "Patrick van Aanholt",
          "John McGinn",
          "Conor Hourihane",
          "Douglas Luiz Soares de Paulo",
          "Ricardo Domingos Barbosa Pereira",
          "Ben Chilwell",
          "Pedro Lomba Neto",
          "Youri Tielemans",
          "Allan Saint-Maximin",
          "Daniel James",
          "N'Golo Kanté",
          "Roberto Maximiliano Pereyra",
          "Jeffrey Schlupp",
          "Aaron Anthony Connolly",
          "Junior Stanislas",
          "Tomáš Souček",
          "Andrew Robertson",
          "İlkay Gündoğan",
          "Nicolás Hernán Otamendi",
          "Pablo Fornals",
          "Angelo Ogbonna",
          "Moise Kean",
          "Michael Keane",
          "Yerry Fernando Mina González",
          "Gylfi Sigurdsson",
          "Cenk Tosun",
          "Theo Walcott",
          "Pascal Groß",
          "John Egan",
          "David McGoldrick",
          "Enda Stevens",
          "Nathan Aké",
          "Moussa Djenepo",
          "Christian Benteke Liolo",
          "Erik Lamela",
          "Moussa Sissoko",
          "Toby Alderweireld",
          "Jonathan Castro Otto",
          "Rúben Diogo da Silva Neves",
          "David Luiz Moreira Marinho",
          "Onyinye Wilfred Ndidi",
          "Romain Saïss",
          "Joelinton Cássio Apolinário de Lira",
          "Federico Fernández",
          "Matt Ritchie",
          "Fabian Schär",
          "César Azpilicueta",
          "Dwight McNeil",
          "James Tarkowski",
          "Craig Dawson",
          "Andre Gray",
          "Danny Welbeck",
          "Demarai Gray",
          "Matej Vydra",
          "Shane Long",
          "Eddie Nketiah",
          "Emiliano Buendía",
          "Josip Drmic",
          "Onel Hernández",
          "Kenny McLean",
          "Felipe Anderson Pereira Gomes",
          "Declan Rice",
          "Davy Pröpper",
          "Tom Davies",
          "Glenn Murray",
          "Oliver Norwood",
          "Philip Billing",
          "Jefferson Andrés Lerma Solís",
          "Ryan Bertrand",
          "Cheikhou Kouyaté",
          "Lucas Torreira",
          "Joseph Willock",
          "Jonny Evans",
          "João Filipe Iria Santos Moutinho",
          "Çağlar Söyüncü",
          "Sean Longstaff",
          "Jesse Lingard",
          "Andreas Hugo Hoelgebaum Pereira",
          "Paul Pogba",
          "Ross Barkley",
          "Mateo Kovačić",
          "Pedro Rodríguez Ledesma",
          "Harry Maguire",
          "Ben Mee",
          "Will Hughes",
          "Alex Iwobi",
          "Alexander Tettey",
          "Michy Batshuayi Tunga",
          "Adam Masina",
          "Yves Bissouma",
          "Kortney Hause",
          "Mbwana Ally Samatta",
          "Jarrod Bowen",
          "Manuel Lanzini",
          "Erik Pieters",
          "Lucas Digne",
          "Solly March",
          "Dale Stephens",
          "Jack O'Connell",
          "Sofiane Boufal",
          "Pierre-Emile Højbjerg",
          "Gary Cahill",
          "James McArthur",
          "Etienne Capoue",
          "Fernando Luiz Rosa",
          "Reece James"
         ],
         "textposition": "top center",
         "type": "scatter",
         "x": [
          43,
          38,
          42,
          38,
          59,
          36,
          37,
          44,
          44,
          40,
          28,
          40,
          48,
          31,
          31,
          38,
          32,
          35,
          32,
          38,
          31,
          38,
          26,
          20,
          23,
          39,
          24,
          26,
          29,
          21,
          23,
          22,
          19,
          30,
          19,
          18,
          27,
          20,
          26,
          29,
          16,
          18,
          15,
          12,
          25,
          13,
          17,
          28,
          18,
          14,
          9,
          16,
          15,
          10,
          11,
          12,
          10,
          26,
          18,
          18,
          20,
          20,
          13,
          13,
          13,
          8,
          10,
          15,
          10,
          21,
          17,
          14,
          20,
          17,
          5,
          16,
          12,
          8,
          10,
          21,
          12,
          6,
          10,
          9,
          5,
          7,
          9,
          10,
          7,
          7,
          8,
          6,
          20,
          10,
          12,
          5,
          6,
          6,
          13,
          21,
          20,
          6,
          9,
          10,
          14,
          7,
          8,
          6,
          8,
          7,
          11,
          4,
          13,
          4,
          11,
          14,
          5,
          10,
          9,
          5,
          20,
          4,
          7,
          8,
          19,
          10,
          4,
          4,
          5,
          10,
          8,
          3,
          8,
          15,
          7,
          8,
          6,
          6,
          14,
          5,
          7,
          7,
          9,
          8,
          10,
          14,
          5,
          11,
          6,
          8,
          10,
          8,
          9,
          8,
          5,
          5,
          6,
          8,
          2,
          3,
          4,
          6,
          5,
          8,
          6,
          5,
          7,
          6,
          14,
          8,
          12,
          5,
          10,
          8,
          7,
          3,
          10,
          4,
          2,
          3,
          7,
          3,
          3,
          7,
          7,
          3,
          4,
          8,
          2,
          3,
          7,
          11,
          5,
          6,
          1,
          2,
          3
         ],
         "xaxis": "x",
         "y": [
          23,
          22,
          22,
          20,
          19,
          18,
          18,
          17,
          17,
          17,
          16,
          15,
          14,
          14,
          13,
          13,
          13,
          11,
          11,
          11,
          10,
          10,
          10,
          10,
          10,
          9,
          9,
          9,
          9,
          8,
          8,
          8,
          8,
          8,
          8,
          8,
          7,
          7,
          7,
          7,
          6,
          6,
          6,
          6,
          6,
          6,
          6,
          6,
          6,
          6,
          6,
          5,
          5,
          5,
          5,
          5,
          5,
          5,
          5,
          5,
          5,
          5,
          5,
          5,
          4,
          4,
          4,
          4,
          4,
          4,
          4,
          4,
          4,
          4,
          4,
          4,
          4,
          4,
          4,
          4,
          4,
          4,
          4,
          3,
          3,
          3,
          3,
          3,
          3,
          3,
          3,
          3,
          3,
          3,
          3,
          3,
          3,
          3,
          3,
          3,
          3,
          3,
          3,
          3,
          3,
          3,
          3,
          2,
          2,
          2,
          2,
          2,
          2,
          2,
          2,
          2,
          2,
          2,
          2,
          2,
          2,
          2,
          2,
          2,
          2,
          2,
          2,
          2,
          2,
          2,
          2,
          2,
          2,
          2,
          2,
          2,
          2,
          2,
          2,
          2,
          2,
          2,
          2,
          2,
          2,
          2,
          2,
          1,
          1,
          1,
          1,
          1,
          1,
          1,
          1,
          1,
          1,
          1,
          1,
          1,
          1,
          1,
          1,
          1,
          1,
          1,
          1,
          1,
          1,
          1,
          1,
          1,
          1,
          1,
          1,
          1,
          1,
          1,
          1,
          1,
          1,
          1,
          1,
          1,
          0,
          0,
          0,
          0,
          0,
          0,
          0,
          0,
          0,
          0,
          0,
          0,
          0
         ],
         "yaxis": "y"
        }
       ],
       "layout": {
        "height": 800,
        "legend": {
         "tracegroupgap": 0
        },
        "margin": {
         "t": 60
        },
        "template": {
         "data": {
          "bar": [
           {
            "error_x": {
             "color": "#2a3f5f"
            },
            "error_y": {
             "color": "#2a3f5f"
            },
            "marker": {
             "line": {
              "color": "#E5ECF6",
              "width": 0.5
             }
            },
            "type": "bar"
           }
          ],
          "barpolar": [
           {
            "marker": {
             "line": {
              "color": "#E5ECF6",
              "width": 0.5
             }
            },
            "type": "barpolar"
           }
          ],
          "carpet": [
           {
            "aaxis": {
             "endlinecolor": "#2a3f5f",
             "gridcolor": "white",
             "linecolor": "white",
             "minorgridcolor": "white",
             "startlinecolor": "#2a3f5f"
            },
            "baxis": {
             "endlinecolor": "#2a3f5f",
             "gridcolor": "white",
             "linecolor": "white",
             "minorgridcolor": "white",
             "startlinecolor": "#2a3f5f"
            },
            "type": "carpet"
           }
          ],
          "choropleth": [
           {
            "colorbar": {
             "outlinewidth": 0,
             "ticks": ""
            },
            "type": "choropleth"
           }
          ],
          "contour": [
           {
            "colorbar": {
             "outlinewidth": 0,
             "ticks": ""
            },
            "colorscale": [
             [
              0,
              "#0d0887"
             ],
             [
              0.1111111111111111,
              "#46039f"
             ],
             [
              0.2222222222222222,
              "#7201a8"
             ],
             [
              0.3333333333333333,
              "#9c179e"
             ],
             [
              0.4444444444444444,
              "#bd3786"
             ],
             [
              0.5555555555555556,
              "#d8576b"
             ],
             [
              0.6666666666666666,
              "#ed7953"
             ],
             [
              0.7777777777777778,
              "#fb9f3a"
             ],
             [
              0.8888888888888888,
              "#fdca26"
             ],
             [
              1,
              "#f0f921"
             ]
            ],
            "type": "contour"
           }
          ],
          "contourcarpet": [
           {
            "colorbar": {
             "outlinewidth": 0,
             "ticks": ""
            },
            "type": "contourcarpet"
           }
          ],
          "heatmap": [
           {
            "colorbar": {
             "outlinewidth": 0,
             "ticks": ""
            },
            "colorscale": [
             [
              0,
              "#0d0887"
             ],
             [
              0.1111111111111111,
              "#46039f"
             ],
             [
              0.2222222222222222,
              "#7201a8"
             ],
             [
              0.3333333333333333,
              "#9c179e"
             ],
             [
              0.4444444444444444,
              "#bd3786"
             ],
             [
              0.5555555555555556,
              "#d8576b"
             ],
             [
              0.6666666666666666,
              "#ed7953"
             ],
             [
              0.7777777777777778,
              "#fb9f3a"
             ],
             [
              0.8888888888888888,
              "#fdca26"
             ],
             [
              1,
              "#f0f921"
             ]
            ],
            "type": "heatmap"
           }
          ],
          "heatmapgl": [
           {
            "colorbar": {
             "outlinewidth": 0,
             "ticks": ""
            },
            "colorscale": [
             [
              0,
              "#0d0887"
             ],
             [
              0.1111111111111111,
              "#46039f"
             ],
             [
              0.2222222222222222,
              "#7201a8"
             ],
             [
              0.3333333333333333,
              "#9c179e"
             ],
             [
              0.4444444444444444,
              "#bd3786"
             ],
             [
              0.5555555555555556,
              "#d8576b"
             ],
             [
              0.6666666666666666,
              "#ed7953"
             ],
             [
              0.7777777777777778,
              "#fb9f3a"
             ],
             [
              0.8888888888888888,
              "#fdca26"
             ],
             [
              1,
              "#f0f921"
             ]
            ],
            "type": "heatmapgl"
           }
          ],
          "histogram": [
           {
            "marker": {
             "colorbar": {
              "outlinewidth": 0,
              "ticks": ""
             }
            },
            "type": "histogram"
           }
          ],
          "histogram2d": [
           {
            "colorbar": {
             "outlinewidth": 0,
             "ticks": ""
            },
            "colorscale": [
             [
              0,
              "#0d0887"
             ],
             [
              0.1111111111111111,
              "#46039f"
             ],
             [
              0.2222222222222222,
              "#7201a8"
             ],
             [
              0.3333333333333333,
              "#9c179e"
             ],
             [
              0.4444444444444444,
              "#bd3786"
             ],
             [
              0.5555555555555556,
              "#d8576b"
             ],
             [
              0.6666666666666666,
              "#ed7953"
             ],
             [
              0.7777777777777778,
              "#fb9f3a"
             ],
             [
              0.8888888888888888,
              "#fdca26"
             ],
             [
              1,
              "#f0f921"
             ]
            ],
            "type": "histogram2d"
           }
          ],
          "histogram2dcontour": [
           {
            "colorbar": {
             "outlinewidth": 0,
             "ticks": ""
            },
            "colorscale": [
             [
              0,
              "#0d0887"
             ],
             [
              0.1111111111111111,
              "#46039f"
             ],
             [
              0.2222222222222222,
              "#7201a8"
             ],
             [
              0.3333333333333333,
              "#9c179e"
             ],
             [
              0.4444444444444444,
              "#bd3786"
             ],
             [
              0.5555555555555556,
              "#d8576b"
             ],
             [
              0.6666666666666666,
              "#ed7953"
             ],
             [
              0.7777777777777778,
              "#fb9f3a"
             ],
             [
              0.8888888888888888,
              "#fdca26"
             ],
             [
              1,
              "#f0f921"
             ]
            ],
            "type": "histogram2dcontour"
           }
          ],
          "mesh3d": [
           {
            "colorbar": {
             "outlinewidth": 0,
             "ticks": ""
            },
            "type": "mesh3d"
           }
          ],
          "parcoords": [
           {
            "line": {
             "colorbar": {
              "outlinewidth": 0,
              "ticks": ""
             }
            },
            "type": "parcoords"
           }
          ],
          "pie": [
           {
            "automargin": true,
            "type": "pie"
           }
          ],
          "scatter": [
           {
            "marker": {
             "colorbar": {
              "outlinewidth": 0,
              "ticks": ""
             }
            },
            "type": "scatter"
           }
          ],
          "scatter3d": [
           {
            "line": {
             "colorbar": {
              "outlinewidth": 0,
              "ticks": ""
             }
            },
            "marker": {
             "colorbar": {
              "outlinewidth": 0,
              "ticks": ""
             }
            },
            "type": "scatter3d"
           }
          ],
          "scattercarpet": [
           {
            "marker": {
             "colorbar": {
              "outlinewidth": 0,
              "ticks": ""
             }
            },
            "type": "scattercarpet"
           }
          ],
          "scattergeo": [
           {
            "marker": {
             "colorbar": {
              "outlinewidth": 0,
              "ticks": ""
             }
            },
            "type": "scattergeo"
           }
          ],
          "scattergl": [
           {
            "marker": {
             "colorbar": {
              "outlinewidth": 0,
              "ticks": ""
             }
            },
            "type": "scattergl"
           }
          ],
          "scattermapbox": [
           {
            "marker": {
             "colorbar": {
              "outlinewidth": 0,
              "ticks": ""
             }
            },
            "type": "scattermapbox"
           }
          ],
          "scatterpolar": [
           {
            "marker": {
             "colorbar": {
              "outlinewidth": 0,
              "ticks": ""
             }
            },
            "type": "scatterpolar"
           }
          ],
          "scatterpolargl": [
           {
            "marker": {
             "colorbar": {
              "outlinewidth": 0,
              "ticks": ""
             }
            },
            "type": "scatterpolargl"
           }
          ],
          "scatterternary": [
           {
            "marker": {
             "colorbar": {
              "outlinewidth": 0,
              "ticks": ""
             }
            },
            "type": "scatterternary"
           }
          ],
          "surface": [
           {
            "colorbar": {
             "outlinewidth": 0,
             "ticks": ""
            },
            "colorscale": [
             [
              0,
              "#0d0887"
             ],
             [
              0.1111111111111111,
              "#46039f"
             ],
             [
              0.2222222222222222,
              "#7201a8"
             ],
             [
              0.3333333333333333,
              "#9c179e"
             ],
             [
              0.4444444444444444,
              "#bd3786"
             ],
             [
              0.5555555555555556,
              "#d8576b"
             ],
             [
              0.6666666666666666,
              "#ed7953"
             ],
             [
              0.7777777777777778,
              "#fb9f3a"
             ],
             [
              0.8888888888888888,
              "#fdca26"
             ],
             [
              1,
              "#f0f921"
             ]
            ],
            "type": "surface"
           }
          ],
          "table": [
           {
            "cells": {
             "fill": {
              "color": "#EBF0F8"
             },
             "line": {
              "color": "white"
             }
            },
            "header": {
             "fill": {
              "color": "#C8D4E3"
             },
             "line": {
              "color": "white"
             }
            },
            "type": "table"
           }
          ]
         },
         "layout": {
          "annotationdefaults": {
           "arrowcolor": "#2a3f5f",
           "arrowhead": 0,
           "arrowwidth": 1
          },
          "coloraxis": {
           "colorbar": {
            "outlinewidth": 0,
            "ticks": ""
           }
          },
          "colorscale": {
           "diverging": [
            [
             0,
             "#8e0152"
            ],
            [
             0.1,
             "#c51b7d"
            ],
            [
             0.2,
             "#de77ae"
            ],
            [
             0.3,
             "#f1b6da"
            ],
            [
             0.4,
             "#fde0ef"
            ],
            [
             0.5,
             "#f7f7f7"
            ],
            [
             0.6,
             "#e6f5d0"
            ],
            [
             0.7,
             "#b8e186"
            ],
            [
             0.8,
             "#7fbc41"
            ],
            [
             0.9,
             "#4d9221"
            ],
            [
             1,
             "#276419"
            ]
           ],
           "sequential": [
            [
             0,
             "#0d0887"
            ],
            [
             0.1111111111111111,
             "#46039f"
            ],
            [
             0.2222222222222222,
             "#7201a8"
            ],
            [
             0.3333333333333333,
             "#9c179e"
            ],
            [
             0.4444444444444444,
             "#bd3786"
            ],
            [
             0.5555555555555556,
             "#d8576b"
            ],
            [
             0.6666666666666666,
             "#ed7953"
            ],
            [
             0.7777777777777778,
             "#fb9f3a"
            ],
            [
             0.8888888888888888,
             "#fdca26"
            ],
            [
             1,
             "#f0f921"
            ]
           ],
           "sequentialminus": [
            [
             0,
             "#0d0887"
            ],
            [
             0.1111111111111111,
             "#46039f"
            ],
            [
             0.2222222222222222,
             "#7201a8"
            ],
            [
             0.3333333333333333,
             "#9c179e"
            ],
            [
             0.4444444444444444,
             "#bd3786"
            ],
            [
             0.5555555555555556,
             "#d8576b"
            ],
            [
             0.6666666666666666,
             "#ed7953"
            ],
            [
             0.7777777777777778,
             "#fb9f3a"
            ],
            [
             0.8888888888888888,
             "#fdca26"
            ],
            [
             1,
             "#f0f921"
            ]
           ]
          },
          "colorway": [
           "#636efa",
           "#EF553B",
           "#00cc96",
           "#ab63fa",
           "#FFA15A",
           "#19d3f3",
           "#FF6692",
           "#B6E880",
           "#FF97FF",
           "#FECB52"
          ],
          "font": {
           "color": "#2a3f5f"
          },
          "geo": {
           "bgcolor": "white",
           "lakecolor": "white",
           "landcolor": "#E5ECF6",
           "showlakes": true,
           "showland": true,
           "subunitcolor": "white"
          },
          "hoverlabel": {
           "align": "left"
          },
          "hovermode": "closest",
          "mapbox": {
           "style": "light"
          },
          "paper_bgcolor": "white",
          "plot_bgcolor": "#E5ECF6",
          "polar": {
           "angularaxis": {
            "gridcolor": "white",
            "linecolor": "white",
            "ticks": ""
           },
           "bgcolor": "#E5ECF6",
           "radialaxis": {
            "gridcolor": "white",
            "linecolor": "white",
            "ticks": ""
           }
          },
          "scene": {
           "xaxis": {
            "backgroundcolor": "#E5ECF6",
            "gridcolor": "white",
            "gridwidth": 2,
            "linecolor": "white",
            "showbackground": true,
            "ticks": "",
            "zerolinecolor": "white"
           },
           "yaxis": {
            "backgroundcolor": "#E5ECF6",
            "gridcolor": "white",
            "gridwidth": 2,
            "linecolor": "white",
            "showbackground": true,
            "ticks": "",
            "zerolinecolor": "white"
           },
           "zaxis": {
            "backgroundcolor": "#E5ECF6",
            "gridcolor": "white",
            "gridwidth": 2,
            "linecolor": "white",
            "showbackground": true,
            "ticks": "",
            "zerolinecolor": "white"
           }
          },
          "shapedefaults": {
           "line": {
            "color": "#2a3f5f"
           }
          },
          "ternary": {
           "aaxis": {
            "gridcolor": "white",
            "linecolor": "white",
            "ticks": ""
           },
           "baxis": {
            "gridcolor": "white",
            "linecolor": "white",
            "ticks": ""
           },
           "bgcolor": "#E5ECF6",
           "caxis": {
            "gridcolor": "white",
            "linecolor": "white",
            "ticks": ""
           }
          },
          "title": {
           "x": 0.05
          },
          "xaxis": {
           "automargin": true,
           "gridcolor": "white",
           "linecolor": "white",
           "ticks": "",
           "title": {
            "standoff": 15
           },
           "zerolinecolor": "white",
           "zerolinewidth": 2
          },
          "yaxis": {
           "automargin": true,
           "gridcolor": "white",
           "linecolor": "white",
           "ticks": "",
           "title": {
            "standoff": 15
           },
           "zerolinecolor": "white",
           "zerolinewidth": 2
          }
         }
        },
        "title": {
         "text": "Scatter of shots on goal and goals"
        },
        "xaxis": {
         "anchor": "y",
         "domain": [
          0,
          1
         ],
         "title": {
          "text": "SHOTS ON GOAL"
         },
         "type": "log"
        },
        "yaxis": {
         "anchor": "x",
         "domain": [
          0,
          1
         ],
         "title": {
          "text": "GOALS"
         }
        }
       }
      },
      "text/html": [
       "<div>\n",
       "        \n",
       "        \n",
       "            <div id=\"854348c4-4b82-499a-80f0-69bbc9c3b438\" class=\"plotly-graph-div\" style=\"height:800px; width:100%;\"></div>\n",
       "            <script type=\"text/javascript\">\n",
       "                require([\"plotly\"], function(Plotly) {\n",
       "                    window.PLOTLYENV=window.PLOTLYENV || {};\n",
       "                    \n",
       "                if (document.getElementById(\"854348c4-4b82-499a-80f0-69bbc9c3b438\")) {\n",
       "                    Plotly.newPlot(\n",
       "                        '854348c4-4b82-499a-80f0-69bbc9c3b438',\n",
       "                        [{\"hovertemplate\": \"SHOTS ON GOAL=%{x}<br>GOALS=%{y}<br>PLAYER=%{text}<extra></extra>\", \"legendgroup\": \"\", \"marker\": {\"color\": \"#636efa\", \"symbol\": \"circle\"}, \"mode\": \"markers+text\", \"name\": \"\", \"orientation\": \"v\", \"showlegend\": false, \"text\": [\"Jamie Vardy\", \"Danny Ings\", \"Pierre-Emerick Aubameyang\", \"Raheem Shaquille Sterling\", \"Mohamed Salah Ghaly\", \"Sadio Man\\u00e9\", \"Harry Kane\", \"Ra\\u00fal Alonso Jim\\u00e9nez Rodr\\u00edguez\", \"Marcus Rashford\", \"Anthony Martial\", \"Sergio Leonel Ag\\u00fcero del Castillo\", \"Tammy Bakumo-Abraham\", \"Gabriel Fernando de Jesus\", \"Chris Wood\", \"Kevin De Bruyne\", \"Dominic Calvert-Lewin\", \"Richarlison de Andrade\", \"Teemu Pukki\", \"Riyad Mahrez\", \"Heung-Min Son\", \"Michail Antonio\", \"Neal Maupay\", \"Alexandre Lacazette\", \"Mason Greenwood\", \"Troy Deeney\", \"Roberto Firmino Barbosa de Oliveira\", \"Jordan Ayew\", \"Christian Pulisic\", \"Willian Borges Da Silva\", \"Callum Wilson\", \"Jack Grealish\", \"Ayoze P\\u00e9rez\", \"Olivier Giroud\", \"Jay Rodriguez\", \"Bamidele Alli\", \"Bruno Miguel Borges Fernandes\", \"S\\u00e9bastien Haller\", \"Harry Wilson\", \"Diogo Jos\\u00e9 Teixeira da Silva\", \"Mason Mount\", \"Todd Cantwell\", \"David Silva\", \"Bernardo Mota Veiga de Carvalho e Silva\", \"Ashley Barnes\", \"Oliver McBurnie\", \"Joshua King\", \"Mahmoud Ahmed Ibrahim Hassan\", \"Harvey Barnes\", \"James Maddison\", \"Jonjo Shelvey\", \"Lys Mousset\", \"Virgil van Dijk\", \"Phil Foden\", \"Robert Snodgrass\", \"John Fleck\", \"Leandro Trossard\", \"John Lundstram\", \"James Ward-Prowse\", \"Wesley Moraes Ferreira da Silva\", \"Nicolas P\\u00e9p\\u00e9\", \"Kelechi Iheanacho\", \"Stuart Armstrong\", \"Andrii Yarmolenko\", \"Isma\\u00efla Sarr\", \"Trent Alexander-Arnold\", \"Jordan Henderson\", \"Alex Oxlade-Chamberlain\", \"Georginio Wijnaldum\", \"Che Adams\", \"Nathan Redmond\", \"Wilfried Zaha\", \"Lucas Rodrigues Moura da Silva\", \"Anwar El Ghazi\", \"Miguel \\u00c1ngel Almir\\u00f3n Rejala\", \"Leander Dendoncker\", \"Matt Doherty\", \"Adama Traor\\u00e9\", \"Marcos Alonso\", \"Scott McTominay\", \"Gerard Deulofeu\", \"Abdoulaye Doucour\\u00e9\", \"Mark Noble\", \"Dwight Gayle\", \"Rodrigo Hern\\u00e1ndez Cascante\", \"Aaron Cresswell\", \"Issa Diop\", \"Luka Milivojevi\\u0107\", \"Lewis Dunk\", \"Billy Sharp\", \"Adam Webster\", \"Dominic Solanke\", \"Patrick van Aanholt\", \"John McGinn\", \"Conor Hourihane\", \"Douglas Luiz Soares de Paulo\", \"Ricardo Domingos Barbosa Pereira\", \"Ben Chilwell\", \"Pedro Lomba Neto\", \"Youri Tielemans\", \"Allan Saint-Maximin\", \"Daniel James\", \"N'Golo Kant\\u00e9\", \"Roberto Maximiliano Pereyra\", \"Jeffrey Schlupp\", \"Aaron Anthony Connolly\", \"Junior Stanislas\", \"Tom\\u00e1\\u0161 Sou\\u010dek\", \"Andrew Robertson\", \"\\u0130lkay G\\u00fcndo\\u011fan\", \"Nicol\\u00e1s Hern\\u00e1n Otamendi\", \"Pablo Fornals\", \"Angelo Ogbonna\", \"Moise Kean\", \"Michael Keane\", \"Yerry Fernando Mina Gonz\\u00e1lez\", \"Gylfi Sigurdsson\", \"Cenk Tosun\", \"Theo Walcott\", \"Pascal Gro\\u00df\", \"John Egan\", \"David McGoldrick\", \"Enda Stevens\", \"Nathan Ak\\u00e9\", \"Moussa Djenepo\", \"Christian Benteke Liolo\", \"Erik Lamela\", \"Moussa Sissoko\", \"Toby Alderweireld\", \"Jonathan Castro Otto\", \"R\\u00faben Diogo da Silva Neves\", \"David Luiz Moreira Marinho\", \"Onyinye Wilfred Ndidi\", \"Romain Sa\\u00efss\", \"Joelinton C\\u00e1ssio Apolin\\u00e1rio de Lira\", \"Federico Fern\\u00e1ndez\", \"Matt Ritchie\", \"Fabian Sch\\u00e4r\", \"C\\u00e9sar Azpilicueta\", \"Dwight McNeil\", \"James Tarkowski\", \"Craig Dawson\", \"Andre Gray\", \"Danny Welbeck\", \"Demarai Gray\", \"Matej Vydra\", \"Shane Long\", \"Eddie Nketiah\", \"Emiliano Buend\\u00eda\", \"Josip Drmic\", \"Onel Hern\\u00e1ndez\", \"Kenny McLean\", \"Felipe Anderson Pereira Gomes\", \"Declan Rice\", \"Davy Pr\\u00f6pper\", \"Tom Davies\", \"Glenn Murray\", \"Oliver Norwood\", \"Philip Billing\", \"Jefferson Andr\\u00e9s Lerma Sol\\u00eds\", \"Ryan Bertrand\", \"Cheikhou Kouyat\\u00e9\", \"Lucas Torreira\", \"Joseph Willock\", \"Jonny Evans\", \"Jo\\u00e3o Filipe Iria Santos Moutinho\", \"\\u00c7a\\u011flar S\\u00f6y\\u00fcnc\\u00fc\", \"Sean Longstaff\", \"Jesse Lingard\", \"Andreas Hugo Hoelgebaum Pereira\", \"Paul Pogba\", \"Ross Barkley\", \"Mateo Kova\\u010di\\u0107\", \"Pedro Rodr\\u00edguez Ledesma\", \"Harry Maguire\", \"Ben Mee\", \"Will Hughes\", \"Alex Iwobi\", \"Alexander Tettey\", \"Michy Batshuayi Tunga\", \"Adam Masina\", \"Yves Bissouma\", \"Kortney Hause\", \"Mbwana Ally Samatta\", \"Jarrod Bowen\", \"Manuel Lanzini\", \"Erik Pieters\", \"Lucas Digne\", \"Solly March\", \"Dale Stephens\", \"Jack O'Connell\", \"Sofiane Boufal\", \"Pierre-Emile H\\u00f8jbjerg\", \"Gary Cahill\", \"James McArthur\", \"Etienne Capoue\", \"Fernando Luiz Rosa\", \"Reece James\"], \"textposition\": \"top center\", \"type\": \"scatter\", \"x\": [43, 38, 42, 38, 59, 36, 37, 44, 44, 40, 28, 40, 48, 31, 31, 38, 32, 35, 32, 38, 31, 38, 26, 20, 23, 39, 24, 26, 29, 21, 23, 22, 19, 30, 19, 18, 27, 20, 26, 29, 16, 18, 15, 12, 25, 13, 17, 28, 18, 14, 9, 16, 15, 10, 11, 12, 10, 26, 18, 18, 20, 20, 13, 13, 13, 8, 10, 15, 10, 21, 17, 14, 20, 17, 5, 16, 12, 8, 10, 21, 12, 6, 10, 9, 5, 7, 9, 10, 7, 7, 8, 6, 20, 10, 12, 5, 6, 6, 13, 21, 20, 6, 9, 10, 14, 7, 8, 6, 8, 7, 11, 4, 13, 4, 11, 14, 5, 10, 9, 5, 20, 4, 7, 8, 19, 10, 4, 4, 5, 10, 8, 3, 8, 15, 7, 8, 6, 6, 14, 5, 7, 7, 9, 8, 10, 14, 5, 11, 6, 8, 10, 8, 9, 8, 5, 5, 6, 8, 2, 3, 4, 6, 5, 8, 6, 5, 7, 6, 14, 8, 12, 5, 10, 8, 7, 3, 10, 4, 2, 3, 7, 3, 3, 7, 7, 3, 4, 8, 2, 3, 7, 11, 5, 6, 1, 2, 3], \"xaxis\": \"x\", \"y\": [23, 22, 22, 20, 19, 18, 18, 17, 17, 17, 16, 15, 14, 14, 13, 13, 13, 11, 11, 11, 10, 10, 10, 10, 10, 9, 9, 9, 9, 8, 8, 8, 8, 8, 8, 8, 7, 7, 7, 7, 6, 6, 6, 6, 6, 6, 6, 6, 6, 6, 6, 5, 5, 5, 5, 5, 5, 5, 5, 5, 5, 5, 5, 5, 4, 4, 4, 4, 4, 4, 4, 4, 4, 4, 4, 4, 4, 4, 4, 4, 4, 4, 4, 3, 3, 3, 3, 3, 3, 3, 3, 3, 3, 3, 3, 3, 3, 3, 3, 3, 3, 3, 3, 3, 3, 3, 3, 2, 2, 2, 2, 2, 2, 2, 2, 2, 2, 2, 2, 2, 2, 2, 2, 2, 2, 2, 2, 2, 2, 2, 2, 2, 2, 2, 2, 2, 2, 2, 2, 2, 2, 2, 2, 2, 2, 2, 2, 1, 1, 1, 1, 1, 1, 1, 1, 1, 1, 1, 1, 1, 1, 1, 1, 1, 1, 1, 1, 1, 1, 1, 1, 1, 1, 1, 1, 1, 1, 1, 1, 1, 1, 1, 1, 1, 0, 0, 0, 0, 0, 0, 0, 0, 0, 0, 0, 0, 0], \"yaxis\": \"y\"}],\n",
       "                        {\"height\": 800, \"legend\": {\"tracegroupgap\": 0}, \"margin\": {\"t\": 60}, \"template\": {\"data\": {\"bar\": [{\"error_x\": {\"color\": \"#2a3f5f\"}, \"error_y\": {\"color\": \"#2a3f5f\"}, \"marker\": {\"line\": {\"color\": \"#E5ECF6\", \"width\": 0.5}}, \"type\": \"bar\"}], \"barpolar\": [{\"marker\": {\"line\": {\"color\": \"#E5ECF6\", \"width\": 0.5}}, \"type\": \"barpolar\"}], \"carpet\": [{\"aaxis\": {\"endlinecolor\": \"#2a3f5f\", \"gridcolor\": \"white\", \"linecolor\": \"white\", \"minorgridcolor\": \"white\", \"startlinecolor\": \"#2a3f5f\"}, \"baxis\": {\"endlinecolor\": \"#2a3f5f\", \"gridcolor\": \"white\", \"linecolor\": \"white\", \"minorgridcolor\": \"white\", \"startlinecolor\": \"#2a3f5f\"}, \"type\": \"carpet\"}], \"choropleth\": [{\"colorbar\": {\"outlinewidth\": 0, \"ticks\": \"\"}, \"type\": \"choropleth\"}], \"contour\": [{\"colorbar\": {\"outlinewidth\": 0, \"ticks\": \"\"}, \"colorscale\": [[0.0, \"#0d0887\"], [0.1111111111111111, \"#46039f\"], [0.2222222222222222, \"#7201a8\"], [0.3333333333333333, \"#9c179e\"], [0.4444444444444444, \"#bd3786\"], [0.5555555555555556, \"#d8576b\"], [0.6666666666666666, \"#ed7953\"], [0.7777777777777778, \"#fb9f3a\"], [0.8888888888888888, \"#fdca26\"], [1.0, \"#f0f921\"]], \"type\": \"contour\"}], \"contourcarpet\": [{\"colorbar\": {\"outlinewidth\": 0, \"ticks\": \"\"}, \"type\": \"contourcarpet\"}], \"heatmap\": [{\"colorbar\": {\"outlinewidth\": 0, \"ticks\": \"\"}, \"colorscale\": [[0.0, \"#0d0887\"], [0.1111111111111111, \"#46039f\"], [0.2222222222222222, \"#7201a8\"], [0.3333333333333333, \"#9c179e\"], [0.4444444444444444, \"#bd3786\"], [0.5555555555555556, \"#d8576b\"], [0.6666666666666666, \"#ed7953\"], [0.7777777777777778, \"#fb9f3a\"], [0.8888888888888888, \"#fdca26\"], [1.0, \"#f0f921\"]], \"type\": \"heatmap\"}], \"heatmapgl\": [{\"colorbar\": {\"outlinewidth\": 0, \"ticks\": \"\"}, \"colorscale\": [[0.0, \"#0d0887\"], [0.1111111111111111, \"#46039f\"], [0.2222222222222222, \"#7201a8\"], [0.3333333333333333, \"#9c179e\"], [0.4444444444444444, \"#bd3786\"], [0.5555555555555556, \"#d8576b\"], [0.6666666666666666, \"#ed7953\"], [0.7777777777777778, \"#fb9f3a\"], [0.8888888888888888, \"#fdca26\"], [1.0, \"#f0f921\"]], \"type\": \"heatmapgl\"}], \"histogram\": [{\"marker\": {\"colorbar\": {\"outlinewidth\": 0, \"ticks\": \"\"}}, \"type\": \"histogram\"}], \"histogram2d\": [{\"colorbar\": {\"outlinewidth\": 0, \"ticks\": \"\"}, \"colorscale\": [[0.0, \"#0d0887\"], [0.1111111111111111, \"#46039f\"], [0.2222222222222222, \"#7201a8\"], [0.3333333333333333, \"#9c179e\"], [0.4444444444444444, \"#bd3786\"], [0.5555555555555556, \"#d8576b\"], [0.6666666666666666, \"#ed7953\"], [0.7777777777777778, \"#fb9f3a\"], [0.8888888888888888, \"#fdca26\"], [1.0, \"#f0f921\"]], \"type\": \"histogram2d\"}], \"histogram2dcontour\": [{\"colorbar\": {\"outlinewidth\": 0, \"ticks\": \"\"}, \"colorscale\": [[0.0, \"#0d0887\"], [0.1111111111111111, \"#46039f\"], [0.2222222222222222, \"#7201a8\"], [0.3333333333333333, \"#9c179e\"], [0.4444444444444444, \"#bd3786\"], [0.5555555555555556, \"#d8576b\"], [0.6666666666666666, \"#ed7953\"], [0.7777777777777778, \"#fb9f3a\"], [0.8888888888888888, \"#fdca26\"], [1.0, \"#f0f921\"]], \"type\": \"histogram2dcontour\"}], \"mesh3d\": [{\"colorbar\": {\"outlinewidth\": 0, \"ticks\": \"\"}, \"type\": \"mesh3d\"}], \"parcoords\": [{\"line\": {\"colorbar\": {\"outlinewidth\": 0, \"ticks\": \"\"}}, \"type\": \"parcoords\"}], \"pie\": [{\"automargin\": true, \"type\": \"pie\"}], \"scatter\": [{\"marker\": {\"colorbar\": {\"outlinewidth\": 0, \"ticks\": \"\"}}, \"type\": \"scatter\"}], \"scatter3d\": [{\"line\": {\"colorbar\": {\"outlinewidth\": 0, \"ticks\": \"\"}}, \"marker\": {\"colorbar\": {\"outlinewidth\": 0, \"ticks\": \"\"}}, \"type\": \"scatter3d\"}], \"scattercarpet\": [{\"marker\": {\"colorbar\": {\"outlinewidth\": 0, \"ticks\": \"\"}}, \"type\": \"scattercarpet\"}], \"scattergeo\": [{\"marker\": {\"colorbar\": {\"outlinewidth\": 0, \"ticks\": \"\"}}, \"type\": \"scattergeo\"}], \"scattergl\": [{\"marker\": {\"colorbar\": {\"outlinewidth\": 0, \"ticks\": \"\"}}, \"type\": \"scattergl\"}], \"scattermapbox\": [{\"marker\": {\"colorbar\": {\"outlinewidth\": 0, \"ticks\": \"\"}}, \"type\": \"scattermapbox\"}], \"scatterpolar\": [{\"marker\": {\"colorbar\": {\"outlinewidth\": 0, \"ticks\": \"\"}}, \"type\": \"scatterpolar\"}], \"scatterpolargl\": [{\"marker\": {\"colorbar\": {\"outlinewidth\": 0, \"ticks\": \"\"}}, \"type\": \"scatterpolargl\"}], \"scatterternary\": [{\"marker\": {\"colorbar\": {\"outlinewidth\": 0, \"ticks\": \"\"}}, \"type\": \"scatterternary\"}], \"surface\": [{\"colorbar\": {\"outlinewidth\": 0, \"ticks\": \"\"}, \"colorscale\": [[0.0, \"#0d0887\"], [0.1111111111111111, \"#46039f\"], [0.2222222222222222, \"#7201a8\"], [0.3333333333333333, \"#9c179e\"], [0.4444444444444444, \"#bd3786\"], [0.5555555555555556, \"#d8576b\"], [0.6666666666666666, \"#ed7953\"], [0.7777777777777778, \"#fb9f3a\"], [0.8888888888888888, \"#fdca26\"], [1.0, \"#f0f921\"]], \"type\": \"surface\"}], \"table\": [{\"cells\": {\"fill\": {\"color\": \"#EBF0F8\"}, \"line\": {\"color\": \"white\"}}, \"header\": {\"fill\": {\"color\": \"#C8D4E3\"}, \"line\": {\"color\": \"white\"}}, \"type\": \"table\"}]}, \"layout\": {\"annotationdefaults\": {\"arrowcolor\": \"#2a3f5f\", \"arrowhead\": 0, \"arrowwidth\": 1}, \"coloraxis\": {\"colorbar\": {\"outlinewidth\": 0, \"ticks\": \"\"}}, \"colorscale\": {\"diverging\": [[0, \"#8e0152\"], [0.1, \"#c51b7d\"], [0.2, \"#de77ae\"], [0.3, \"#f1b6da\"], [0.4, \"#fde0ef\"], [0.5, \"#f7f7f7\"], [0.6, \"#e6f5d0\"], [0.7, \"#b8e186\"], [0.8, \"#7fbc41\"], [0.9, \"#4d9221\"], [1, \"#276419\"]], \"sequential\": [[0.0, \"#0d0887\"], [0.1111111111111111, \"#46039f\"], [0.2222222222222222, \"#7201a8\"], [0.3333333333333333, \"#9c179e\"], [0.4444444444444444, \"#bd3786\"], [0.5555555555555556, \"#d8576b\"], [0.6666666666666666, \"#ed7953\"], [0.7777777777777778, \"#fb9f3a\"], [0.8888888888888888, \"#fdca26\"], [1.0, \"#f0f921\"]], \"sequentialminus\": [[0.0, \"#0d0887\"], [0.1111111111111111, \"#46039f\"], [0.2222222222222222, \"#7201a8\"], [0.3333333333333333, \"#9c179e\"], [0.4444444444444444, \"#bd3786\"], [0.5555555555555556, \"#d8576b\"], [0.6666666666666666, \"#ed7953\"], [0.7777777777777778, \"#fb9f3a\"], [0.8888888888888888, \"#fdca26\"], [1.0, \"#f0f921\"]]}, \"colorway\": [\"#636efa\", \"#EF553B\", \"#00cc96\", \"#ab63fa\", \"#FFA15A\", \"#19d3f3\", \"#FF6692\", \"#B6E880\", \"#FF97FF\", \"#FECB52\"], \"font\": {\"color\": \"#2a3f5f\"}, \"geo\": {\"bgcolor\": \"white\", \"lakecolor\": \"white\", \"landcolor\": \"#E5ECF6\", \"showlakes\": true, \"showland\": true, \"subunitcolor\": \"white\"}, \"hoverlabel\": {\"align\": \"left\"}, \"hovermode\": \"closest\", \"mapbox\": {\"style\": \"light\"}, \"paper_bgcolor\": \"white\", \"plot_bgcolor\": \"#E5ECF6\", \"polar\": {\"angularaxis\": {\"gridcolor\": \"white\", \"linecolor\": \"white\", \"ticks\": \"\"}, \"bgcolor\": \"#E5ECF6\", \"radialaxis\": {\"gridcolor\": \"white\", \"linecolor\": \"white\", \"ticks\": \"\"}}, \"scene\": {\"xaxis\": {\"backgroundcolor\": \"#E5ECF6\", \"gridcolor\": \"white\", \"gridwidth\": 2, \"linecolor\": \"white\", \"showbackground\": true, \"ticks\": \"\", \"zerolinecolor\": \"white\"}, \"yaxis\": {\"backgroundcolor\": \"#E5ECF6\", \"gridcolor\": \"white\", \"gridwidth\": 2, \"linecolor\": \"white\", \"showbackground\": true, \"ticks\": \"\", \"zerolinecolor\": \"white\"}, \"zaxis\": {\"backgroundcolor\": \"#E5ECF6\", \"gridcolor\": \"white\", \"gridwidth\": 2, \"linecolor\": \"white\", \"showbackground\": true, \"ticks\": \"\", \"zerolinecolor\": \"white\"}}, \"shapedefaults\": {\"line\": {\"color\": \"#2a3f5f\"}}, \"ternary\": {\"aaxis\": {\"gridcolor\": \"white\", \"linecolor\": \"white\", \"ticks\": \"\"}, \"baxis\": {\"gridcolor\": \"white\", \"linecolor\": \"white\", \"ticks\": \"\"}, \"bgcolor\": \"#E5ECF6\", \"caxis\": {\"gridcolor\": \"white\", \"linecolor\": \"white\", \"ticks\": \"\"}}, \"title\": {\"x\": 0.05}, \"xaxis\": {\"automargin\": true, \"gridcolor\": \"white\", \"linecolor\": \"white\", \"ticks\": \"\", \"title\": {\"standoff\": 15}, \"zerolinecolor\": \"white\", \"zerolinewidth\": 2}, \"yaxis\": {\"automargin\": true, \"gridcolor\": \"white\", \"linecolor\": \"white\", \"ticks\": \"\", \"title\": {\"standoff\": 15}, \"zerolinecolor\": \"white\", \"zerolinewidth\": 2}}}, \"title\": {\"text\": \"Scatter of shots on goal and goals\"}, \"xaxis\": {\"anchor\": \"y\", \"domain\": [0.0, 1.0], \"title\": {\"text\": \"SHOTS ON GOAL\"}, \"type\": \"log\"}, \"yaxis\": {\"anchor\": \"x\", \"domain\": [0.0, 1.0], \"title\": {\"text\": \"GOALS\"}}},\n",
       "                        {\"responsive\": true}\n",
       "                    ).then(function(){\n",
       "                            \n",
       "var gd = document.getElementById('854348c4-4b82-499a-80f0-69bbc9c3b438');\n",
       "var x = new MutationObserver(function (mutations, observer) {{\n",
       "        var display = window.getComputedStyle(gd).display;\n",
       "        if (!display || display === 'none') {{\n",
       "            console.log([gd, 'removed!']);\n",
       "            Plotly.purge(gd);\n",
       "            observer.disconnect();\n",
       "        }}\n",
       "}});\n",
       "\n",
       "// Listen for the removal of the full notebook cells\n",
       "var notebookContainer = gd.closest('#notebook-container');\n",
       "if (notebookContainer) {{\n",
       "    x.observe(notebookContainer, {childList: true});\n",
       "}}\n",
       "\n",
       "// Listen for the clearing of the current output cell\n",
       "var outputEl = gd.closest('.output');\n",
       "if (outputEl) {{\n",
       "    x.observe(outputEl, {childList: true});\n",
       "}}\n",
       "\n",
       "                        })\n",
       "                };\n",
       "                });\n",
       "            </script>\n",
       "        </div>"
      ]
     },
     "metadata": {},
     "output_type": "display_data"
    }
   ],
   "source": [
    "plotlyScatter(df,'SHOTS ON GOAL','GOALS','PLAYER','Scatter of shots on goal and goals')"
   ]
  },
  {
   "cell_type": "markdown",
   "metadata": {},
   "source": [
    "## Scatter of goals to observe the correlation between the number of minutes played and the number of goals scored"
   ]
  },
  {
   "cell_type": "code",
   "execution_count": 13,
   "metadata": {},
   "outputs": [
    {
     "data": {
      "application/vnd.plotly.v1+json": {
       "config": {
        "plotlyServerURL": "https://plot.ly"
       },
       "data": [
        {
         "hovertemplate": "MINUTES PLAYED=%{x}<br>GOALS=%{y}<br>PLAYER=%{text}<extra></extra>",
         "legendgroup": "",
         "marker": {
          "color": "#636efa",
          "symbol": "circle"
         },
         "mode": "markers+text",
         "name": "",
         "orientation": "v",
         "showlegend": false,
         "text": [
          "Jamie Vardy",
          "Danny Ings",
          "Pierre-Emerick Aubameyang",
          "Raheem Shaquille Sterling",
          "Mohamed Salah Ghaly",
          "Sadio Mané",
          "Harry Kane",
          "Raúl Alonso Jiménez Rodríguez",
          "Marcus Rashford",
          "Anthony Martial",
          "Sergio Leonel Agüero del Castillo",
          "Tammy Bakumo-Abraham",
          "Gabriel Fernando de Jesus",
          "Chris Wood",
          "Kevin De Bruyne",
          "Dominic Calvert-Lewin",
          "Richarlison de Andrade",
          "Teemu Pukki",
          "Riyad Mahrez",
          "Heung-Min Son",
          "Michail Antonio",
          "Neal Maupay",
          "Alexandre Lacazette",
          "Mason Greenwood",
          "Troy Deeney",
          "Roberto Firmino Barbosa de Oliveira",
          "Jordan Ayew",
          "Christian Pulisic",
          "Willian Borges Da Silva",
          "Callum Wilson",
          "Jack Grealish",
          "Ayoze Pérez",
          "Olivier Giroud",
          "Jay Rodriguez",
          "Bamidele Alli",
          "Bruno Miguel Borges Fernandes",
          "Sébastien Haller",
          "Harry Wilson",
          "Diogo José Teixeira da Silva",
          "Mason Mount",
          "Todd Cantwell",
          "David Silva",
          "Bernardo Mota Veiga de Carvalho e Silva",
          "Ashley Barnes",
          "Oliver McBurnie",
          "Joshua King",
          "Mahmoud Ahmed Ibrahim Hassan",
          "Harvey Barnes",
          "James Maddison",
          "Jonjo Shelvey",
          "Lys Mousset",
          "Virgil van Dijk",
          "Phil Foden",
          "Robert Snodgrass",
          "John Fleck",
          "Leandro Trossard",
          "John Lundstram",
          "James Ward-Prowse",
          "Wesley Moraes Ferreira da Silva",
          "Nicolas Pépé",
          "Kelechi Iheanacho",
          "Stuart Armstrong",
          "Andrii Yarmolenko",
          "Ismaïla Sarr",
          "Trent Alexander-Arnold",
          "Jordan Henderson",
          "Alex Oxlade-Chamberlain",
          "Georginio Wijnaldum",
          "Che Adams",
          "Nathan Redmond",
          "Wilfried Zaha",
          "Lucas Rodrigues Moura da Silva",
          "Anwar El Ghazi",
          "Miguel Ángel Almirón Rejala",
          "Leander Dendoncker",
          "Matt Doherty",
          "Adama Traoré",
          "Marcos Alonso",
          "Scott McTominay",
          "Gerard Deulofeu",
          "Abdoulaye Doucouré",
          "Mark Noble",
          "Dwight Gayle",
          "Rodrigo Hernández Cascante",
          "Aaron Cresswell",
          "Issa Diop",
          "Luka Milivojević",
          "Lewis Dunk",
          "Billy Sharp",
          "Adam Webster",
          "Dominic Solanke",
          "Patrick van Aanholt",
          "John McGinn",
          "Conor Hourihane",
          "Douglas Luiz Soares de Paulo",
          "Ricardo Domingos Barbosa Pereira",
          "Ben Chilwell",
          "Pedro Lomba Neto",
          "Youri Tielemans",
          "Allan Saint-Maximin",
          "Daniel James",
          "N'Golo Kanté",
          "Roberto Maximiliano Pereyra",
          "Jeffrey Schlupp",
          "Aaron Anthony Connolly",
          "Junior Stanislas",
          "Tomáš Souček",
          "Andrew Robertson",
          "İlkay Gündoğan",
          "Nicolás Hernán Otamendi",
          "Pablo Fornals",
          "Angelo Ogbonna",
          "Moise Kean",
          "Michael Keane",
          "Yerry Fernando Mina González",
          "Gylfi Sigurdsson",
          "Cenk Tosun",
          "Theo Walcott",
          "Pascal Groß",
          "John Egan",
          "David McGoldrick",
          "Enda Stevens",
          "Nathan Aké",
          "Moussa Djenepo",
          "Christian Benteke Liolo",
          "Erik Lamela",
          "Moussa Sissoko",
          "Toby Alderweireld",
          "Jonathan Castro Otto",
          "Rúben Diogo da Silva Neves",
          "David Luiz Moreira Marinho",
          "Onyinye Wilfred Ndidi",
          "Romain Saïss",
          "Joelinton Cássio Apolinário de Lira",
          "Federico Fernández",
          "Matt Ritchie",
          "Fabian Schär",
          "César Azpilicueta",
          "Dwight McNeil",
          "James Tarkowski",
          "Craig Dawson",
          "Andre Gray",
          "Danny Welbeck",
          "Demarai Gray",
          "Matej Vydra",
          "Shane Long",
          "Eddie Nketiah",
          "Emiliano Buendía",
          "Josip Drmic",
          "Onel Hernández",
          "Kenny McLean",
          "Felipe Anderson Pereira Gomes",
          "Declan Rice",
          "Davy Pröpper",
          "Tom Davies",
          "Glenn Murray",
          "Oliver Norwood",
          "Philip Billing",
          "Jefferson Andrés Lerma Solís",
          "Ryan Bertrand",
          "Cheikhou Kouyaté",
          "Lucas Torreira",
          "Joseph Willock",
          "Jonny Evans",
          "João Filipe Iria Santos Moutinho",
          "Çağlar Söyüncü",
          "Sean Longstaff",
          "Jesse Lingard",
          "Andreas Hugo Hoelgebaum Pereira",
          "Paul Pogba",
          "Ross Barkley",
          "Mateo Kovačić",
          "Pedro Rodríguez Ledesma",
          "Harry Maguire",
          "Ben Mee",
          "Will Hughes",
          "Alex Iwobi",
          "Alexander Tettey",
          "Michy Batshuayi Tunga",
          "Adam Masina",
          "Yves Bissouma",
          "Kortney Hause",
          "Mbwana Ally Samatta",
          "Jarrod Bowen",
          "Manuel Lanzini",
          "Erik Pieters",
          "Lucas Digne",
          "Solly March",
          "Dale Stephens",
          "Jack O'Connell",
          "Sofiane Boufal",
          "Pierre-Emile Højbjerg",
          "Gary Cahill",
          "James McArthur",
          "Etienne Capoue",
          "Fernando Luiz Rosa",
          "Reece James"
         ],
         "textposition": "top center",
         "type": "scatter",
         "x": [
          3034,
          2812,
          3138,
          2660,
          2884,
          2753,
          2589,
          3244,
          2653,
          2638,
          1456,
          2221,
          2027,
          2444,
          2798,
          2629,
          3081,
          2892,
          1940,
          2485,
          1770,
          2768,
          1877,
          1312,
          2234,
          3001,
          3160,
          1726,
          2601,
          2909,
          3234,
          2019,
          999,
          2009,
          1851,
          1192,
          2263,
          1651,
          2297,
          2872,
          2500,
          1832,
          2029,
          1361,
          2116,
          2019,
          1950,
          2090,
          2628,
          2123,
          1232,
          3420,
          892,
          1511,
          2517,
          2013,
          2455,
          3420,
          1790,
          2015,
          961,
          1713,
          988,
          2028,
          3176,
          2244,
          1492,
          2948,
          1105,
          2768,
          3280,
          2247,
          2061,
          3033,
          2794,
          2840,
          2606,
          1432,
          1770,
          2105,
          3167,
          2684,
          849,
          2486,
          2730,
          2766,
          2514,
          3231,
          1047,
          2670,
          1644,
          2511,
          2316,
          1538,
          2608,
          2520,
          2375,
          928,
          2834,
          1870,
          2290,
          1733,
          1653,
          1034,
          1261,
          712,
          1041,
          3113,
          2017,
          1711,
          2177,
          2787,
          835,
          2556,
          2281,
          2563,
          466,
          1297,
          1802,
          3189,
          1822,
          3346,
          2505,
          926,
          1257,
          1211,
          2455,
          2958,
          2890,
          3059,
          2811,
          2674,
          2706,
          2699,
          2618,
          1315,
          1633,
          3230,
          3344,
          3420,
          2359,
          746,
          815,
          607,
          812,
          1399,
          633,
          2462,
          637,
          1381,
          2964,
          1505,
          3420,
          2829,
          2026,
          790,
          3100,
          2532,
          2709,
          2744,
          2535,
          1508,
          844,
          3385,
          3107,
          3037,
          1373,
          932,
          1488,
          1205,
          1104,
          2073,
          662,
          3420,
          2880,
          2262,
          1601,
          2350,
          226,
          1818,
          1260,
          1544,
          946,
          919,
          1377,
          1877,
          3035,
          1144,
          2528,
          2915,
          760,
          2750,
          2168,
          3104,
          2632,
          2399,
          1513
         ],
         "xaxis": "x",
         "y": [
          23,
          22,
          22,
          20,
          19,
          18,
          18,
          17,
          17,
          17,
          16,
          15,
          14,
          14,
          13,
          13,
          13,
          11,
          11,
          11,
          10,
          10,
          10,
          10,
          10,
          9,
          9,
          9,
          9,
          8,
          8,
          8,
          8,
          8,
          8,
          8,
          7,
          7,
          7,
          7,
          6,
          6,
          6,
          6,
          6,
          6,
          6,
          6,
          6,
          6,
          6,
          5,
          5,
          5,
          5,
          5,
          5,
          5,
          5,
          5,
          5,
          5,
          5,
          5,
          4,
          4,
          4,
          4,
          4,
          4,
          4,
          4,
          4,
          4,
          4,
          4,
          4,
          4,
          4,
          4,
          4,
          4,
          4,
          3,
          3,
          3,
          3,
          3,
          3,
          3,
          3,
          3,
          3,
          3,
          3,
          3,
          3,
          3,
          3,
          3,
          3,
          3,
          3,
          3,
          3,
          3,
          3,
          2,
          2,
          2,
          2,
          2,
          2,
          2,
          2,
          2,
          2,
          2,
          2,
          2,
          2,
          2,
          2,
          2,
          2,
          2,
          2,
          2,
          2,
          2,
          2,
          2,
          2,
          2,
          2,
          2,
          2,
          2,
          2,
          2,
          2,
          2,
          2,
          2,
          2,
          2,
          2,
          1,
          1,
          1,
          1,
          1,
          1,
          1,
          1,
          1,
          1,
          1,
          1,
          1,
          1,
          1,
          1,
          1,
          1,
          1,
          1,
          1,
          1,
          1,
          1,
          1,
          1,
          1,
          1,
          1,
          1,
          1,
          1,
          1,
          1,
          1,
          1,
          1,
          0,
          0,
          0,
          0,
          0,
          0,
          0,
          0,
          0,
          0,
          0,
          0,
          0
         ],
         "yaxis": "y"
        }
       ],
       "layout": {
        "height": 800,
        "legend": {
         "tracegroupgap": 0
        },
        "margin": {
         "t": 60
        },
        "template": {
         "data": {
          "bar": [
           {
            "error_x": {
             "color": "#2a3f5f"
            },
            "error_y": {
             "color": "#2a3f5f"
            },
            "marker": {
             "line": {
              "color": "#E5ECF6",
              "width": 0.5
             }
            },
            "type": "bar"
           }
          ],
          "barpolar": [
           {
            "marker": {
             "line": {
              "color": "#E5ECF6",
              "width": 0.5
             }
            },
            "type": "barpolar"
           }
          ],
          "carpet": [
           {
            "aaxis": {
             "endlinecolor": "#2a3f5f",
             "gridcolor": "white",
             "linecolor": "white",
             "minorgridcolor": "white",
             "startlinecolor": "#2a3f5f"
            },
            "baxis": {
             "endlinecolor": "#2a3f5f",
             "gridcolor": "white",
             "linecolor": "white",
             "minorgridcolor": "white",
             "startlinecolor": "#2a3f5f"
            },
            "type": "carpet"
           }
          ],
          "choropleth": [
           {
            "colorbar": {
             "outlinewidth": 0,
             "ticks": ""
            },
            "type": "choropleth"
           }
          ],
          "contour": [
           {
            "colorbar": {
             "outlinewidth": 0,
             "ticks": ""
            },
            "colorscale": [
             [
              0,
              "#0d0887"
             ],
             [
              0.1111111111111111,
              "#46039f"
             ],
             [
              0.2222222222222222,
              "#7201a8"
             ],
             [
              0.3333333333333333,
              "#9c179e"
             ],
             [
              0.4444444444444444,
              "#bd3786"
             ],
             [
              0.5555555555555556,
              "#d8576b"
             ],
             [
              0.6666666666666666,
              "#ed7953"
             ],
             [
              0.7777777777777778,
              "#fb9f3a"
             ],
             [
              0.8888888888888888,
              "#fdca26"
             ],
             [
              1,
              "#f0f921"
             ]
            ],
            "type": "contour"
           }
          ],
          "contourcarpet": [
           {
            "colorbar": {
             "outlinewidth": 0,
             "ticks": ""
            },
            "type": "contourcarpet"
           }
          ],
          "heatmap": [
           {
            "colorbar": {
             "outlinewidth": 0,
             "ticks": ""
            },
            "colorscale": [
             [
              0,
              "#0d0887"
             ],
             [
              0.1111111111111111,
              "#46039f"
             ],
             [
              0.2222222222222222,
              "#7201a8"
             ],
             [
              0.3333333333333333,
              "#9c179e"
             ],
             [
              0.4444444444444444,
              "#bd3786"
             ],
             [
              0.5555555555555556,
              "#d8576b"
             ],
             [
              0.6666666666666666,
              "#ed7953"
             ],
             [
              0.7777777777777778,
              "#fb9f3a"
             ],
             [
              0.8888888888888888,
              "#fdca26"
             ],
             [
              1,
              "#f0f921"
             ]
            ],
            "type": "heatmap"
           }
          ],
          "heatmapgl": [
           {
            "colorbar": {
             "outlinewidth": 0,
             "ticks": ""
            },
            "colorscale": [
             [
              0,
              "#0d0887"
             ],
             [
              0.1111111111111111,
              "#46039f"
             ],
             [
              0.2222222222222222,
              "#7201a8"
             ],
             [
              0.3333333333333333,
              "#9c179e"
             ],
             [
              0.4444444444444444,
              "#bd3786"
             ],
             [
              0.5555555555555556,
              "#d8576b"
             ],
             [
              0.6666666666666666,
              "#ed7953"
             ],
             [
              0.7777777777777778,
              "#fb9f3a"
             ],
             [
              0.8888888888888888,
              "#fdca26"
             ],
             [
              1,
              "#f0f921"
             ]
            ],
            "type": "heatmapgl"
           }
          ],
          "histogram": [
           {
            "marker": {
             "colorbar": {
              "outlinewidth": 0,
              "ticks": ""
             }
            },
            "type": "histogram"
           }
          ],
          "histogram2d": [
           {
            "colorbar": {
             "outlinewidth": 0,
             "ticks": ""
            },
            "colorscale": [
             [
              0,
              "#0d0887"
             ],
             [
              0.1111111111111111,
              "#46039f"
             ],
             [
              0.2222222222222222,
              "#7201a8"
             ],
             [
              0.3333333333333333,
              "#9c179e"
             ],
             [
              0.4444444444444444,
              "#bd3786"
             ],
             [
              0.5555555555555556,
              "#d8576b"
             ],
             [
              0.6666666666666666,
              "#ed7953"
             ],
             [
              0.7777777777777778,
              "#fb9f3a"
             ],
             [
              0.8888888888888888,
              "#fdca26"
             ],
             [
              1,
              "#f0f921"
             ]
            ],
            "type": "histogram2d"
           }
          ],
          "histogram2dcontour": [
           {
            "colorbar": {
             "outlinewidth": 0,
             "ticks": ""
            },
            "colorscale": [
             [
              0,
              "#0d0887"
             ],
             [
              0.1111111111111111,
              "#46039f"
             ],
             [
              0.2222222222222222,
              "#7201a8"
             ],
             [
              0.3333333333333333,
              "#9c179e"
             ],
             [
              0.4444444444444444,
              "#bd3786"
             ],
             [
              0.5555555555555556,
              "#d8576b"
             ],
             [
              0.6666666666666666,
              "#ed7953"
             ],
             [
              0.7777777777777778,
              "#fb9f3a"
             ],
             [
              0.8888888888888888,
              "#fdca26"
             ],
             [
              1,
              "#f0f921"
             ]
            ],
            "type": "histogram2dcontour"
           }
          ],
          "mesh3d": [
           {
            "colorbar": {
             "outlinewidth": 0,
             "ticks": ""
            },
            "type": "mesh3d"
           }
          ],
          "parcoords": [
           {
            "line": {
             "colorbar": {
              "outlinewidth": 0,
              "ticks": ""
             }
            },
            "type": "parcoords"
           }
          ],
          "pie": [
           {
            "automargin": true,
            "type": "pie"
           }
          ],
          "scatter": [
           {
            "marker": {
             "colorbar": {
              "outlinewidth": 0,
              "ticks": ""
             }
            },
            "type": "scatter"
           }
          ],
          "scatter3d": [
           {
            "line": {
             "colorbar": {
              "outlinewidth": 0,
              "ticks": ""
             }
            },
            "marker": {
             "colorbar": {
              "outlinewidth": 0,
              "ticks": ""
             }
            },
            "type": "scatter3d"
           }
          ],
          "scattercarpet": [
           {
            "marker": {
             "colorbar": {
              "outlinewidth": 0,
              "ticks": ""
             }
            },
            "type": "scattercarpet"
           }
          ],
          "scattergeo": [
           {
            "marker": {
             "colorbar": {
              "outlinewidth": 0,
              "ticks": ""
             }
            },
            "type": "scattergeo"
           }
          ],
          "scattergl": [
           {
            "marker": {
             "colorbar": {
              "outlinewidth": 0,
              "ticks": ""
             }
            },
            "type": "scattergl"
           }
          ],
          "scattermapbox": [
           {
            "marker": {
             "colorbar": {
              "outlinewidth": 0,
              "ticks": ""
             }
            },
            "type": "scattermapbox"
           }
          ],
          "scatterpolar": [
           {
            "marker": {
             "colorbar": {
              "outlinewidth": 0,
              "ticks": ""
             }
            },
            "type": "scatterpolar"
           }
          ],
          "scatterpolargl": [
           {
            "marker": {
             "colorbar": {
              "outlinewidth": 0,
              "ticks": ""
             }
            },
            "type": "scatterpolargl"
           }
          ],
          "scatterternary": [
           {
            "marker": {
             "colorbar": {
              "outlinewidth": 0,
              "ticks": ""
             }
            },
            "type": "scatterternary"
           }
          ],
          "surface": [
           {
            "colorbar": {
             "outlinewidth": 0,
             "ticks": ""
            },
            "colorscale": [
             [
              0,
              "#0d0887"
             ],
             [
              0.1111111111111111,
              "#46039f"
             ],
             [
              0.2222222222222222,
              "#7201a8"
             ],
             [
              0.3333333333333333,
              "#9c179e"
             ],
             [
              0.4444444444444444,
              "#bd3786"
             ],
             [
              0.5555555555555556,
              "#d8576b"
             ],
             [
              0.6666666666666666,
              "#ed7953"
             ],
             [
              0.7777777777777778,
              "#fb9f3a"
             ],
             [
              0.8888888888888888,
              "#fdca26"
             ],
             [
              1,
              "#f0f921"
             ]
            ],
            "type": "surface"
           }
          ],
          "table": [
           {
            "cells": {
             "fill": {
              "color": "#EBF0F8"
             },
             "line": {
              "color": "white"
             }
            },
            "header": {
             "fill": {
              "color": "#C8D4E3"
             },
             "line": {
              "color": "white"
             }
            },
            "type": "table"
           }
          ]
         },
         "layout": {
          "annotationdefaults": {
           "arrowcolor": "#2a3f5f",
           "arrowhead": 0,
           "arrowwidth": 1
          },
          "coloraxis": {
           "colorbar": {
            "outlinewidth": 0,
            "ticks": ""
           }
          },
          "colorscale": {
           "diverging": [
            [
             0,
             "#8e0152"
            ],
            [
             0.1,
             "#c51b7d"
            ],
            [
             0.2,
             "#de77ae"
            ],
            [
             0.3,
             "#f1b6da"
            ],
            [
             0.4,
             "#fde0ef"
            ],
            [
             0.5,
             "#f7f7f7"
            ],
            [
             0.6,
             "#e6f5d0"
            ],
            [
             0.7,
             "#b8e186"
            ],
            [
             0.8,
             "#7fbc41"
            ],
            [
             0.9,
             "#4d9221"
            ],
            [
             1,
             "#276419"
            ]
           ],
           "sequential": [
            [
             0,
             "#0d0887"
            ],
            [
             0.1111111111111111,
             "#46039f"
            ],
            [
             0.2222222222222222,
             "#7201a8"
            ],
            [
             0.3333333333333333,
             "#9c179e"
            ],
            [
             0.4444444444444444,
             "#bd3786"
            ],
            [
             0.5555555555555556,
             "#d8576b"
            ],
            [
             0.6666666666666666,
             "#ed7953"
            ],
            [
             0.7777777777777778,
             "#fb9f3a"
            ],
            [
             0.8888888888888888,
             "#fdca26"
            ],
            [
             1,
             "#f0f921"
            ]
           ],
           "sequentialminus": [
            [
             0,
             "#0d0887"
            ],
            [
             0.1111111111111111,
             "#46039f"
            ],
            [
             0.2222222222222222,
             "#7201a8"
            ],
            [
             0.3333333333333333,
             "#9c179e"
            ],
            [
             0.4444444444444444,
             "#bd3786"
            ],
            [
             0.5555555555555556,
             "#d8576b"
            ],
            [
             0.6666666666666666,
             "#ed7953"
            ],
            [
             0.7777777777777778,
             "#fb9f3a"
            ],
            [
             0.8888888888888888,
             "#fdca26"
            ],
            [
             1,
             "#f0f921"
            ]
           ]
          },
          "colorway": [
           "#636efa",
           "#EF553B",
           "#00cc96",
           "#ab63fa",
           "#FFA15A",
           "#19d3f3",
           "#FF6692",
           "#B6E880",
           "#FF97FF",
           "#FECB52"
          ],
          "font": {
           "color": "#2a3f5f"
          },
          "geo": {
           "bgcolor": "white",
           "lakecolor": "white",
           "landcolor": "#E5ECF6",
           "showlakes": true,
           "showland": true,
           "subunitcolor": "white"
          },
          "hoverlabel": {
           "align": "left"
          },
          "hovermode": "closest",
          "mapbox": {
           "style": "light"
          },
          "paper_bgcolor": "white",
          "plot_bgcolor": "#E5ECF6",
          "polar": {
           "angularaxis": {
            "gridcolor": "white",
            "linecolor": "white",
            "ticks": ""
           },
           "bgcolor": "#E5ECF6",
           "radialaxis": {
            "gridcolor": "white",
            "linecolor": "white",
            "ticks": ""
           }
          },
          "scene": {
           "xaxis": {
            "backgroundcolor": "#E5ECF6",
            "gridcolor": "white",
            "gridwidth": 2,
            "linecolor": "white",
            "showbackground": true,
            "ticks": "",
            "zerolinecolor": "white"
           },
           "yaxis": {
            "backgroundcolor": "#E5ECF6",
            "gridcolor": "white",
            "gridwidth": 2,
            "linecolor": "white",
            "showbackground": true,
            "ticks": "",
            "zerolinecolor": "white"
           },
           "zaxis": {
            "backgroundcolor": "#E5ECF6",
            "gridcolor": "white",
            "gridwidth": 2,
            "linecolor": "white",
            "showbackground": true,
            "ticks": "",
            "zerolinecolor": "white"
           }
          },
          "shapedefaults": {
           "line": {
            "color": "#2a3f5f"
           }
          },
          "ternary": {
           "aaxis": {
            "gridcolor": "white",
            "linecolor": "white",
            "ticks": ""
           },
           "baxis": {
            "gridcolor": "white",
            "linecolor": "white",
            "ticks": ""
           },
           "bgcolor": "#E5ECF6",
           "caxis": {
            "gridcolor": "white",
            "linecolor": "white",
            "ticks": ""
           }
          },
          "title": {
           "x": 0.05
          },
          "xaxis": {
           "automargin": true,
           "gridcolor": "white",
           "linecolor": "white",
           "ticks": "",
           "title": {
            "standoff": 15
           },
           "zerolinecolor": "white",
           "zerolinewidth": 2
          },
          "yaxis": {
           "automargin": true,
           "gridcolor": "white",
           "linecolor": "white",
           "ticks": "",
           "title": {
            "standoff": 15
           },
           "zerolinecolor": "white",
           "zerolinewidth": 2
          }
         }
        },
        "title": {
         "text": "Scatter of goals and minutes played"
        },
        "xaxis": {
         "anchor": "y",
         "domain": [
          0,
          1
         ],
         "title": {
          "text": "MINUTES PLAYED"
         },
         "type": "log"
        },
        "yaxis": {
         "anchor": "x",
         "domain": [
          0,
          1
         ],
         "title": {
          "text": "GOALS"
         }
        }
       }
      },
      "text/html": [
       "<div>\n",
       "        \n",
       "        \n",
       "            <div id=\"0358173e-7336-4357-8530-c661585d106a\" class=\"plotly-graph-div\" style=\"height:800px; width:100%;\"></div>\n",
       "            <script type=\"text/javascript\">\n",
       "                require([\"plotly\"], function(Plotly) {\n",
       "                    window.PLOTLYENV=window.PLOTLYENV || {};\n",
       "                    \n",
       "                if (document.getElementById(\"0358173e-7336-4357-8530-c661585d106a\")) {\n",
       "                    Plotly.newPlot(\n",
       "                        '0358173e-7336-4357-8530-c661585d106a',\n",
       "                        [{\"hovertemplate\": \"MINUTES PLAYED=%{x}<br>GOALS=%{y}<br>PLAYER=%{text}<extra></extra>\", \"legendgroup\": \"\", \"marker\": {\"color\": \"#636efa\", \"symbol\": \"circle\"}, \"mode\": \"markers+text\", \"name\": \"\", \"orientation\": \"v\", \"showlegend\": false, \"text\": [\"Jamie Vardy\", \"Danny Ings\", \"Pierre-Emerick Aubameyang\", \"Raheem Shaquille Sterling\", \"Mohamed Salah Ghaly\", \"Sadio Man\\u00e9\", \"Harry Kane\", \"Ra\\u00fal Alonso Jim\\u00e9nez Rodr\\u00edguez\", \"Marcus Rashford\", \"Anthony Martial\", \"Sergio Leonel Ag\\u00fcero del Castillo\", \"Tammy Bakumo-Abraham\", \"Gabriel Fernando de Jesus\", \"Chris Wood\", \"Kevin De Bruyne\", \"Dominic Calvert-Lewin\", \"Richarlison de Andrade\", \"Teemu Pukki\", \"Riyad Mahrez\", \"Heung-Min Son\", \"Michail Antonio\", \"Neal Maupay\", \"Alexandre Lacazette\", \"Mason Greenwood\", \"Troy Deeney\", \"Roberto Firmino Barbosa de Oliveira\", \"Jordan Ayew\", \"Christian Pulisic\", \"Willian Borges Da Silva\", \"Callum Wilson\", \"Jack Grealish\", \"Ayoze P\\u00e9rez\", \"Olivier Giroud\", \"Jay Rodriguez\", \"Bamidele Alli\", \"Bruno Miguel Borges Fernandes\", \"S\\u00e9bastien Haller\", \"Harry Wilson\", \"Diogo Jos\\u00e9 Teixeira da Silva\", \"Mason Mount\", \"Todd Cantwell\", \"David Silva\", \"Bernardo Mota Veiga de Carvalho e Silva\", \"Ashley Barnes\", \"Oliver McBurnie\", \"Joshua King\", \"Mahmoud Ahmed Ibrahim Hassan\", \"Harvey Barnes\", \"James Maddison\", \"Jonjo Shelvey\", \"Lys Mousset\", \"Virgil van Dijk\", \"Phil Foden\", \"Robert Snodgrass\", \"John Fleck\", \"Leandro Trossard\", \"John Lundstram\", \"James Ward-Prowse\", \"Wesley Moraes Ferreira da Silva\", \"Nicolas P\\u00e9p\\u00e9\", \"Kelechi Iheanacho\", \"Stuart Armstrong\", \"Andrii Yarmolenko\", \"Isma\\u00efla Sarr\", \"Trent Alexander-Arnold\", \"Jordan Henderson\", \"Alex Oxlade-Chamberlain\", \"Georginio Wijnaldum\", \"Che Adams\", \"Nathan Redmond\", \"Wilfried Zaha\", \"Lucas Rodrigues Moura da Silva\", \"Anwar El Ghazi\", \"Miguel \\u00c1ngel Almir\\u00f3n Rejala\", \"Leander Dendoncker\", \"Matt Doherty\", \"Adama Traor\\u00e9\", \"Marcos Alonso\", \"Scott McTominay\", \"Gerard Deulofeu\", \"Abdoulaye Doucour\\u00e9\", \"Mark Noble\", \"Dwight Gayle\", \"Rodrigo Hern\\u00e1ndez Cascante\", \"Aaron Cresswell\", \"Issa Diop\", \"Luka Milivojevi\\u0107\", \"Lewis Dunk\", \"Billy Sharp\", \"Adam Webster\", \"Dominic Solanke\", \"Patrick van Aanholt\", \"John McGinn\", \"Conor Hourihane\", \"Douglas Luiz Soares de Paulo\", \"Ricardo Domingos Barbosa Pereira\", \"Ben Chilwell\", \"Pedro Lomba Neto\", \"Youri Tielemans\", \"Allan Saint-Maximin\", \"Daniel James\", \"N'Golo Kant\\u00e9\", \"Roberto Maximiliano Pereyra\", \"Jeffrey Schlupp\", \"Aaron Anthony Connolly\", \"Junior Stanislas\", \"Tom\\u00e1\\u0161 Sou\\u010dek\", \"Andrew Robertson\", \"\\u0130lkay G\\u00fcndo\\u011fan\", \"Nicol\\u00e1s Hern\\u00e1n Otamendi\", \"Pablo Fornals\", \"Angelo Ogbonna\", \"Moise Kean\", \"Michael Keane\", \"Yerry Fernando Mina Gonz\\u00e1lez\", \"Gylfi Sigurdsson\", \"Cenk Tosun\", \"Theo Walcott\", \"Pascal Gro\\u00df\", \"John Egan\", \"David McGoldrick\", \"Enda Stevens\", \"Nathan Ak\\u00e9\", \"Moussa Djenepo\", \"Christian Benteke Liolo\", \"Erik Lamela\", \"Moussa Sissoko\", \"Toby Alderweireld\", \"Jonathan Castro Otto\", \"R\\u00faben Diogo da Silva Neves\", \"David Luiz Moreira Marinho\", \"Onyinye Wilfred Ndidi\", \"Romain Sa\\u00efss\", \"Joelinton C\\u00e1ssio Apolin\\u00e1rio de Lira\", \"Federico Fern\\u00e1ndez\", \"Matt Ritchie\", \"Fabian Sch\\u00e4r\", \"C\\u00e9sar Azpilicueta\", \"Dwight McNeil\", \"James Tarkowski\", \"Craig Dawson\", \"Andre Gray\", \"Danny Welbeck\", \"Demarai Gray\", \"Matej Vydra\", \"Shane Long\", \"Eddie Nketiah\", \"Emiliano Buend\\u00eda\", \"Josip Drmic\", \"Onel Hern\\u00e1ndez\", \"Kenny McLean\", \"Felipe Anderson Pereira Gomes\", \"Declan Rice\", \"Davy Pr\\u00f6pper\", \"Tom Davies\", \"Glenn Murray\", \"Oliver Norwood\", \"Philip Billing\", \"Jefferson Andr\\u00e9s Lerma Sol\\u00eds\", \"Ryan Bertrand\", \"Cheikhou Kouyat\\u00e9\", \"Lucas Torreira\", \"Joseph Willock\", \"Jonny Evans\", \"Jo\\u00e3o Filipe Iria Santos Moutinho\", \"\\u00c7a\\u011flar S\\u00f6y\\u00fcnc\\u00fc\", \"Sean Longstaff\", \"Jesse Lingard\", \"Andreas Hugo Hoelgebaum Pereira\", \"Paul Pogba\", \"Ross Barkley\", \"Mateo Kova\\u010di\\u0107\", \"Pedro Rodr\\u00edguez Ledesma\", \"Harry Maguire\", \"Ben Mee\", \"Will Hughes\", \"Alex Iwobi\", \"Alexander Tettey\", \"Michy Batshuayi Tunga\", \"Adam Masina\", \"Yves Bissouma\", \"Kortney Hause\", \"Mbwana Ally Samatta\", \"Jarrod Bowen\", \"Manuel Lanzini\", \"Erik Pieters\", \"Lucas Digne\", \"Solly March\", \"Dale Stephens\", \"Jack O'Connell\", \"Sofiane Boufal\", \"Pierre-Emile H\\u00f8jbjerg\", \"Gary Cahill\", \"James McArthur\", \"Etienne Capoue\", \"Fernando Luiz Rosa\", \"Reece James\"], \"textposition\": \"top center\", \"type\": \"scatter\", \"x\": [3034, 2812, 3138, 2660, 2884, 2753, 2589, 3244, 2653, 2638, 1456, 2221, 2027, 2444, 2798, 2629, 3081, 2892, 1940, 2485, 1770, 2768, 1877, 1312, 2234, 3001, 3160, 1726, 2601, 2909, 3234, 2019, 999, 2009, 1851, 1192, 2263, 1651, 2297, 2872, 2500, 1832, 2029, 1361, 2116, 2019, 1950, 2090, 2628, 2123, 1232, 3420, 892, 1511, 2517, 2013, 2455, 3420, 1790, 2015, 961, 1713, 988, 2028, 3176, 2244, 1492, 2948, 1105, 2768, 3280, 2247, 2061, 3033, 2794, 2840, 2606, 1432, 1770, 2105, 3167, 2684, 849, 2486, 2730, 2766, 2514, 3231, 1047, 2670, 1644, 2511, 2316, 1538, 2608, 2520, 2375, 928, 2834, 1870, 2290, 1733, 1653, 1034, 1261, 712, 1041, 3113, 2017, 1711, 2177, 2787, 835, 2556, 2281, 2563, 466, 1297, 1802, 3189, 1822, 3346, 2505, 926, 1257, 1211, 2455, 2958, 2890, 3059, 2811, 2674, 2706, 2699, 2618, 1315, 1633, 3230, 3344, 3420, 2359, 746, 815, 607, 812, 1399, 633, 2462, 637, 1381, 2964, 1505, 3420, 2829, 2026, 790, 3100, 2532, 2709, 2744, 2535, 1508, 844, 3385, 3107, 3037, 1373, 932, 1488, 1205, 1104, 2073, 662, 3420, 2880, 2262, 1601, 2350, 226, 1818, 1260, 1544, 946, 919, 1377, 1877, 3035, 1144, 2528, 2915, 760, 2750, 2168, 3104, 2632, 2399, 1513], \"xaxis\": \"x\", \"y\": [23, 22, 22, 20, 19, 18, 18, 17, 17, 17, 16, 15, 14, 14, 13, 13, 13, 11, 11, 11, 10, 10, 10, 10, 10, 9, 9, 9, 9, 8, 8, 8, 8, 8, 8, 8, 7, 7, 7, 7, 6, 6, 6, 6, 6, 6, 6, 6, 6, 6, 6, 5, 5, 5, 5, 5, 5, 5, 5, 5, 5, 5, 5, 5, 4, 4, 4, 4, 4, 4, 4, 4, 4, 4, 4, 4, 4, 4, 4, 4, 4, 4, 4, 3, 3, 3, 3, 3, 3, 3, 3, 3, 3, 3, 3, 3, 3, 3, 3, 3, 3, 3, 3, 3, 3, 3, 3, 2, 2, 2, 2, 2, 2, 2, 2, 2, 2, 2, 2, 2, 2, 2, 2, 2, 2, 2, 2, 2, 2, 2, 2, 2, 2, 2, 2, 2, 2, 2, 2, 2, 2, 2, 2, 2, 2, 2, 2, 1, 1, 1, 1, 1, 1, 1, 1, 1, 1, 1, 1, 1, 1, 1, 1, 1, 1, 1, 1, 1, 1, 1, 1, 1, 1, 1, 1, 1, 1, 1, 1, 1, 1, 1, 1, 1, 0, 0, 0, 0, 0, 0, 0, 0, 0, 0, 0, 0, 0], \"yaxis\": \"y\"}],\n",
       "                        {\"height\": 800, \"legend\": {\"tracegroupgap\": 0}, \"margin\": {\"t\": 60}, \"template\": {\"data\": {\"bar\": [{\"error_x\": {\"color\": \"#2a3f5f\"}, \"error_y\": {\"color\": \"#2a3f5f\"}, \"marker\": {\"line\": {\"color\": \"#E5ECF6\", \"width\": 0.5}}, \"type\": \"bar\"}], \"barpolar\": [{\"marker\": {\"line\": {\"color\": \"#E5ECF6\", \"width\": 0.5}}, \"type\": \"barpolar\"}], \"carpet\": [{\"aaxis\": {\"endlinecolor\": \"#2a3f5f\", \"gridcolor\": \"white\", \"linecolor\": \"white\", \"minorgridcolor\": \"white\", \"startlinecolor\": \"#2a3f5f\"}, \"baxis\": {\"endlinecolor\": \"#2a3f5f\", \"gridcolor\": \"white\", \"linecolor\": \"white\", \"minorgridcolor\": \"white\", \"startlinecolor\": \"#2a3f5f\"}, \"type\": \"carpet\"}], \"choropleth\": [{\"colorbar\": {\"outlinewidth\": 0, \"ticks\": \"\"}, \"type\": \"choropleth\"}], \"contour\": [{\"colorbar\": {\"outlinewidth\": 0, \"ticks\": \"\"}, \"colorscale\": [[0.0, \"#0d0887\"], [0.1111111111111111, \"#46039f\"], [0.2222222222222222, \"#7201a8\"], [0.3333333333333333, \"#9c179e\"], [0.4444444444444444, \"#bd3786\"], [0.5555555555555556, \"#d8576b\"], [0.6666666666666666, \"#ed7953\"], [0.7777777777777778, \"#fb9f3a\"], [0.8888888888888888, \"#fdca26\"], [1.0, \"#f0f921\"]], \"type\": \"contour\"}], \"contourcarpet\": [{\"colorbar\": {\"outlinewidth\": 0, \"ticks\": \"\"}, \"type\": \"contourcarpet\"}], \"heatmap\": [{\"colorbar\": {\"outlinewidth\": 0, \"ticks\": \"\"}, \"colorscale\": [[0.0, \"#0d0887\"], [0.1111111111111111, \"#46039f\"], [0.2222222222222222, \"#7201a8\"], [0.3333333333333333, \"#9c179e\"], [0.4444444444444444, \"#bd3786\"], [0.5555555555555556, \"#d8576b\"], [0.6666666666666666, \"#ed7953\"], [0.7777777777777778, \"#fb9f3a\"], [0.8888888888888888, \"#fdca26\"], [1.0, \"#f0f921\"]], \"type\": \"heatmap\"}], \"heatmapgl\": [{\"colorbar\": {\"outlinewidth\": 0, \"ticks\": \"\"}, \"colorscale\": [[0.0, \"#0d0887\"], [0.1111111111111111, \"#46039f\"], [0.2222222222222222, \"#7201a8\"], [0.3333333333333333, \"#9c179e\"], [0.4444444444444444, \"#bd3786\"], [0.5555555555555556, \"#d8576b\"], [0.6666666666666666, \"#ed7953\"], [0.7777777777777778, \"#fb9f3a\"], [0.8888888888888888, \"#fdca26\"], [1.0, \"#f0f921\"]], \"type\": \"heatmapgl\"}], \"histogram\": [{\"marker\": {\"colorbar\": {\"outlinewidth\": 0, \"ticks\": \"\"}}, \"type\": \"histogram\"}], \"histogram2d\": [{\"colorbar\": {\"outlinewidth\": 0, \"ticks\": \"\"}, \"colorscale\": [[0.0, \"#0d0887\"], [0.1111111111111111, \"#46039f\"], [0.2222222222222222, \"#7201a8\"], [0.3333333333333333, \"#9c179e\"], [0.4444444444444444, \"#bd3786\"], [0.5555555555555556, \"#d8576b\"], [0.6666666666666666, \"#ed7953\"], [0.7777777777777778, \"#fb9f3a\"], [0.8888888888888888, \"#fdca26\"], [1.0, \"#f0f921\"]], \"type\": \"histogram2d\"}], \"histogram2dcontour\": [{\"colorbar\": {\"outlinewidth\": 0, \"ticks\": \"\"}, \"colorscale\": [[0.0, \"#0d0887\"], [0.1111111111111111, \"#46039f\"], [0.2222222222222222, \"#7201a8\"], [0.3333333333333333, \"#9c179e\"], [0.4444444444444444, \"#bd3786\"], [0.5555555555555556, \"#d8576b\"], [0.6666666666666666, \"#ed7953\"], [0.7777777777777778, \"#fb9f3a\"], [0.8888888888888888, \"#fdca26\"], [1.0, \"#f0f921\"]], \"type\": \"histogram2dcontour\"}], \"mesh3d\": [{\"colorbar\": {\"outlinewidth\": 0, \"ticks\": \"\"}, \"type\": \"mesh3d\"}], \"parcoords\": [{\"line\": {\"colorbar\": {\"outlinewidth\": 0, \"ticks\": \"\"}}, \"type\": \"parcoords\"}], \"pie\": [{\"automargin\": true, \"type\": \"pie\"}], \"scatter\": [{\"marker\": {\"colorbar\": {\"outlinewidth\": 0, \"ticks\": \"\"}}, \"type\": \"scatter\"}], \"scatter3d\": [{\"line\": {\"colorbar\": {\"outlinewidth\": 0, \"ticks\": \"\"}}, \"marker\": {\"colorbar\": {\"outlinewidth\": 0, \"ticks\": \"\"}}, \"type\": \"scatter3d\"}], \"scattercarpet\": [{\"marker\": {\"colorbar\": {\"outlinewidth\": 0, \"ticks\": \"\"}}, \"type\": \"scattercarpet\"}], \"scattergeo\": [{\"marker\": {\"colorbar\": {\"outlinewidth\": 0, \"ticks\": \"\"}}, \"type\": \"scattergeo\"}], \"scattergl\": [{\"marker\": {\"colorbar\": {\"outlinewidth\": 0, \"ticks\": \"\"}}, \"type\": \"scattergl\"}], \"scattermapbox\": [{\"marker\": {\"colorbar\": {\"outlinewidth\": 0, \"ticks\": \"\"}}, \"type\": \"scattermapbox\"}], \"scatterpolar\": [{\"marker\": {\"colorbar\": {\"outlinewidth\": 0, \"ticks\": \"\"}}, \"type\": \"scatterpolar\"}], \"scatterpolargl\": [{\"marker\": {\"colorbar\": {\"outlinewidth\": 0, \"ticks\": \"\"}}, \"type\": \"scatterpolargl\"}], \"scatterternary\": [{\"marker\": {\"colorbar\": {\"outlinewidth\": 0, \"ticks\": \"\"}}, \"type\": \"scatterternary\"}], \"surface\": [{\"colorbar\": {\"outlinewidth\": 0, \"ticks\": \"\"}, \"colorscale\": [[0.0, \"#0d0887\"], [0.1111111111111111, \"#46039f\"], [0.2222222222222222, \"#7201a8\"], [0.3333333333333333, \"#9c179e\"], [0.4444444444444444, \"#bd3786\"], [0.5555555555555556, \"#d8576b\"], [0.6666666666666666, \"#ed7953\"], [0.7777777777777778, \"#fb9f3a\"], [0.8888888888888888, \"#fdca26\"], [1.0, \"#f0f921\"]], \"type\": \"surface\"}], \"table\": [{\"cells\": {\"fill\": {\"color\": \"#EBF0F8\"}, \"line\": {\"color\": \"white\"}}, \"header\": {\"fill\": {\"color\": \"#C8D4E3\"}, \"line\": {\"color\": \"white\"}}, \"type\": \"table\"}]}, \"layout\": {\"annotationdefaults\": {\"arrowcolor\": \"#2a3f5f\", \"arrowhead\": 0, \"arrowwidth\": 1}, \"coloraxis\": {\"colorbar\": {\"outlinewidth\": 0, \"ticks\": \"\"}}, \"colorscale\": {\"diverging\": [[0, \"#8e0152\"], [0.1, \"#c51b7d\"], [0.2, \"#de77ae\"], [0.3, \"#f1b6da\"], [0.4, \"#fde0ef\"], [0.5, \"#f7f7f7\"], [0.6, \"#e6f5d0\"], [0.7, \"#b8e186\"], [0.8, \"#7fbc41\"], [0.9, \"#4d9221\"], [1, \"#276419\"]], \"sequential\": [[0.0, \"#0d0887\"], [0.1111111111111111, \"#46039f\"], [0.2222222222222222, \"#7201a8\"], [0.3333333333333333, \"#9c179e\"], [0.4444444444444444, \"#bd3786\"], [0.5555555555555556, \"#d8576b\"], [0.6666666666666666, \"#ed7953\"], [0.7777777777777778, \"#fb9f3a\"], [0.8888888888888888, \"#fdca26\"], [1.0, \"#f0f921\"]], \"sequentialminus\": [[0.0, \"#0d0887\"], [0.1111111111111111, \"#46039f\"], [0.2222222222222222, \"#7201a8\"], [0.3333333333333333, \"#9c179e\"], [0.4444444444444444, \"#bd3786\"], [0.5555555555555556, \"#d8576b\"], [0.6666666666666666, \"#ed7953\"], [0.7777777777777778, \"#fb9f3a\"], [0.8888888888888888, \"#fdca26\"], [1.0, \"#f0f921\"]]}, \"colorway\": [\"#636efa\", \"#EF553B\", \"#00cc96\", \"#ab63fa\", \"#FFA15A\", \"#19d3f3\", \"#FF6692\", \"#B6E880\", \"#FF97FF\", \"#FECB52\"], \"font\": {\"color\": \"#2a3f5f\"}, \"geo\": {\"bgcolor\": \"white\", \"lakecolor\": \"white\", \"landcolor\": \"#E5ECF6\", \"showlakes\": true, \"showland\": true, \"subunitcolor\": \"white\"}, \"hoverlabel\": {\"align\": \"left\"}, \"hovermode\": \"closest\", \"mapbox\": {\"style\": \"light\"}, \"paper_bgcolor\": \"white\", \"plot_bgcolor\": \"#E5ECF6\", \"polar\": {\"angularaxis\": {\"gridcolor\": \"white\", \"linecolor\": \"white\", \"ticks\": \"\"}, \"bgcolor\": \"#E5ECF6\", \"radialaxis\": {\"gridcolor\": \"white\", \"linecolor\": \"white\", \"ticks\": \"\"}}, \"scene\": {\"xaxis\": {\"backgroundcolor\": \"#E5ECF6\", \"gridcolor\": \"white\", \"gridwidth\": 2, \"linecolor\": \"white\", \"showbackground\": true, \"ticks\": \"\", \"zerolinecolor\": \"white\"}, \"yaxis\": {\"backgroundcolor\": \"#E5ECF6\", \"gridcolor\": \"white\", \"gridwidth\": 2, \"linecolor\": \"white\", \"showbackground\": true, \"ticks\": \"\", \"zerolinecolor\": \"white\"}, \"zaxis\": {\"backgroundcolor\": \"#E5ECF6\", \"gridcolor\": \"white\", \"gridwidth\": 2, \"linecolor\": \"white\", \"showbackground\": true, \"ticks\": \"\", \"zerolinecolor\": \"white\"}}, \"shapedefaults\": {\"line\": {\"color\": \"#2a3f5f\"}}, \"ternary\": {\"aaxis\": {\"gridcolor\": \"white\", \"linecolor\": \"white\", \"ticks\": \"\"}, \"baxis\": {\"gridcolor\": \"white\", \"linecolor\": \"white\", \"ticks\": \"\"}, \"bgcolor\": \"#E5ECF6\", \"caxis\": {\"gridcolor\": \"white\", \"linecolor\": \"white\", \"ticks\": \"\"}}, \"title\": {\"x\": 0.05}, \"xaxis\": {\"automargin\": true, \"gridcolor\": \"white\", \"linecolor\": \"white\", \"ticks\": \"\", \"title\": {\"standoff\": 15}, \"zerolinecolor\": \"white\", \"zerolinewidth\": 2}, \"yaxis\": {\"automargin\": true, \"gridcolor\": \"white\", \"linecolor\": \"white\", \"ticks\": \"\", \"title\": {\"standoff\": 15}, \"zerolinecolor\": \"white\", \"zerolinewidth\": 2}}}, \"title\": {\"text\": \"Scatter of goals and minutes played\"}, \"xaxis\": {\"anchor\": \"y\", \"domain\": [0.0, 1.0], \"title\": {\"text\": \"MINUTES PLAYED\"}, \"type\": \"log\"}, \"yaxis\": {\"anchor\": \"x\", \"domain\": [0.0, 1.0], \"title\": {\"text\": \"GOALS\"}}},\n",
       "                        {\"responsive\": true}\n",
       "                    ).then(function(){\n",
       "                            \n",
       "var gd = document.getElementById('0358173e-7336-4357-8530-c661585d106a');\n",
       "var x = new MutationObserver(function (mutations, observer) {{\n",
       "        var display = window.getComputedStyle(gd).display;\n",
       "        if (!display || display === 'none') {{\n",
       "            console.log([gd, 'removed!']);\n",
       "            Plotly.purge(gd);\n",
       "            observer.disconnect();\n",
       "        }}\n",
       "}});\n",
       "\n",
       "// Listen for the removal of the full notebook cells\n",
       "var notebookContainer = gd.closest('#notebook-container');\n",
       "if (notebookContainer) {{\n",
       "    x.observe(notebookContainer, {childList: true});\n",
       "}}\n",
       "\n",
       "// Listen for the clearing of the current output cell\n",
       "var outputEl = gd.closest('.output');\n",
       "if (outputEl) {{\n",
       "    x.observe(outputEl, {childList: true});\n",
       "}}\n",
       "\n",
       "                        })\n",
       "                };\n",
       "                });\n",
       "            </script>\n",
       "        </div>"
      ]
     },
     "metadata": {},
     "output_type": "display_data"
    }
   ],
   "source": [
    "plotlyScatter(df,df['MINUTES PLAYED'],df['GOALS'],df['PLAYER'],'Scatter of goals and minutes played')"
   ]
  },
  {
   "cell_type": "markdown",
   "metadata": {},
   "source": [
    "## Number of matchs column added based on the number of minutes played"
   ]
  },
  {
   "cell_type": "code",
   "execution_count": 13,
   "metadata": {},
   "outputs": [
    {
     "output_type": "execute_result",
     "data": {
      "text/plain": "                         PLAYER             TEAM  GAMES PLAYED  GAMES STARTED  \\\nRank                                                                            \n1                   Jamie Vardy   Leicester City            35             34   \n2                    Danny Ings      Southampton            38             32   \n3     Pierre-Emerick Aubameyang          Arsenal            36             35   \n4     Raheem Shaquille Sterling  Manchester City            33             30   \n5           Mohamed Salah Ghaly        Liverpool            34             33   \n\n      MINUTES PLAYED  GOALS  ASSISTS  SHOTS  SHOTS ON GOAL  \\\nRank                                                         \n1               3034     23        5     71             43   \n2               2812     22        2     66             38   \n3               3138     22        3     70             42   \n4               2660     20        1     68             38   \n5               2884     19       10     95             59   \n\n      NUMBER OF MATCHS EQUIVALENT  \nRank                               \n1                              33  \n2                              31  \n3                              34  \n4                              29  \n5                              32  ",
      "text/html": "<div>\n<style scoped>\n    .dataframe tbody tr th:only-of-type {\n        vertical-align: middle;\n    }\n\n    .dataframe tbody tr th {\n        vertical-align: top;\n    }\n\n    .dataframe thead th {\n        text-align: right;\n    }\n</style>\n<table border=\"1\" class=\"dataframe\">\n  <thead>\n    <tr style=\"text-align: right;\">\n      <th></th>\n      <th>PLAYER</th>\n      <th>TEAM</th>\n      <th>GAMES PLAYED</th>\n      <th>GAMES STARTED</th>\n      <th>MINUTES PLAYED</th>\n      <th>GOALS</th>\n      <th>ASSISTS</th>\n      <th>SHOTS</th>\n      <th>SHOTS ON GOAL</th>\n      <th>NUMBER OF MATCHS EQUIVALENT</th>\n    </tr>\n    <tr>\n      <th>Rank</th>\n      <th></th>\n      <th></th>\n      <th></th>\n      <th></th>\n      <th></th>\n      <th></th>\n      <th></th>\n      <th></th>\n      <th></th>\n      <th></th>\n    </tr>\n  </thead>\n  <tbody>\n    <tr>\n      <th>1</th>\n      <td>Jamie Vardy</td>\n      <td>Leicester City</td>\n      <td>35</td>\n      <td>34</td>\n      <td>3034</td>\n      <td>23</td>\n      <td>5</td>\n      <td>71</td>\n      <td>43</td>\n      <td>33</td>\n    </tr>\n    <tr>\n      <th>2</th>\n      <td>Danny Ings</td>\n      <td>Southampton</td>\n      <td>38</td>\n      <td>32</td>\n      <td>2812</td>\n      <td>22</td>\n      <td>2</td>\n      <td>66</td>\n      <td>38</td>\n      <td>31</td>\n    </tr>\n    <tr>\n      <th>3</th>\n      <td>Pierre-Emerick Aubameyang</td>\n      <td>Arsenal</td>\n      <td>36</td>\n      <td>35</td>\n      <td>3138</td>\n      <td>22</td>\n      <td>3</td>\n      <td>70</td>\n      <td>42</td>\n      <td>34</td>\n    </tr>\n    <tr>\n      <th>4</th>\n      <td>Raheem Shaquille Sterling</td>\n      <td>Manchester City</td>\n      <td>33</td>\n      <td>30</td>\n      <td>2660</td>\n      <td>20</td>\n      <td>1</td>\n      <td>68</td>\n      <td>38</td>\n      <td>29</td>\n    </tr>\n    <tr>\n      <th>5</th>\n      <td>Mohamed Salah Ghaly</td>\n      <td>Liverpool</td>\n      <td>34</td>\n      <td>33</td>\n      <td>2884</td>\n      <td>19</td>\n      <td>10</td>\n      <td>95</td>\n      <td>59</td>\n      <td>32</td>\n    </tr>\n  </tbody>\n</table>\n</div>"
     },
     "metadata": {},
     "execution_count": 13
    }
   ],
   "source": [
    "df['NUMBER OF MATCHS EQUIVALENT'] = df['MINUTES PLAYED'] // 90\n",
    "df.head()"
   ]
  },
  {
   "cell_type": "markdown",
   "metadata": {},
   "source": [
    "## Linear Regression of the shots and shots on goal columns "
   ]
  },
  {
   "cell_type": "code",
   "execution_count": 14,
   "metadata": {},
   "outputs": [],
   "source": [
    "X = df.iloc[:, df.columns.get_loc('SHOTS')].values.reshape(-1, 1)  # values converts it into a numpy array\n",
    "Y = df.iloc[:, df.columns.get_loc('SHOTS ON GOAL')].values.reshape(-1, 1)  # -1 means that calculate the dimension of rows, but have 1 column\n",
    "linear_regressor = LinearRegression()  # create object for the class\n",
    "linear_regressor.fit(X, Y)  # perform linear regression\n",
    "Y_pred = linear_regressor.predict(X)  # make predictions"
   ]
  },
  {
   "cell_type": "markdown",
   "metadata": {},
   "source": [
    "## Linear regression of the shots and the shots on goal to observe if most shots are on target"
   ]
  },
  {
   "cell_type": "code",
   "execution_count": 15,
   "metadata": {},
   "outputs": [
    {
     "output_type": "display_data",
     "data": {
      "text/plain": "<Figure size 432x288 with 1 Axes>",
      "image/svg+xml": "<?xml version=\"1.0\" encoding=\"utf-8\" standalone=\"no\"?>\r\n<!DOCTYPE svg PUBLIC \"-//W3C//DTD SVG 1.1//EN\"\r\n  \"http://www.w3.org/Graphics/SVG/1.1/DTD/svg11.dtd\">\r\n<!-- Created with matplotlib (https://matplotlib.org/) -->\r\n<svg height=\"248.518125pt\" version=\"1.1\" viewBox=\"0 0 368.925 248.518125\" width=\"368.925pt\" xmlns=\"http://www.w3.org/2000/svg\" xmlns:xlink=\"http://www.w3.org/1999/xlink\">\r\n <defs>\r\n  <style type=\"text/css\">\r\n*{stroke-linecap:butt;stroke-linejoin:round;}\r\n  </style>\r\n </defs>\r\n <g id=\"figure_1\">\r\n  <g id=\"patch_1\">\r\n   <path d=\"M -0 248.518125 \r\nL 368.925 248.518125 \r\nL 368.925 0 \r\nL -0 0 \r\nz\r\n\" style=\"fill:none;\"/>\r\n  </g>\r\n  <g id=\"axes_1\">\r\n   <g id=\"patch_2\">\r\n    <path d=\"M 26.925 224.64 \r\nL 361.725 224.64 \r\nL 361.725 7.2 \r\nL 26.925 7.2 \r\nz\r\n\" style=\"fill:#ffffff;\"/>\r\n   </g>\r\n   <g id=\"PathCollection_1\">\r\n    <defs>\r\n     <path d=\"M 0 3 \r\nC 0.795609 3 1.55874 2.683901 2.12132 2.12132 \r\nC 2.683901 1.55874 3 0.795609 3 0 \r\nC 3 -0.795609 2.683901 -1.55874 2.12132 -2.12132 \r\nC 1.55874 -2.683901 0.795609 -3 0 -3 \r\nC -0.795609 -3 -1.55874 -2.683901 -2.12132 -2.12132 \r\nC -2.683901 -1.55874 -3 -0.795609 -3 0 \r\nC -3 0.795609 -2.683901 1.55874 -2.12132 2.12132 \r\nC -1.55874 2.683901 -0.795609 3 0 3 \r\nz\r\n\" id=\"me45ad90861\" style=\"stroke:#1f77b4;\"/>\r\n    </defs>\r\n    <g clip-path=\"url(#pc7bc0b9452)\">\r\n     <use style=\"fill:#1f77b4;stroke:#1f77b4;\" x=\"259.531868\" xlink:href=\"#me45ad90861\" y=\"71.635113\"/>\r\n     <use style=\"fill:#1f77b4;stroke:#1f77b4;\" x=\"241.418849\" xlink:href=\"#me45ad90861\" y=\"88.667762\"/>\r\n     <use style=\"fill:#1f77b4;stroke:#1f77b4;\" x=\"255.909264\" xlink:href=\"#me45ad90861\" y=\"75.041642\"/>\r\n     <use style=\"fill:#1f77b4;stroke:#1f77b4;\" x=\"248.664056\" xlink:href=\"#me45ad90861\" y=\"88.667762\"/>\r\n     <use style=\"fill:#1f77b4;stroke:#1f77b4;\" x=\"346.474358\" xlink:href=\"#me45ad90861\" y=\"17.130636\"/>\r\n     <use style=\"fill:#1f77b4;stroke:#1f77b4;\" x=\"241.418849\" xlink:href=\"#me45ad90861\" y=\"95.480821\"/>\r\n     <use style=\"fill:#1f77b4;stroke:#1f77b4;\" x=\"226.928434\" xlink:href=\"#me45ad90861\" y=\"92.074291\"/>\r\n     <use style=\"fill:#1f77b4;stroke:#1f77b4;\" x=\"324.738735\" xlink:href=\"#me45ad90861\" y=\"68.228583\"/>\r\n     <use style=\"fill:#1f77b4;stroke:#1f77b4;\" x=\"281.26749\" xlink:href=\"#me45ad90861\" y=\"68.228583\"/>\r\n     <use style=\"fill:#1f77b4;stroke:#1f77b4;\" x=\"216.060623\" xlink:href=\"#me45ad90861\" y=\"81.854702\"/>\r\n     <use style=\"fill:#1f77b4;stroke:#1f77b4;\" x=\"197.947604\" xlink:href=\"#me45ad90861\" y=\"122.73306\"/>\r\n     <use style=\"fill:#1f77b4;stroke:#1f77b4;\" x=\"270.399679\" xlink:href=\"#me45ad90861\" y=\"81.854702\"/>\r\n     <use style=\"fill:#1f77b4;stroke:#1f77b4;\" x=\"295.757905\" xlink:href=\"#me45ad90861\" y=\"54.602464\"/>\r\n     <use style=\"fill:#1f77b4;stroke:#1f77b4;\" x=\"208.815415\" xlink:href=\"#me45ad90861\" y=\"112.51347\"/>\r\n     <use style=\"fill:#1f77b4;stroke:#1f77b4;\" x=\"255.909264\" xlink:href=\"#me45ad90861\" y=\"112.51347\"/>\r\n     <use style=\"fill:#1f77b4;stroke:#1f77b4;\" x=\"255.909264\" xlink:href=\"#me45ad90861\" y=\"88.667762\"/>\r\n     <use style=\"fill:#1f77b4;stroke:#1f77b4;\" x=\"241.418849\" xlink:href=\"#me45ad90861\" y=\"109.10694\"/>\r\n     <use style=\"fill:#1f77b4;stroke:#1f77b4;\" x=\"205.192811\" xlink:href=\"#me45ad90861\" y=\"98.887351\"/>\r\n     <use style=\"fill:#1f77b4;stroke:#1f77b4;\" x=\"187.079792\" xlink:href=\"#me45ad90861\" y=\"109.10694\"/>\r\n     <use style=\"fill:#1f77b4;stroke:#1f77b4;\" x=\"226.928434\" xlink:href=\"#me45ad90861\" y=\"88.667762\"/>\r\n     <use style=\"fill:#1f77b4;stroke:#1f77b4;\" x=\"197.947604\" xlink:href=\"#me45ad90861\" y=\"112.51347\"/>\r\n     <use style=\"fill:#1f77b4;stroke:#1f77b4;\" x=\"237.796245\" xlink:href=\"#me45ad90861\" y=\"88.667762\"/>\r\n     <use style=\"fill:#1f77b4;stroke:#1f77b4;\" x=\"161.721566\" xlink:href=\"#me45ad90861\" y=\"129.546119\"/>\r\n     <use style=\"fill:#1f77b4;stroke:#1f77b4;\" x=\"118.250321\" xlink:href=\"#me45ad90861\" y=\"149.985298\"/>\r\n     <use style=\"fill:#1f77b4;stroke:#1f77b4;\" x=\"118.250321\" xlink:href=\"#me45ad90861\" y=\"139.765709\"/>\r\n     <use style=\"fill:#1f77b4;stroke:#1f77b4;\" x=\"255.909264\" xlink:href=\"#me45ad90861\" y=\"85.261232\"/>\r\n     <use style=\"fill:#1f77b4;stroke:#1f77b4;\" x=\"161.721566\" xlink:href=\"#me45ad90861\" y=\"136.359179\"/>\r\n     <use style=\"fill:#1f77b4;stroke:#1f77b4;\" x=\"176.211981\" xlink:href=\"#me45ad90861\" y=\"129.546119\"/>\r\n     <use style=\"fill:#1f77b4;stroke:#1f77b4;\" x=\"176.211981\" xlink:href=\"#me45ad90861\" y=\"119.32653\"/>\r\n     <use style=\"fill:#1f77b4;stroke:#1f77b4;\" x=\"165.34417\" xlink:href=\"#me45ad90861\" y=\"146.578768\"/>\r\n     <use style=\"fill:#1f77b4;stroke:#1f77b4;\" x=\"201.570208\" xlink:href=\"#me45ad90861\" y=\"139.765709\"/>\r\n     <use style=\"fill:#1f77b4;stroke:#1f77b4;\" x=\"132.740736\" xlink:href=\"#me45ad90861\" y=\"143.172238\"/>\r\n     <use style=\"fill:#1f77b4;stroke:#1f77b4;\" x=\"129.118132\" xlink:href=\"#me45ad90861\" y=\"153.391828\"/>\r\n     <use style=\"fill:#1f77b4;stroke:#1f77b4;\" x=\"201.570208\" xlink:href=\"#me45ad90861\" y=\"115.92\"/>\r\n     <use style=\"fill:#1f77b4;stroke:#1f77b4;\" x=\"129.118132\" xlink:href=\"#me45ad90861\" y=\"153.391828\"/>\r\n     <use style=\"fill:#1f77b4;stroke:#1f77b4;\" x=\"136.36334\" xlink:href=\"#me45ad90861\" y=\"156.798358\"/>\r\n     <use style=\"fill:#1f77b4;stroke:#1f77b4;\" x=\"168.966774\" xlink:href=\"#me45ad90861\" y=\"126.139589\"/>\r\n     <use style=\"fill:#1f77b4;stroke:#1f77b4;\" x=\"114.627717\" xlink:href=\"#me45ad90861\" y=\"149.985298\"/>\r\n     <use style=\"fill:#1f77b4;stroke:#1f77b4;\" x=\"168.966774\" xlink:href=\"#me45ad90861\" y=\"129.546119\"/>\r\n     <use style=\"fill:#1f77b4;stroke:#1f77b4;\" x=\"183.457189\" xlink:href=\"#me45ad90861\" y=\"119.32653\"/>\r\n     <use style=\"fill:#1f77b4;stroke:#1f77b4;\" x=\"107.38251\" xlink:href=\"#me45ad90861\" y=\"163.611417\"/>\r\n     <use style=\"fill:#1f77b4;stroke:#1f77b4;\" x=\"118.250321\" xlink:href=\"#me45ad90861\" y=\"156.798358\"/>\r\n     <use style=\"fill:#1f77b4;stroke:#1f77b4;\" x=\"107.38251\" xlink:href=\"#me45ad90861\" y=\"167.017947\"/>\r\n     <use style=\"fill:#1f77b4;stroke:#1f77b4;\" x=\"118.250321\" xlink:href=\"#me45ad90861\" y=\"177.237536\"/>\r\n     <use style=\"fill:#1f77b4;stroke:#1f77b4;\" x=\"158.098962\" xlink:href=\"#me45ad90861\" y=\"132.952649\"/>\r\n     <use style=\"fill:#1f77b4;stroke:#1f77b4;\" x=\"82.024284\" xlink:href=\"#me45ad90861\" y=\"173.831007\"/>\r\n     <use style=\"fill:#1f77b4;stroke:#1f77b4;\" x=\"103.759906\" xlink:href=\"#me45ad90861\" y=\"160.204887\"/>\r\n     <use style=\"fill:#1f77b4;stroke:#1f77b4;\" x=\"168.966774\" xlink:href=\"#me45ad90861\" y=\"122.73306\"/>\r\n     <use style=\"fill:#1f77b4;stroke:#1f77b4;\" x=\"161.721566\" xlink:href=\"#me45ad90861\" y=\"156.798358\"/>\r\n     <use style=\"fill:#1f77b4;stroke:#1f77b4;\" x=\"111.005114\" xlink:href=\"#me45ad90861\" y=\"170.424477\"/>\r\n     <use style=\"fill:#1f77b4;stroke:#1f77b4;\" x=\"85.646887\" xlink:href=\"#me45ad90861\" y=\"187.457126\"/>\r\n     <use style=\"fill:#1f77b4;stroke:#1f77b4;\" x=\"100.137302\" xlink:href=\"#me45ad90861\" y=\"163.611417\"/>\r\n     <use style=\"fill:#1f77b4;stroke:#1f77b4;\" x=\"96.514699\" xlink:href=\"#me45ad90861\" y=\"167.017947\"/>\r\n     <use style=\"fill:#1f77b4;stroke:#1f77b4;\" x=\"60.288661\" xlink:href=\"#me45ad90861\" y=\"184.050596\"/>\r\n     <use style=\"fill:#1f77b4;stroke:#1f77b4;\" x=\"71.156472\" xlink:href=\"#me45ad90861\" y=\"180.644066\"/>\r\n     <use style=\"fill:#1f77b4;stroke:#1f77b4;\" x=\"121.872925\" xlink:href=\"#me45ad90861\" y=\"177.237536\"/>\r\n     <use style=\"fill:#1f77b4;stroke:#1f77b4;\" x=\"121.872925\" xlink:href=\"#me45ad90861\" y=\"184.050596\"/>\r\n     <use style=\"fill:#1f77b4;stroke:#1f77b4;\" x=\"158.098962\" xlink:href=\"#me45ad90861\" y=\"129.546119\"/>\r\n     <use style=\"fill:#1f77b4;stroke:#1f77b4;\" x=\"103.759906\" xlink:href=\"#me45ad90861\" y=\"156.798358\"/>\r\n     <use style=\"fill:#1f77b4;stroke:#1f77b4;\" x=\"136.36334\" xlink:href=\"#me45ad90861\" y=\"156.798358\"/>\r\n     <use style=\"fill:#1f77b4;stroke:#1f77b4;\" x=\"107.38251\" xlink:href=\"#me45ad90861\" y=\"149.985298\"/>\r\n     <use style=\"fill:#1f77b4;stroke:#1f77b4;\" x=\"129.118132\" xlink:href=\"#me45ad90861\" y=\"149.985298\"/>\r\n     <use style=\"fill:#1f77b4;stroke:#1f77b4;\" x=\"82.024284\" xlink:href=\"#me45ad90861\" y=\"173.831007\"/>\r\n     <use style=\"fill:#1f77b4;stroke:#1f77b4;\" x=\"111.005114\" xlink:href=\"#me45ad90861\" y=\"173.831007\"/>\r\n     <use style=\"fill:#1f77b4;stroke:#1f77b4;\" x=\"100.137302\" xlink:href=\"#me45ad90861\" y=\"173.831007\"/>\r\n     <use style=\"fill:#1f77b4;stroke:#1f77b4;\" x=\"45.798246\" xlink:href=\"#me45ad90861\" y=\"190.863655\"/>\r\n     <use style=\"fill:#1f77b4;stroke:#1f77b4;\" x=\"82.024284\" xlink:href=\"#me45ad90861\" y=\"184.050596\"/>\r\n     <use style=\"fill:#1f77b4;stroke:#1f77b4;\" x=\"114.627717\" xlink:href=\"#me45ad90861\" y=\"167.017947\"/>\r\n     <use style=\"fill:#1f77b4;stroke:#1f77b4;\" x=\"82.024284\" xlink:href=\"#me45ad90861\" y=\"184.050596\"/>\r\n     <use style=\"fill:#1f77b4;stroke:#1f77b4;\" x=\"165.34417\" xlink:href=\"#me45ad90861\" y=\"146.578768\"/>\r\n     <use style=\"fill:#1f77b4;stroke:#1f77b4;\" x=\"143.608547\" xlink:href=\"#me45ad90861\" y=\"160.204887\"/>\r\n     <use style=\"fill:#1f77b4;stroke:#1f77b4;\" x=\"129.118132\" xlink:href=\"#me45ad90861\" y=\"170.424477\"/>\r\n     <use style=\"fill:#1f77b4;stroke:#1f77b4;\" x=\"150.853755\" xlink:href=\"#me45ad90861\" y=\"149.985298\"/>\r\n     <use style=\"fill:#1f77b4;stroke:#1f77b4;\" x=\"136.36334\" xlink:href=\"#me45ad90861\" y=\"160.204887\"/>\r\n     <use style=\"fill:#1f77b4;stroke:#1f77b4;\" x=\"56.666057\" xlink:href=\"#me45ad90861\" y=\"201.083245\"/>\r\n     <use style=\"fill:#1f77b4;stroke:#1f77b4;\" x=\"96.514699\" xlink:href=\"#me45ad90861\" y=\"163.611417\"/>\r\n     <use style=\"fill:#1f77b4;stroke:#1f77b4;\" x=\"103.759906\" xlink:href=\"#me45ad90861\" y=\"177.237536\"/>\r\n     <use style=\"fill:#1f77b4;stroke:#1f77b4;\" x=\"71.156472\" xlink:href=\"#me45ad90861\" y=\"190.863655\"/>\r\n     <use style=\"fill:#1f77b4;stroke:#1f77b4;\" x=\"63.911265\" xlink:href=\"#me45ad90861\" y=\"184.050596\"/>\r\n     <use style=\"fill:#1f77b4;stroke:#1f77b4;\" x=\"158.098962\" xlink:href=\"#me45ad90861\" y=\"146.578768\"/>\r\n     <use style=\"fill:#1f77b4;stroke:#1f77b4;\" x=\"150.853755\" xlink:href=\"#me45ad90861\" y=\"177.237536\"/>\r\n     <use style=\"fill:#1f77b4;stroke:#1f77b4;\" x=\"53.043454\" xlink:href=\"#me45ad90861\" y=\"197.676715\"/>\r\n     <use style=\"fill:#1f77b4;stroke:#1f77b4;\" x=\"67.533869\" xlink:href=\"#me45ad90861\" y=\"184.050596\"/>\r\n     <use style=\"fill:#1f77b4;stroke:#1f77b4;\" x=\"74.779076\" xlink:href=\"#me45ad90861\" y=\"187.457126\"/>\r\n     <use style=\"fill:#1f77b4;stroke:#1f77b4;\" x=\"53.043454\" xlink:href=\"#me45ad90861\" y=\"201.083245\"/>\r\n     <use style=\"fill:#1f77b4;stroke:#1f77b4;\" x=\"53.043454\" xlink:href=\"#me45ad90861\" y=\"194.270185\"/>\r\n     <use style=\"fill:#1f77b4;stroke:#1f77b4;\" x=\"78.40168\" xlink:href=\"#me45ad90861\" y=\"187.457126\"/>\r\n     <use style=\"fill:#1f77b4;stroke:#1f77b4;\" x=\"96.514699\" xlink:href=\"#me45ad90861\" y=\"184.050596\"/>\r\n     <use style=\"fill:#1f77b4;stroke:#1f77b4;\" x=\"49.42085\" xlink:href=\"#me45ad90861\" y=\"194.270185\"/>\r\n     <use style=\"fill:#1f77b4;stroke:#1f77b4;\" x=\"49.42085\" xlink:href=\"#me45ad90861\" y=\"194.270185\"/>\r\n     <use style=\"fill:#1f77b4;stroke:#1f77b4;\" x=\"67.533869\" xlink:href=\"#me45ad90861\" y=\"190.863655\"/>\r\n     <use style=\"fill:#1f77b4;stroke:#1f77b4;\" x=\"67.533869\" xlink:href=\"#me45ad90861\" y=\"197.676715\"/>\r\n     <use style=\"fill:#1f77b4;stroke:#1f77b4;\" x=\"158.098962\" xlink:href=\"#me45ad90861\" y=\"149.985298\"/>\r\n     <use style=\"fill:#1f77b4;stroke:#1f77b4;\" x=\"60.288661\" xlink:href=\"#me45ad90861\" y=\"184.050596\"/>\r\n     <use style=\"fill:#1f77b4;stroke:#1f77b4;\" x=\"82.024284\" xlink:href=\"#me45ad90861\" y=\"177.237536\"/>\r\n     <use style=\"fill:#1f77b4;stroke:#1f77b4;\" x=\"56.666057\" xlink:href=\"#me45ad90861\" y=\"201.083245\"/>\r\n     <use style=\"fill:#1f77b4;stroke:#1f77b4;\" x=\"49.42085\" xlink:href=\"#me45ad90861\" y=\"197.676715\"/>\r\n     <use style=\"fill:#1f77b4;stroke:#1f77b4;\" x=\"45.798246\" xlink:href=\"#me45ad90861\" y=\"197.676715\"/>\r\n     <use style=\"fill:#1f77b4;stroke:#1f77b4;\" x=\"129.118132\" xlink:href=\"#me45ad90861\" y=\"173.831007\"/>\r\n     <use style=\"fill:#1f77b4;stroke:#1f77b4;\" x=\"118.250321\" xlink:href=\"#me45ad90861\" y=\"146.578768\"/>\r\n     <use style=\"fill:#1f77b4;stroke:#1f77b4;\" x=\"118.250321\" xlink:href=\"#me45ad90861\" y=\"149.985298\"/>\r\n     <use style=\"fill:#1f77b4;stroke:#1f77b4;\" x=\"45.798246\" xlink:href=\"#me45ad90861\" y=\"197.676715\"/>\r\n     <use style=\"fill:#1f77b4;stroke:#1f77b4;\" x=\"49.42085\" xlink:href=\"#me45ad90861\" y=\"187.457126\"/>\r\n     <use style=\"fill:#1f77b4;stroke:#1f77b4;\" x=\"45.798246\" xlink:href=\"#me45ad90861\" y=\"184.050596\"/>\r\n     <use style=\"fill:#1f77b4;stroke:#1f77b4;\" x=\"92.892095\" xlink:href=\"#me45ad90861\" y=\"170.424477\"/>\r\n     <use style=\"fill:#1f77b4;stroke:#1f77b4;\" x=\"42.175642\" xlink:href=\"#me45ad90861\" y=\"194.270185\"/>\r\n     <use style=\"fill:#1f77b4;stroke:#1f77b4;\" x=\"60.288661\" xlink:href=\"#me45ad90861\" y=\"190.863655\"/>\r\n     <use style=\"fill:#1f77b4;stroke:#1f77b4;\" x=\"56.666057\" xlink:href=\"#me45ad90861\" y=\"197.676715\"/>\r\n     <use style=\"fill:#1f77b4;stroke:#1f77b4;\" x=\"71.156472\" xlink:href=\"#me45ad90861\" y=\"190.863655\"/>\r\n     <use style=\"fill:#1f77b4;stroke:#1f77b4;\" x=\"45.798246\" xlink:href=\"#me45ad90861\" y=\"194.270185\"/>\r\n     <use style=\"fill:#1f77b4;stroke:#1f77b4;\" x=\"100.137302\" xlink:href=\"#me45ad90861\" y=\"180.644066\"/>\r\n     <use style=\"fill:#1f77b4;stroke:#1f77b4;\" x=\"45.798246\" xlink:href=\"#me45ad90861\" y=\"204.489775\"/>\r\n     <use style=\"fill:#1f77b4;stroke:#1f77b4;\" x=\"92.892095\" xlink:href=\"#me45ad90861\" y=\"173.831007\"/>\r\n     <use style=\"fill:#1f77b4;stroke:#1f77b4;\" x=\"49.42085\" xlink:href=\"#me45ad90861\" y=\"204.489775\"/>\r\n     <use style=\"fill:#1f77b4;stroke:#1f77b4;\" x=\"85.646887\" xlink:href=\"#me45ad90861\" y=\"180.644066\"/>\r\n     <use style=\"fill:#1f77b4;stroke:#1f77b4;\" x=\"96.514699\" xlink:href=\"#me45ad90861\" y=\"170.424477\"/>\r\n     <use style=\"fill:#1f77b4;stroke:#1f77b4;\" x=\"45.798246\" xlink:href=\"#me45ad90861\" y=\"201.083245\"/>\r\n     <use style=\"fill:#1f77b4;stroke:#1f77b4;\" x=\"71.156472\" xlink:href=\"#me45ad90861\" y=\"184.050596\"/>\r\n     <use style=\"fill:#1f77b4;stroke:#1f77b4;\" x=\"74.779076\" xlink:href=\"#me45ad90861\" y=\"187.457126\"/>\r\n     <use style=\"fill:#1f77b4;stroke:#1f77b4;\" x=\"49.42085\" xlink:href=\"#me45ad90861\" y=\"201.083245\"/>\r\n     <use style=\"fill:#1f77b4;stroke:#1f77b4;\" x=\"139.985944\" xlink:href=\"#me45ad90861\" y=\"149.985298\"/>\r\n     <use style=\"fill:#1f77b4;stroke:#1f77b4;\" x=\"56.666057\" xlink:href=\"#me45ad90861\" y=\"204.489775\"/>\r\n     <use style=\"fill:#1f77b4;stroke:#1f77b4;\" x=\"71.156472\" xlink:href=\"#me45ad90861\" y=\"194.270185\"/>\r\n     <use style=\"fill:#1f77b4;stroke:#1f77b4;\" x=\"63.911265\" xlink:href=\"#me45ad90861\" y=\"190.863655\"/>\r\n     <use style=\"fill:#1f77b4;stroke:#1f77b4;\" x=\"125.495529\" xlink:href=\"#me45ad90861\" y=\"153.391828\"/>\r\n     <use style=\"fill:#1f77b4;stroke:#1f77b4;\" x=\"71.156472\" xlink:href=\"#me45ad90861\" y=\"184.050596\"/>\r\n     <use style=\"fill:#1f77b4;stroke:#1f77b4;\" x=\"45.798246\" xlink:href=\"#me45ad90861\" y=\"204.489775\"/>\r\n     <use style=\"fill:#1f77b4;stroke:#1f77b4;\" x=\"49.42085\" xlink:href=\"#me45ad90861\" y=\"204.489775\"/>\r\n     <use style=\"fill:#1f77b4;stroke:#1f77b4;\" x=\"42.175642\" xlink:href=\"#me45ad90861\" y=\"201.083245\"/>\r\n     <use style=\"fill:#1f77b4;stroke:#1f77b4;\" x=\"139.985944\" xlink:href=\"#me45ad90861\" y=\"184.050596\"/>\r\n     <use style=\"fill:#1f77b4;stroke:#1f77b4;\" x=\"71.156472\" xlink:href=\"#me45ad90861\" y=\"190.863655\"/>\r\n     <use style=\"fill:#1f77b4;stroke:#1f77b4;\" x=\"71.156472\" xlink:href=\"#me45ad90861\" y=\"207.896304\"/>\r\n     <use style=\"fill:#1f77b4;stroke:#1f77b4;\" x=\"71.156472\" xlink:href=\"#me45ad90861\" y=\"190.863655\"/>\r\n     <use style=\"fill:#1f77b4;stroke:#1f77b4;\" x=\"139.985944\" xlink:href=\"#me45ad90861\" y=\"167.017947\"/>\r\n     <use style=\"fill:#1f77b4;stroke:#1f77b4;\" x=\"49.42085\" xlink:href=\"#me45ad90861\" y=\"194.270185\"/>\r\n     <use style=\"fill:#1f77b4;stroke:#1f77b4;\" x=\"63.911265\" xlink:href=\"#me45ad90861\" y=\"190.863655\"/>\r\n     <use style=\"fill:#1f77b4;stroke:#1f77b4;\" x=\"56.666057\" xlink:href=\"#me45ad90861\" y=\"197.676715\"/>\r\n     <use style=\"fill:#1f77b4;stroke:#1f77b4;\" x=\"74.779076\" xlink:href=\"#me45ad90861\" y=\"197.676715\"/>\r\n     <use style=\"fill:#1f77b4;stroke:#1f77b4;\" x=\"118.250321\" xlink:href=\"#me45ad90861\" y=\"170.424477\"/>\r\n     <use style=\"fill:#1f77b4;stroke:#1f77b4;\" x=\"56.666057\" xlink:href=\"#me45ad90861\" y=\"201.083245\"/>\r\n     <use style=\"fill:#1f77b4;stroke:#1f77b4;\" x=\"67.533869\" xlink:href=\"#me45ad90861\" y=\"194.270185\"/>\r\n     <use style=\"fill:#1f77b4;stroke:#1f77b4;\" x=\"60.288661\" xlink:href=\"#me45ad90861\" y=\"194.270185\"/>\r\n     <use style=\"fill:#1f77b4;stroke:#1f77b4;\" x=\"67.533869\" xlink:href=\"#me45ad90861\" y=\"187.457126\"/>\r\n     <use style=\"fill:#1f77b4;stroke:#1f77b4;\" x=\"60.288661\" xlink:href=\"#me45ad90861\" y=\"190.863655\"/>\r\n     <use style=\"fill:#1f77b4;stroke:#1f77b4;\" x=\"63.911265\" xlink:href=\"#me45ad90861\" y=\"184.050596\"/>\r\n     <use style=\"fill:#1f77b4;stroke:#1f77b4;\" x=\"103.759906\" xlink:href=\"#me45ad90861\" y=\"170.424477\"/>\r\n     <use style=\"fill:#1f77b4;stroke:#1f77b4;\" x=\"49.42085\" xlink:href=\"#me45ad90861\" y=\"201.083245\"/>\r\n     <use style=\"fill:#1f77b4;stroke:#1f77b4;\" x=\"100.137302\" xlink:href=\"#me45ad90861\" y=\"180.644066\"/>\r\n     <use style=\"fill:#1f77b4;stroke:#1f77b4;\" x=\"42.175642\" xlink:href=\"#me45ad90861\" y=\"197.676715\"/>\r\n     <use style=\"fill:#1f77b4;stroke:#1f77b4;\" x=\"63.911265\" xlink:href=\"#me45ad90861\" y=\"190.863655\"/>\r\n     <use style=\"fill:#1f77b4;stroke:#1f77b4;\" x=\"85.646887\" xlink:href=\"#me45ad90861\" y=\"184.050596\"/>\r\n     <use style=\"fill:#1f77b4;stroke:#1f77b4;\" x=\"56.666057\" xlink:href=\"#me45ad90861\" y=\"190.863655\"/>\r\n     <use style=\"fill:#1f77b4;stroke:#1f77b4;\" x=\"85.646887\" xlink:href=\"#me45ad90861\" y=\"187.457126\"/>\r\n     <use style=\"fill:#1f77b4;stroke:#1f77b4;\" x=\"71.156472\" xlink:href=\"#me45ad90861\" y=\"190.863655\"/>\r\n     <use style=\"fill:#1f77b4;stroke:#1f77b4;\" x=\"42.175642\" xlink:href=\"#me45ad90861\" y=\"201.083245\"/>\r\n     <use style=\"fill:#1f77b4;stroke:#1f77b4;\" x=\"56.666057\" xlink:href=\"#me45ad90861\" y=\"201.083245\"/>\r\n     <use style=\"fill:#1f77b4;stroke:#1f77b4;\" x=\"45.798246\" xlink:href=\"#me45ad90861\" y=\"197.676715\"/>\r\n     <use style=\"fill:#1f77b4;stroke:#1f77b4;\" x=\"96.514699\" xlink:href=\"#me45ad90861\" y=\"190.863655\"/>\r\n     <use style=\"fill:#1f77b4;stroke:#1f77b4;\" x=\"78.40168\" xlink:href=\"#me45ad90861\" y=\"211.302834\"/>\r\n     <use style=\"fill:#1f77b4;stroke:#1f77b4;\" x=\"53.043454\" xlink:href=\"#me45ad90861\" y=\"207.896304\"/>\r\n     <use style=\"fill:#1f77b4;stroke:#1f77b4;\" x=\"74.779076\" xlink:href=\"#me45ad90861\" y=\"204.489775\"/>\r\n     <use style=\"fill:#1f77b4;stroke:#1f77b4;\" x=\"63.911265\" xlink:href=\"#me45ad90861\" y=\"197.676715\"/>\r\n     <use style=\"fill:#1f77b4;stroke:#1f77b4;\" x=\"45.798246\" xlink:href=\"#me45ad90861\" y=\"201.083245\"/>\r\n     <use style=\"fill:#1f77b4;stroke:#1f77b4;\" x=\"82.024284\" xlink:href=\"#me45ad90861\" y=\"190.863655\"/>\r\n     <use style=\"fill:#1f77b4;stroke:#1f77b4;\" x=\"63.911265\" xlink:href=\"#me45ad90861\" y=\"197.676715\"/>\r\n     <use style=\"fill:#1f77b4;stroke:#1f77b4;\" x=\"63.911265\" xlink:href=\"#me45ad90861\" y=\"201.083245\"/>\r\n     <use style=\"fill:#1f77b4;stroke:#1f77b4;\" x=\"67.533869\" xlink:href=\"#me45ad90861\" y=\"194.270185\"/>\r\n     <use style=\"fill:#1f77b4;stroke:#1f77b4;\" x=\"45.798246\" xlink:href=\"#me45ad90861\" y=\"197.676715\"/>\r\n     <use style=\"fill:#1f77b4;stroke:#1f77b4;\" x=\"103.759906\" xlink:href=\"#me45ad90861\" y=\"170.424477\"/>\r\n     <use style=\"fill:#1f77b4;stroke:#1f77b4;\" x=\"63.911265\" xlink:href=\"#me45ad90861\" y=\"190.863655\"/>\r\n     <use style=\"fill:#1f77b4;stroke:#1f77b4;\" x=\"89.269491\" xlink:href=\"#me45ad90861\" y=\"177.237536\"/>\r\n     <use style=\"fill:#1f77b4;stroke:#1f77b4;\" x=\"45.798246\" xlink:href=\"#me45ad90861\" y=\"201.083245\"/>\r\n     <use style=\"fill:#1f77b4;stroke:#1f77b4;\" x=\"53.043454\" xlink:href=\"#me45ad90861\" y=\"184.050596\"/>\r\n     <use style=\"fill:#1f77b4;stroke:#1f77b4;\" x=\"92.892095\" xlink:href=\"#me45ad90861\" y=\"190.863655\"/>\r\n     <use style=\"fill:#1f77b4;stroke:#1f77b4;\" x=\"49.42085\" xlink:href=\"#me45ad90861\" y=\"194.270185\"/>\r\n     <use style=\"fill:#1f77b4;stroke:#1f77b4;\" x=\"63.911265\" xlink:href=\"#me45ad90861\" y=\"207.896304\"/>\r\n     <use style=\"fill:#1f77b4;stroke:#1f77b4;\" x=\"67.533869\" xlink:href=\"#me45ad90861\" y=\"184.050596\"/>\r\n     <use style=\"fill:#1f77b4;stroke:#1f77b4;\" x=\"49.42085\" xlink:href=\"#me45ad90861\" y=\"204.489775\"/>\r\n     <use style=\"fill:#1f77b4;stroke:#1f77b4;\" x=\"42.175642\" xlink:href=\"#me45ad90861\" y=\"211.302834\"/>\r\n     <use style=\"fill:#1f77b4;stroke:#1f77b4;\" x=\"45.798246\" xlink:href=\"#me45ad90861\" y=\"207.896304\"/>\r\n     <use style=\"fill:#1f77b4;stroke:#1f77b4;\" x=\"53.043454\" xlink:href=\"#me45ad90861\" y=\"194.270185\"/>\r\n     <use style=\"fill:#1f77b4;stroke:#1f77b4;\" x=\"67.533869\" xlink:href=\"#me45ad90861\" y=\"207.896304\"/>\r\n     <use style=\"fill:#1f77b4;stroke:#1f77b4;\" x=\"45.798246\" xlink:href=\"#me45ad90861\" y=\"207.896304\"/>\r\n     <use style=\"fill:#1f77b4;stroke:#1f77b4;\" x=\"53.043454\" xlink:href=\"#me45ad90861\" y=\"194.270185\"/>\r\n     <use style=\"fill:#1f77b4;stroke:#1f77b4;\" x=\"56.666057\" xlink:href=\"#me45ad90861\" y=\"194.270185\"/>\r\n     <use style=\"fill:#1f77b4;stroke:#1f77b4;\" x=\"49.42085\" xlink:href=\"#me45ad90861\" y=\"207.896304\"/>\r\n     <use style=\"fill:#1f77b4;stroke:#1f77b4;\" x=\"53.043454\" xlink:href=\"#me45ad90861\" y=\"204.489775\"/>\r\n     <use style=\"fill:#1f77b4;stroke:#1f77b4;\" x=\"56.666057\" xlink:href=\"#me45ad90861\" y=\"190.863655\"/>\r\n     <use style=\"fill:#1f77b4;stroke:#1f77b4;\" x=\"49.42085\" xlink:href=\"#me45ad90861\" y=\"211.302834\"/>\r\n     <use style=\"fill:#1f77b4;stroke:#1f77b4;\" x=\"42.175642\" xlink:href=\"#me45ad90861\" y=\"207.896304\"/>\r\n     <use style=\"fill:#1f77b4;stroke:#1f77b4;\" x=\"45.798246\" xlink:href=\"#me45ad90861\" y=\"194.270185\"/>\r\n     <use style=\"fill:#1f77b4;stroke:#1f77b4;\" x=\"132.740736\" xlink:href=\"#me45ad90861\" y=\"180.644066\"/>\r\n     <use style=\"fill:#1f77b4;stroke:#1f77b4;\" x=\"49.42085\" xlink:href=\"#me45ad90861\" y=\"201.083245\"/>\r\n     <use style=\"fill:#1f77b4;stroke:#1f77b4;\" x=\"74.779076\" xlink:href=\"#me45ad90861\" y=\"197.676715\"/>\r\n     <use style=\"fill:#1f77b4;stroke:#1f77b4;\" x=\"49.42085\" xlink:href=\"#me45ad90861\" y=\"214.709364\"/>\r\n     <use style=\"fill:#1f77b4;stroke:#1f77b4;\" x=\"49.42085\" xlink:href=\"#me45ad90861\" y=\"211.302834\"/>\r\n     <use style=\"fill:#1f77b4;stroke:#1f77b4;\" x=\"45.798246\" xlink:href=\"#me45ad90861\" y=\"207.896304\"/>\r\n    </g>\r\n   </g>\r\n   <g id=\"matplotlib.axis_1\">\r\n    <g id=\"xtick_1\">\r\n     <g id=\"line2d_1\">\r\n      <defs>\r\n       <path d=\"M 0 0 \r\nL 0 3.5 \r\n\" id=\"medfe016b83\" style=\"stroke:#000000;stroke-width:0.8;\"/>\r\n      </defs>\r\n      <g>\r\n       <use style=\"stroke:#000000;stroke-width:0.8;\" x=\"74.779076\" xlink:href=\"#medfe016b83\" y=\"224.64\"/>\r\n      </g>\r\n     </g>\r\n     <g id=\"text_1\">\r\n      <!-- 20 -->\r\n      <defs>\r\n       <path d=\"M 19.1875 8.296875 \r\nL 53.609375 8.296875 \r\nL 53.609375 0 \r\nL 7.328125 0 \r\nL 7.328125 8.296875 \r\nQ 12.9375 14.109375 22.625 23.890625 \r\nQ 32.328125 33.6875 34.8125 36.53125 \r\nQ 39.546875 41.84375 41.421875 45.53125 \r\nQ 43.3125 49.21875 43.3125 52.78125 \r\nQ 43.3125 58.59375 39.234375 62.25 \r\nQ 35.15625 65.921875 28.609375 65.921875 \r\nQ 23.96875 65.921875 18.8125 64.3125 \r\nQ 13.671875 62.703125 7.8125 59.421875 \r\nL 7.8125 69.390625 \r\nQ 13.765625 71.78125 18.9375 73 \r\nQ 24.125 74.21875 28.421875 74.21875 \r\nQ 39.75 74.21875 46.484375 68.546875 \r\nQ 53.21875 62.890625 53.21875 53.421875 \r\nQ 53.21875 48.921875 51.53125 44.890625 \r\nQ 49.859375 40.875 45.40625 35.40625 \r\nQ 44.1875 33.984375 37.640625 27.21875 \r\nQ 31.109375 20.453125 19.1875 8.296875 \r\nz\r\n\" id=\"DejaVuSans-50\"/>\r\n       <path d=\"M 31.78125 66.40625 \r\nQ 24.171875 66.40625 20.328125 58.90625 \r\nQ 16.5 51.421875 16.5 36.375 \r\nQ 16.5 21.390625 20.328125 13.890625 \r\nQ 24.171875 6.390625 31.78125 6.390625 \r\nQ 39.453125 6.390625 43.28125 13.890625 \r\nQ 47.125 21.390625 47.125 36.375 \r\nQ 47.125 51.421875 43.28125 58.90625 \r\nQ 39.453125 66.40625 31.78125 66.40625 \r\nz\r\nM 31.78125 74.21875 \r\nQ 44.046875 74.21875 50.515625 64.515625 \r\nQ 56.984375 54.828125 56.984375 36.375 \r\nQ 56.984375 17.96875 50.515625 8.265625 \r\nQ 44.046875 -1.421875 31.78125 -1.421875 \r\nQ 19.53125 -1.421875 13.0625 8.265625 \r\nQ 6.59375 17.96875 6.59375 36.375 \r\nQ 6.59375 54.828125 13.0625 64.515625 \r\nQ 19.53125 74.21875 31.78125 74.21875 \r\nz\r\n\" id=\"DejaVuSans-48\"/>\r\n      </defs>\r\n      <g transform=\"translate(68.416576 239.238438)scale(0.1 -0.1)\">\r\n       <use xlink:href=\"#DejaVuSans-50\"/>\r\n       <use x=\"63.623047\" xlink:href=\"#DejaVuSans-48\"/>\r\n      </g>\r\n     </g>\r\n    </g>\r\n    <g id=\"xtick_2\">\r\n     <g id=\"line2d_2\">\r\n      <g>\r\n       <use style=\"stroke:#000000;stroke-width:0.8;\" x=\"147.231151\" xlink:href=\"#medfe016b83\" y=\"224.64\"/>\r\n      </g>\r\n     </g>\r\n     <g id=\"text_2\">\r\n      <!-- 40 -->\r\n      <defs>\r\n       <path d=\"M 37.796875 64.3125 \r\nL 12.890625 25.390625 \r\nL 37.796875 25.390625 \r\nz\r\nM 35.203125 72.90625 \r\nL 47.609375 72.90625 \r\nL 47.609375 25.390625 \r\nL 58.015625 25.390625 \r\nL 58.015625 17.1875 \r\nL 47.609375 17.1875 \r\nL 47.609375 0 \r\nL 37.796875 0 \r\nL 37.796875 17.1875 \r\nL 4.890625 17.1875 \r\nL 4.890625 26.703125 \r\nz\r\n\" id=\"DejaVuSans-52\"/>\r\n      </defs>\r\n      <g transform=\"translate(140.868651 239.238438)scale(0.1 -0.1)\">\r\n       <use xlink:href=\"#DejaVuSans-52\"/>\r\n       <use x=\"63.623047\" xlink:href=\"#DejaVuSans-48\"/>\r\n      </g>\r\n     </g>\r\n    </g>\r\n    <g id=\"xtick_3\">\r\n     <g id=\"line2d_3\">\r\n      <g>\r\n       <use style=\"stroke:#000000;stroke-width:0.8;\" x=\"219.683226\" xlink:href=\"#medfe016b83\" y=\"224.64\"/>\r\n      </g>\r\n     </g>\r\n     <g id=\"text_3\">\r\n      <!-- 60 -->\r\n      <defs>\r\n       <path d=\"M 33.015625 40.375 \r\nQ 26.375 40.375 22.484375 35.828125 \r\nQ 18.609375 31.296875 18.609375 23.390625 \r\nQ 18.609375 15.53125 22.484375 10.953125 \r\nQ 26.375 6.390625 33.015625 6.390625 \r\nQ 39.65625 6.390625 43.53125 10.953125 \r\nQ 47.40625 15.53125 47.40625 23.390625 \r\nQ 47.40625 31.296875 43.53125 35.828125 \r\nQ 39.65625 40.375 33.015625 40.375 \r\nz\r\nM 52.59375 71.296875 \r\nL 52.59375 62.3125 \r\nQ 48.875 64.0625 45.09375 64.984375 \r\nQ 41.3125 65.921875 37.59375 65.921875 \r\nQ 27.828125 65.921875 22.671875 59.328125 \r\nQ 17.53125 52.734375 16.796875 39.40625 \r\nQ 19.671875 43.65625 24.015625 45.921875 \r\nQ 28.375 48.1875 33.59375 48.1875 \r\nQ 44.578125 48.1875 50.953125 41.515625 \r\nQ 57.328125 34.859375 57.328125 23.390625 \r\nQ 57.328125 12.15625 50.6875 5.359375 \r\nQ 44.046875 -1.421875 33.015625 -1.421875 \r\nQ 20.359375 -1.421875 13.671875 8.265625 \r\nQ 6.984375 17.96875 6.984375 36.375 \r\nQ 6.984375 53.65625 15.1875 63.9375 \r\nQ 23.390625 74.21875 37.203125 74.21875 \r\nQ 40.921875 74.21875 44.703125 73.484375 \r\nQ 48.484375 72.75 52.59375 71.296875 \r\nz\r\n\" id=\"DejaVuSans-54\"/>\r\n      </defs>\r\n      <g transform=\"translate(213.320726 239.238438)scale(0.1 -0.1)\">\r\n       <use xlink:href=\"#DejaVuSans-54\"/>\r\n       <use x=\"63.623047\" xlink:href=\"#DejaVuSans-48\"/>\r\n      </g>\r\n     </g>\r\n    </g>\r\n    <g id=\"xtick_4\">\r\n     <g id=\"line2d_4\">\r\n      <g>\r\n       <use style=\"stroke:#000000;stroke-width:0.8;\" x=\"292.135301\" xlink:href=\"#medfe016b83\" y=\"224.64\"/>\r\n      </g>\r\n     </g>\r\n     <g id=\"text_4\">\r\n      <!-- 80 -->\r\n      <defs>\r\n       <path d=\"M 31.78125 34.625 \r\nQ 24.75 34.625 20.71875 30.859375 \r\nQ 16.703125 27.09375 16.703125 20.515625 \r\nQ 16.703125 13.921875 20.71875 10.15625 \r\nQ 24.75 6.390625 31.78125 6.390625 \r\nQ 38.8125 6.390625 42.859375 10.171875 \r\nQ 46.921875 13.96875 46.921875 20.515625 \r\nQ 46.921875 27.09375 42.890625 30.859375 \r\nQ 38.875 34.625 31.78125 34.625 \r\nz\r\nM 21.921875 38.8125 \r\nQ 15.578125 40.375 12.03125 44.71875 \r\nQ 8.5 49.078125 8.5 55.328125 \r\nQ 8.5 64.0625 14.71875 69.140625 \r\nQ 20.953125 74.21875 31.78125 74.21875 \r\nQ 42.671875 74.21875 48.875 69.140625 \r\nQ 55.078125 64.0625 55.078125 55.328125 \r\nQ 55.078125 49.078125 51.53125 44.71875 \r\nQ 48 40.375 41.703125 38.8125 \r\nQ 48.828125 37.15625 52.796875 32.3125 \r\nQ 56.78125 27.484375 56.78125 20.515625 \r\nQ 56.78125 9.90625 50.3125 4.234375 \r\nQ 43.84375 -1.421875 31.78125 -1.421875 \r\nQ 19.734375 -1.421875 13.25 4.234375 \r\nQ 6.78125 9.90625 6.78125 20.515625 \r\nQ 6.78125 27.484375 10.78125 32.3125 \r\nQ 14.796875 37.15625 21.921875 38.8125 \r\nz\r\nM 18.3125 54.390625 \r\nQ 18.3125 48.734375 21.84375 45.5625 \r\nQ 25.390625 42.390625 31.78125 42.390625 \r\nQ 38.140625 42.390625 41.71875 45.5625 \r\nQ 45.3125 48.734375 45.3125 54.390625 \r\nQ 45.3125 60.0625 41.71875 63.234375 \r\nQ 38.140625 66.40625 31.78125 66.40625 \r\nQ 25.390625 66.40625 21.84375 63.234375 \r\nQ 18.3125 60.0625 18.3125 54.390625 \r\nz\r\n\" id=\"DejaVuSans-56\"/>\r\n      </defs>\r\n      <g transform=\"translate(285.772801 239.238438)scale(0.1 -0.1)\">\r\n       <use xlink:href=\"#DejaVuSans-56\"/>\r\n       <use x=\"63.623047\" xlink:href=\"#DejaVuSans-48\"/>\r\n      </g>\r\n     </g>\r\n    </g>\r\n   </g>\r\n   <g id=\"matplotlib.axis_2\">\r\n    <g id=\"ytick_1\">\r\n     <g id=\"line2d_5\">\r\n      <defs>\r\n       <path d=\"M 0 0 \r\nL -3.5 0 \r\n\" id=\"maec5fdb8c6\" style=\"stroke:#000000;stroke-width:0.8;\"/>\r\n      </defs>\r\n      <g>\r\n       <use style=\"stroke:#000000;stroke-width:0.8;\" x=\"26.925\" xlink:href=\"#maec5fdb8c6\" y=\"218.115894\"/>\r\n      </g>\r\n     </g>\r\n     <g id=\"text_5\">\r\n      <!-- 0 -->\r\n      <g transform=\"translate(13.5625 221.915113)scale(0.1 -0.1)\">\r\n       <use xlink:href=\"#DejaVuSans-48\"/>\r\n      </g>\r\n     </g>\r\n    </g>\r\n    <g id=\"ytick_2\">\r\n     <g id=\"line2d_6\">\r\n      <g>\r\n       <use style=\"stroke:#000000;stroke-width:0.8;\" x=\"26.925\" xlink:href=\"#maec5fdb8c6\" y=\"184.050596\"/>\r\n      </g>\r\n     </g>\r\n     <g id=\"text_6\">\r\n      <!-- 10 -->\r\n      <defs>\r\n       <path d=\"M 12.40625 8.296875 \r\nL 28.515625 8.296875 \r\nL 28.515625 63.921875 \r\nL 10.984375 60.40625 \r\nL 10.984375 69.390625 \r\nL 28.421875 72.90625 \r\nL 38.28125 72.90625 \r\nL 38.28125 8.296875 \r\nL 54.390625 8.296875 \r\nL 54.390625 0 \r\nL 12.40625 0 \r\nz\r\n\" id=\"DejaVuSans-49\"/>\r\n      </defs>\r\n      <g transform=\"translate(7.2 187.849815)scale(0.1 -0.1)\">\r\n       <use xlink:href=\"#DejaVuSans-49\"/>\r\n       <use x=\"63.623047\" xlink:href=\"#DejaVuSans-48\"/>\r\n      </g>\r\n     </g>\r\n    </g>\r\n    <g id=\"ytick_3\">\r\n     <g id=\"line2d_7\">\r\n      <g>\r\n       <use style=\"stroke:#000000;stroke-width:0.8;\" x=\"26.925\" xlink:href=\"#maec5fdb8c6\" y=\"149.985298\"/>\r\n      </g>\r\n     </g>\r\n     <g id=\"text_7\">\r\n      <!-- 20 -->\r\n      <g transform=\"translate(7.2 153.784517)scale(0.1 -0.1)\">\r\n       <use xlink:href=\"#DejaVuSans-50\"/>\r\n       <use x=\"63.623047\" xlink:href=\"#DejaVuSans-48\"/>\r\n      </g>\r\n     </g>\r\n    </g>\r\n    <g id=\"ytick_4\">\r\n     <g id=\"line2d_8\">\r\n      <g>\r\n       <use style=\"stroke:#000000;stroke-width:0.8;\" x=\"26.925\" xlink:href=\"#maec5fdb8c6\" y=\"115.92\"/>\r\n      </g>\r\n     </g>\r\n     <g id=\"text_8\">\r\n      <!-- 30 -->\r\n      <defs>\r\n       <path d=\"M 40.578125 39.3125 \r\nQ 47.65625 37.796875 51.625 33 \r\nQ 55.609375 28.21875 55.609375 21.1875 \r\nQ 55.609375 10.40625 48.1875 4.484375 \r\nQ 40.765625 -1.421875 27.09375 -1.421875 \r\nQ 22.515625 -1.421875 17.65625 -0.515625 \r\nQ 12.796875 0.390625 7.625 2.203125 \r\nL 7.625 11.71875 \r\nQ 11.71875 9.328125 16.59375 8.109375 \r\nQ 21.484375 6.890625 26.8125 6.890625 \r\nQ 36.078125 6.890625 40.9375 10.546875 \r\nQ 45.796875 14.203125 45.796875 21.1875 \r\nQ 45.796875 27.640625 41.28125 31.265625 \r\nQ 36.765625 34.90625 28.71875 34.90625 \r\nL 20.21875 34.90625 \r\nL 20.21875 43.015625 \r\nL 29.109375 43.015625 \r\nQ 36.375 43.015625 40.234375 45.921875 \r\nQ 44.09375 48.828125 44.09375 54.296875 \r\nQ 44.09375 59.90625 40.109375 62.90625 \r\nQ 36.140625 65.921875 28.71875 65.921875 \r\nQ 24.65625 65.921875 20.015625 65.03125 \r\nQ 15.375 64.15625 9.8125 62.3125 \r\nL 9.8125 71.09375 \r\nQ 15.4375 72.65625 20.34375 73.4375 \r\nQ 25.25 74.21875 29.59375 74.21875 \r\nQ 40.828125 74.21875 47.359375 69.109375 \r\nQ 53.90625 64.015625 53.90625 55.328125 \r\nQ 53.90625 49.265625 50.4375 45.09375 \r\nQ 46.96875 40.921875 40.578125 39.3125 \r\nz\r\n\" id=\"DejaVuSans-51\"/>\r\n      </defs>\r\n      <g transform=\"translate(7.2 119.719219)scale(0.1 -0.1)\">\r\n       <use xlink:href=\"#DejaVuSans-51\"/>\r\n       <use x=\"63.623047\" xlink:href=\"#DejaVuSans-48\"/>\r\n      </g>\r\n     </g>\r\n    </g>\r\n    <g id=\"ytick_5\">\r\n     <g id=\"line2d_9\">\r\n      <g>\r\n       <use style=\"stroke:#000000;stroke-width:0.8;\" x=\"26.925\" xlink:href=\"#maec5fdb8c6\" y=\"81.854702\"/>\r\n      </g>\r\n     </g>\r\n     <g id=\"text_9\">\r\n      <!-- 40 -->\r\n      <g transform=\"translate(7.2 85.653921)scale(0.1 -0.1)\">\r\n       <use xlink:href=\"#DejaVuSans-52\"/>\r\n       <use x=\"63.623047\" xlink:href=\"#DejaVuSans-48\"/>\r\n      </g>\r\n     </g>\r\n    </g>\r\n    <g id=\"ytick_6\">\r\n     <g id=\"line2d_10\">\r\n      <g>\r\n       <use style=\"stroke:#000000;stroke-width:0.8;\" x=\"26.925\" xlink:href=\"#maec5fdb8c6\" y=\"47.789404\"/>\r\n      </g>\r\n     </g>\r\n     <g id=\"text_10\">\r\n      <!-- 50 -->\r\n      <defs>\r\n       <path d=\"M 10.796875 72.90625 \r\nL 49.515625 72.90625 \r\nL 49.515625 64.59375 \r\nL 19.828125 64.59375 \r\nL 19.828125 46.734375 \r\nQ 21.96875 47.46875 24.109375 47.828125 \r\nQ 26.265625 48.1875 28.421875 48.1875 \r\nQ 40.625 48.1875 47.75 41.5 \r\nQ 54.890625 34.8125 54.890625 23.390625 \r\nQ 54.890625 11.625 47.5625 5.09375 \r\nQ 40.234375 -1.421875 26.90625 -1.421875 \r\nQ 22.3125 -1.421875 17.546875 -0.640625 \r\nQ 12.796875 0.140625 7.71875 1.703125 \r\nL 7.71875 11.625 \r\nQ 12.109375 9.234375 16.796875 8.0625 \r\nQ 21.484375 6.890625 26.703125 6.890625 \r\nQ 35.15625 6.890625 40.078125 11.328125 \r\nQ 45.015625 15.765625 45.015625 23.390625 \r\nQ 45.015625 31 40.078125 35.4375 \r\nQ 35.15625 39.890625 26.703125 39.890625 \r\nQ 22.75 39.890625 18.8125 39.015625 \r\nQ 14.890625 38.140625 10.796875 36.28125 \r\nz\r\n\" id=\"DejaVuSans-53\"/>\r\n      </defs>\r\n      <g transform=\"translate(7.2 51.588623)scale(0.1 -0.1)\">\r\n       <use xlink:href=\"#DejaVuSans-53\"/>\r\n       <use x=\"63.623047\" xlink:href=\"#DejaVuSans-48\"/>\r\n      </g>\r\n     </g>\r\n    </g>\r\n    <g id=\"ytick_7\">\r\n     <g id=\"line2d_11\">\r\n      <g>\r\n       <use style=\"stroke:#000000;stroke-width:0.8;\" x=\"26.925\" xlink:href=\"#maec5fdb8c6\" y=\"13.724106\"/>\r\n      </g>\r\n     </g>\r\n     <g id=\"text_11\">\r\n      <!-- 60 -->\r\n      <g transform=\"translate(7.2 17.523325)scale(0.1 -0.1)\">\r\n       <use xlink:href=\"#DejaVuSans-54\"/>\r\n       <use x=\"63.623047\" xlink:href=\"#DejaVuSans-48\"/>\r\n      </g>\r\n     </g>\r\n    </g>\r\n   </g>\r\n   <g id=\"line2d_12\">\r\n    <path clip-path=\"url(#pc7bc0b9452)\" d=\"M 259.531868 83.917903 \r\nL 42.175642 205.299133 \r\nL 346.474358 35.365411 \r\nL 45.798246 203.276112 \r\n\" style=\"fill:none;stroke:#ff0000;stroke-linecap:square;stroke-width:1.5;\"/>\r\n   </g>\r\n   <g id=\"patch_3\">\r\n    <path d=\"M 26.925 224.64 \r\nL 26.925 7.2 \r\n\" style=\"fill:none;stroke:#000000;stroke-linecap:square;stroke-linejoin:miter;stroke-width:0.8;\"/>\r\n   </g>\r\n   <g id=\"patch_4\">\r\n    <path d=\"M 361.725 224.64 \r\nL 361.725 7.2 \r\n\" style=\"fill:none;stroke:#000000;stroke-linecap:square;stroke-linejoin:miter;stroke-width:0.8;\"/>\r\n   </g>\r\n   <g id=\"patch_5\">\r\n    <path d=\"M 26.925 224.64 \r\nL 361.725 224.64 \r\n\" style=\"fill:none;stroke:#000000;stroke-linecap:square;stroke-linejoin:miter;stroke-width:0.8;\"/>\r\n   </g>\r\n   <g id=\"patch_6\">\r\n    <path d=\"M 26.925 7.2 \r\nL 361.725 7.2 \r\n\" style=\"fill:none;stroke:#000000;stroke-linecap:square;stroke-linejoin:miter;stroke-width:0.8;\"/>\r\n   </g>\r\n  </g>\r\n </g>\r\n <defs>\r\n  <clipPath id=\"pc7bc0b9452\">\r\n   <rect height=\"217.44\" width=\"334.8\" x=\"26.925\" y=\"7.2\"/>\r\n  </clipPath>\r\n </defs>\r\n</svg>\r\n",
      "image/png": "[encoded data removed]"
     },
     "metadata": {
      "needs_background": "light"
     }
    }
   ],
   "source": [
    "plt.scatter(X, Y)\n",
    "plt.plot(X, Y_pred, color='red')\n",
    "plt.show()"
   ]
  },
  {
   "cell_type": "markdown",
   "metadata": {},
   "source": [
    "## Box plots"
   ]
  },
  {
   "cell_type": "markdown",
   "metadata": {},
   "source": [
    "### Box plot of shots and shots on goal"
   ]
  },
  {
   "cell_type": "code",
   "execution_count": 16,
   "metadata": {},
   "outputs": [
    {
     "output_type": "display_data",
     "data": {
      "application/vnd.plotly.v1+json": {
       "config": {
        "plotlyServerURL": "https://plot.ly"
       },
       "data": [
        {
         "alignmentgroup": "True",
         "customdata": [
          [
           "Jamie Vardy"
          ],
          [
           "Danny Ings"
          ],
          [
           "Pierre-Emerick Aubameyang"
          ],
          [
           "Raheem Shaquille Sterling"
          ],
          [
           "Mohamed Salah Ghaly"
          ],
          [
           "Sadio Mané"
          ],
          [
           "Harry Kane"
          ],
          [
           "Raúl Alonso Jiménez Rodríguez"
          ],
          [
           "Marcus Rashford"
          ],
          [
           "Anthony Martial"
          ],
          [
           "Sergio Leonel Agüero del Castillo"
          ],
          [
           "Tammy Bakumo-Abraham"
          ],
          [
           "Gabriel Fernando de Jesus"
          ],
          [
           "Chris Wood"
          ],
          [
           "Kevin De Bruyne"
          ],
          [
           "Dominic Calvert-Lewin"
          ],
          [
           "Richarlison de Andrade"
          ],
          [
           "Teemu Pukki"
          ],
          [
           "Riyad Mahrez"
          ],
          [
           "Heung-Min Son"
          ],
          [
           "Michail Antonio"
          ],
          [
           "Neal Maupay"
          ],
          [
           "Alexandre Lacazette"
          ],
          [
           "Mason Greenwood"
          ],
          [
           "Troy Deeney"
          ],
          [
           "Roberto Firmino Barbosa de Oliveira"
          ],
          [
           "Jordan Ayew"
          ],
          [
           "Christian Pulisic"
          ],
          [
           "Willian Borges Da Silva"
          ],
          [
           "Callum Wilson"
          ],
          [
           "Jack Grealish"
          ],
          [
           "Ayoze Pérez"
          ],
          [
           "Olivier Giroud"
          ],
          [
           "Jay Rodriguez"
          ],
          [
           "Bamidele Alli"
          ],
          [
           "Bruno Miguel Borges Fernandes"
          ],
          [
           "Sébastien Haller"
          ],
          [
           "Harry Wilson"
          ],
          [
           "Diogo José Teixeira da Silva"
          ],
          [
           "Mason Mount"
          ],
          [
           "Todd Cantwell"
          ],
          [
           "David Silva"
          ],
          [
           "Bernardo Mota Veiga de Carvalho e Silva"
          ],
          [
           "Ashley Barnes"
          ],
          [
           "Oliver McBurnie"
          ],
          [
           "Joshua King"
          ],
          [
           "Mahmoud Ahmed Ibrahim Hassan"
          ],
          [
           "Harvey Barnes"
          ],
          [
           "James Maddison"
          ],
          [
           "Jonjo Shelvey"
          ],
          [
           "Lys Mousset"
          ],
          [
           "Virgil van Dijk"
          ],
          [
           "Phil Foden"
          ],
          [
           "Robert Snodgrass"
          ],
          [
           "John Fleck"
          ],
          [
           "Leandro Trossard"
          ],
          [
           "John Lundstram"
          ],
          [
           "James Ward-Prowse"
          ],
          [
           "Wesley Moraes Ferreira da Silva"
          ],
          [
           "Nicolas Pépé"
          ],
          [
           "Kelechi Iheanacho"
          ],
          [
           "Stuart Armstrong"
          ],
          [
           "Andrii Yarmolenko"
          ],
          [
           "Ismaïla Sarr"
          ],
          [
           "Trent Alexander-Arnold"
          ],
          [
           "Jordan Henderson"
          ],
          [
           "Alex Oxlade-Chamberlain"
          ],
          [
           "Georginio Wijnaldum"
          ],
          [
           "Che Adams"
          ],
          [
           "Nathan Redmond"
          ],
          [
           "Wilfried Zaha"
          ],
          [
           "Lucas Rodrigues Moura da Silva"
          ],
          [
           "Anwar El Ghazi"
          ],
          [
           "Miguel Ángel Almirón Rejala"
          ],
          [
           "Leander Dendoncker"
          ],
          [
           "Matt Doherty"
          ],
          [
           "Adama Traoré"
          ],
          [
           "Marcos Alonso"
          ],
          [
           "Scott McTominay"
          ],
          [
           "Gerard Deulofeu"
          ],
          [
           "Abdoulaye Doucouré"
          ],
          [
           "Mark Noble"
          ],
          [
           "Dwight Gayle"
          ],
          [
           "Rodrigo Hernández Cascante"
          ],
          [
           "Aaron Cresswell"
          ],
          [
           "Issa Diop"
          ],
          [
           "Luka Milivojević"
          ],
          [
           "Lewis Dunk"
          ],
          [
           "Billy Sharp"
          ],
          [
           "Adam Webster"
          ],
          [
           "Dominic Solanke"
          ],
          [
           "Patrick van Aanholt"
          ],
          [
           "John McGinn"
          ],
          [
           "Conor Hourihane"
          ],
          [
           "Douglas Luiz Soares de Paulo"
          ],
          [
           "Ricardo Domingos Barbosa Pereira"
          ],
          [
           "Ben Chilwell"
          ],
          [
           "Pedro Lomba Neto"
          ],
          [
           "Youri Tielemans"
          ],
          [
           "Allan Saint-Maximin"
          ],
          [
           "Daniel James"
          ],
          [
           "N'Golo Kanté"
          ],
          [
           "Roberto Maximiliano Pereyra"
          ],
          [
           "Jeffrey Schlupp"
          ],
          [
           "Aaron Anthony Connolly"
          ],
          [
           "Junior Stanislas"
          ],
          [
           "Tomáš Souček"
          ],
          [
           "Andrew Robertson"
          ],
          [
           "İlkay Gündoğan"
          ],
          [
           "Nicolás Hernán Otamendi"
          ],
          [
           "Pablo Fornals"
          ],
          [
           "Angelo Ogbonna"
          ],
          [
           "Moise Kean"
          ],
          [
           "Michael Keane"
          ],
          [
           "Yerry Fernando Mina González"
          ],
          [
           "Gylfi Sigurdsson"
          ],
          [
           "Cenk Tosun"
          ],
          [
           "Theo Walcott"
          ],
          [
           "Pascal Groß"
          ],
          [
           "John Egan"
          ],
          [
           "David McGoldrick"
          ],
          [
           "Enda Stevens"
          ],
          [
           "Nathan Aké"
          ],
          [
           "Moussa Djenepo"
          ],
          [
           "Christian Benteke Liolo"
          ],
          [
           "Erik Lamela"
          ],
          [
           "Moussa Sissoko"
          ],
          [
           "Toby Alderweireld"
          ],
          [
           "Jonathan Castro Otto"
          ],
          [
           "Rúben Diogo da Silva Neves"
          ],
          [
           "David Luiz Moreira Marinho"
          ],
          [
           "Onyinye Wilfred Ndidi"
          ],
          [
           "Romain Saïss"
          ],
          [
           "Joelinton Cássio Apolinário de Lira"
          ],
          [
           "Federico Fernández"
          ],
          [
           "Matt Ritchie"
          ],
          [
           "Fabian Schär"
          ],
          [
           "César Azpilicueta"
          ],
          [
           "Dwight McNeil"
          ],
          [
           "James Tarkowski"
          ],
          [
           "Craig Dawson"
          ],
          [
           "Andre Gray"
          ],
          [
           "Danny Welbeck"
          ],
          [
           "Demarai Gray"
          ],
          [
           "Matej Vydra"
          ],
          [
           "Shane Long"
          ],
          [
           "Eddie Nketiah"
          ],
          [
           "Emiliano Buendía"
          ],
          [
           "Josip Drmic"
          ],
          [
           "Onel Hernández"
          ],
          [
           "Kenny McLean"
          ],
          [
           "Felipe Anderson Pereira Gomes"
          ],
          [
           "Declan Rice"
          ],
          [
           "Davy Pröpper"
          ],
          [
           "Tom Davies"
          ],
          [
           "Glenn Murray"
          ],
          [
           "Oliver Norwood"
          ],
          [
           "Philip Billing"
          ],
          [
           "Jefferson Andrés Lerma Solís"
          ],
          [
           "Ryan Bertrand"
          ],
          [
           "Cheikhou Kouyaté"
          ],
          [
           "Lucas Torreira"
          ],
          [
           "Joseph Willock"
          ],
          [
           "Jonny Evans"
          ],
          [
           "João Filipe Iria Santos Moutinho"
          ],
          [
           "Çağlar Söyüncü"
          ],
          [
           "Sean Longstaff"
          ],
          [
           "Jesse Lingard"
          ],
          [
           "Andreas Hugo Hoelgebaum Pereira"
          ],
          [
           "Paul Pogba"
          ],
          [
           "Ross Barkley"
          ],
          [
           "Mateo Kovačić"
          ],
          [
           "Pedro Rodríguez Ledesma"
          ],
          [
           "Harry Maguire"
          ],
          [
           "Ben Mee"
          ],
          [
           "Will Hughes"
          ],
          [
           "Alex Iwobi"
          ],
          [
           "Alexander Tettey"
          ],
          [
           "Michy Batshuayi Tunga"
          ],
          [
           "Adam Masina"
          ],
          [
           "Yves Bissouma"
          ],
          [
           "Kortney Hause"
          ],
          [
           "Mbwana Ally Samatta"
          ],
          [
           "Jarrod Bowen"
          ],
          [
           "Manuel Lanzini"
          ],
          [
           "Erik Pieters"
          ],
          [
           "Lucas Digne"
          ],
          [
           "Solly March"
          ],
          [
           "Dale Stephens"
          ],
          [
           "Jack O'Connell"
          ],
          [
           "Sofiane Boufal"
          ],
          [
           "Pierre-Emile Højbjerg"
          ],
          [
           "Gary Cahill"
          ],
          [
           "James McArthur"
          ],
          [
           "Etienne Capoue"
          ],
          [
           "Fernando Luiz Rosa"
          ],
          [
           "Reece James"
          ],
          [
           "Jamie Vardy"
          ],
          [
           "Danny Ings"
          ],
          [
           "Pierre-Emerick Aubameyang"
          ],
          [
           "Raheem Shaquille Sterling"
          ],
          [
           "Mohamed Salah Ghaly"
          ],
          [
           "Sadio Mané"
          ],
          [
           "Harry Kane"
          ],
          [
           "Raúl Alonso Jiménez Rodríguez"
          ],
          [
           "Marcus Rashford"
          ],
          [
           "Anthony Martial"
          ],
          [
           "Sergio Leonel Agüero del Castillo"
          ],
          [
           "Tammy Bakumo-Abraham"
          ],
          [
           "Gabriel Fernando de Jesus"
          ],
          [
           "Chris Wood"
          ],
          [
           "Kevin De Bruyne"
          ],
          [
           "Dominic Calvert-Lewin"
          ],
          [
           "Richarlison de Andrade"
          ],
          [
           "Teemu Pukki"
          ],
          [
           "Riyad Mahrez"
          ],
          [
           "Heung-Min Son"
          ],
          [
           "Michail Antonio"
          ],
          [
           "Neal Maupay"
          ],
          [
           "Alexandre Lacazette"
          ],
          [
           "Mason Greenwood"
          ],
          [
           "Troy Deeney"
          ],
          [
           "Roberto Firmino Barbosa de Oliveira"
          ],
          [
           "Jordan Ayew"
          ],
          [
           "Christian Pulisic"
          ],
          [
           "Willian Borges Da Silva"
          ],
          [
           "Callum Wilson"
          ],
          [
           "Jack Grealish"
          ],
          [
           "Ayoze Pérez"
          ],
          [
           "Olivier Giroud"
          ],
          [
           "Jay Rodriguez"
          ],
          [
           "Bamidele Alli"
          ],
          [
           "Bruno Miguel Borges Fernandes"
          ],
          [
           "Sébastien Haller"
          ],
          [
           "Harry Wilson"
          ],
          [
           "Diogo José Teixeira da Silva"
          ],
          [
           "Mason Mount"
          ],
          [
           "Todd Cantwell"
          ],
          [
           "David Silva"
          ],
          [
           "Bernardo Mota Veiga de Carvalho e Silva"
          ],
          [
           "Ashley Barnes"
          ],
          [
           "Oliver McBurnie"
          ],
          [
           "Joshua King"
          ],
          [
           "Mahmoud Ahmed Ibrahim Hassan"
          ],
          [
           "Harvey Barnes"
          ],
          [
           "James Maddison"
          ],
          [
           "Jonjo Shelvey"
          ],
          [
           "Lys Mousset"
          ],
          [
           "Virgil van Dijk"
          ],
          [
           "Phil Foden"
          ],
          [
           "Robert Snodgrass"
          ],
          [
           "John Fleck"
          ],
          [
           "Leandro Trossard"
          ],
          [
           "John Lundstram"
          ],
          [
           "James Ward-Prowse"
          ],
          [
           "Wesley Moraes Ferreira da Silva"
          ],
          [
           "Nicolas Pépé"
          ],
          [
           "Kelechi Iheanacho"
          ],
          [
           "Stuart Armstrong"
          ],
          [
           "Andrii Yarmolenko"
          ],
          [
           "Ismaïla Sarr"
          ],
          [
           "Trent Alexander-Arnold"
          ],
          [
           "Jordan Henderson"
          ],
          [
           "Alex Oxlade-Chamberlain"
          ],
          [
           "Georginio Wijnaldum"
          ],
          [
           "Che Adams"
          ],
          [
           "Nathan Redmond"
          ],
          [
           "Wilfried Zaha"
          ],
          [
           "Lucas Rodrigues Moura da Silva"
          ],
          [
           "Anwar El Ghazi"
          ],
          [
           "Miguel Ángel Almirón Rejala"
          ],
          [
           "Leander Dendoncker"
          ],
          [
           "Matt Doherty"
          ],
          [
           "Adama Traoré"
          ],
          [
           "Marcos Alonso"
          ],
          [
           "Scott McTominay"
          ],
          [
           "Gerard Deulofeu"
          ],
          [
           "Abdoulaye Doucouré"
          ],
          [
           "Mark Noble"
          ],
          [
           "Dwight Gayle"
          ],
          [
           "Rodrigo Hernández Cascante"
          ],
          [
           "Aaron Cresswell"
          ],
          [
           "Issa Diop"
          ],
          [
           "Luka Milivojević"
          ],
          [
           "Lewis Dunk"
          ],
          [
           "Billy Sharp"
          ],
          [
           "Adam Webster"
          ],
          [
           "Dominic Solanke"
          ],
          [
           "Patrick van Aanholt"
          ],
          [
           "John McGinn"
          ],
          [
           "Conor Hourihane"
          ],
          [
           "Douglas Luiz Soares de Paulo"
          ],
          [
           "Ricardo Domingos Barbosa Pereira"
          ],
          [
           "Ben Chilwell"
          ],
          [
           "Pedro Lomba Neto"
          ],
          [
           "Youri Tielemans"
          ],
          [
           "Allan Saint-Maximin"
          ],
          [
           "Daniel James"
          ],
          [
           "N'Golo Kanté"
          ],
          [
           "Roberto Maximiliano Pereyra"
          ],
          [
           "Jeffrey Schlupp"
          ],
          [
           "Aaron Anthony Connolly"
          ],
          [
           "Junior Stanislas"
          ],
          [
           "Tomáš Souček"
          ],
          [
           "Andrew Robertson"
          ],
          [
           "İlkay Gündoğan"
          ],
          [
           "Nicolás Hernán Otamendi"
          ],
          [
           "Pablo Fornals"
          ],
          [
           "Angelo Ogbonna"
          ],
          [
           "Moise Kean"
          ],
          [
           "Michael Keane"
          ],
          [
           "Yerry Fernando Mina González"
          ],
          [
           "Gylfi Sigurdsson"
          ],
          [
           "Cenk Tosun"
          ],
          [
           "Theo Walcott"
          ],
          [
           "Pascal Groß"
          ],
          [
           "John Egan"
          ],
          [
           "David McGoldrick"
          ],
          [
           "Enda Stevens"
          ],
          [
           "Nathan Aké"
          ],
          [
           "Moussa Djenepo"
          ],
          [
           "Christian Benteke Liolo"
          ],
          [
           "Erik Lamela"
          ],
          [
           "Moussa Sissoko"
          ],
          [
           "Toby Alderweireld"
          ],
          [
           "Jonathan Castro Otto"
          ],
          [
           "Rúben Diogo da Silva Neves"
          ],
          [
           "David Luiz Moreira Marinho"
          ],
          [
           "Onyinye Wilfred Ndidi"
          ],
          [
           "Romain Saïss"
          ],
          [
           "Joelinton Cássio Apolinário de Lira"
          ],
          [
           "Federico Fernández"
          ],
          [
           "Matt Ritchie"
          ],
          [
           "Fabian Schär"
          ],
          [
           "César Azpilicueta"
          ],
          [
           "Dwight McNeil"
          ],
          [
           "James Tarkowski"
          ],
          [
           "Craig Dawson"
          ],
          [
           "Andre Gray"
          ],
          [
           "Danny Welbeck"
          ],
          [
           "Demarai Gray"
          ],
          [
           "Matej Vydra"
          ],
          [
           "Shane Long"
          ],
          [
           "Eddie Nketiah"
          ],
          [
           "Emiliano Buendía"
          ],
          [
           "Josip Drmic"
          ],
          [
           "Onel Hernández"
          ],
          [
           "Kenny McLean"
          ],
          [
           "Felipe Anderson Pereira Gomes"
          ],
          [
           "Declan Rice"
          ],
          [
           "Davy Pröpper"
          ],
          [
           "Tom Davies"
          ],
          [
           "Glenn Murray"
          ],
          [
           "Oliver Norwood"
          ],
          [
           "Philip Billing"
          ],
          [
           "Jefferson Andrés Lerma Solís"
          ],
          [
           "Ryan Bertrand"
          ],
          [
           "Cheikhou Kouyaté"
          ],
          [
           "Lucas Torreira"
          ],
          [
           "Joseph Willock"
          ],
          [
           "Jonny Evans"
          ],
          [
           "João Filipe Iria Santos Moutinho"
          ],
          [
           "Çağlar Söyüncü"
          ],
          [
           "Sean Longstaff"
          ],
          [
           "Jesse Lingard"
          ],
          [
           "Andreas Hugo Hoelgebaum Pereira"
          ],
          [
           "Paul Pogba"
          ],
          [
           "Ross Barkley"
          ],
          [
           "Mateo Kovačić"
          ],
          [
           "Pedro Rodríguez Ledesma"
          ],
          [
           "Harry Maguire"
          ],
          [
           "Ben Mee"
          ],
          [
           "Will Hughes"
          ],
          [
           "Alex Iwobi"
          ],
          [
           "Alexander Tettey"
          ],
          [
           "Michy Batshuayi Tunga"
          ],
          [
           "Adam Masina"
          ],
          [
           "Yves Bissouma"
          ],
          [
           "Kortney Hause"
          ],
          [
           "Mbwana Ally Samatta"
          ],
          [
           "Jarrod Bowen"
          ],
          [
           "Manuel Lanzini"
          ],
          [
           "Erik Pieters"
          ],
          [
           "Lucas Digne"
          ],
          [
           "Solly March"
          ],
          [
           "Dale Stephens"
          ],
          [
           "Jack O'Connell"
          ],
          [
           "Sofiane Boufal"
          ],
          [
           "Pierre-Emile Højbjerg"
          ],
          [
           "Gary Cahill"
          ],
          [
           "James McArthur"
          ],
          [
           "Etienne Capoue"
          ],
          [
           "Fernando Luiz Rosa"
          ],
          [
           "Reece James"
          ]
         ],
         "hovertemplate": "variable=%{x}<br>value=%{y}<br>PLAYER=%{customdata[0]}<extra></extra>",
         "legendgroup": "",
         "marker": {
          "color": "#636efa"
         },
         "name": "",
         "notched": true,
         "offsetgroup": "",
         "orientation": "v",
         "showlegend": false,
         "type": "box",
         "x": [
          "SHOTS",
          "SHOTS",
          "SHOTS",
          "SHOTS",
          "SHOTS",
          "SHOTS",
          "SHOTS",
          "SHOTS",
          "SHOTS",
          "SHOTS",
          "SHOTS",
          "SHOTS",
          "SHOTS",
          "SHOTS",
          "SHOTS",
          "SHOTS",
          "SHOTS",
          "SHOTS",
          "SHOTS",
          "SHOTS",
          "SHOTS",
          "SHOTS",
          "SHOTS",
          "SHOTS",
          "SHOTS",
          "SHOTS",
          "SHOTS",
          "SHOTS",
          "SHOTS",
          "SHOTS",
          "SHOTS",
          "SHOTS",
          "SHOTS",
          "SHOTS",
          "SHOTS",
          "SHOTS",
          "SHOTS",
          "SHOTS",
          "SHOTS",
          "SHOTS",
          "SHOTS",
          "SHOTS",
          "SHOTS",
          "SHOTS",
          "SHOTS",
          "SHOTS",
          "SHOTS",
          "SHOTS",
          "SHOTS",
          "SHOTS",
          "SHOTS",
          "SHOTS",
          "SHOTS",
          "SHOTS",
          "SHOTS",
          "SHOTS",
          "SHOTS",
          "SHOTS",
          "SHOTS",
          "SHOTS",
          "SHOTS",
          "SHOTS",
          "SHOTS",
          "SHOTS",
          "SHOTS",
          "SHOTS",
          "SHOTS",
          "SHOTS",
          "SHOTS",
          "SHOTS",
          "SHOTS",
          "SHOTS",
          "SHOTS",
          "SHOTS",
          "SHOTS",
          "SHOTS",
          "SHOTS",
          "SHOTS",
          "SHOTS",
          "SHOTS",
          "SHOTS",
          "SHOTS",
          "SHOTS",
          "SHOTS",
          "SHOTS",
          "SHOTS",
          "SHOTS",
          "SHOTS",
          "SHOTS",
          "SHOTS",
          "SHOTS",
          "SHOTS",
          "SHOTS",
          "SHOTS",
          "SHOTS",
          "SHOTS",
          "SHOTS",
          "SHOTS",
          "SHOTS",
          "SHOTS",
          "SHOTS",
          "SHOTS",
          "SHOTS",
          "SHOTS",
          "SHOTS",
          "SHOTS",
          "SHOTS",
          "SHOTS",
          "SHOTS",
          "SHOTS",
          "SHOTS",
          "SHOTS",
          "SHOTS",
          "SHOTS",
          "SHOTS",
          "SHOTS",
          "SHOTS",
          "SHOTS",
          "SHOTS",
          "SHOTS",
          "SHOTS",
          "SHOTS",
          "SHOTS",
          "SHOTS",
          "SHOTS",
          "SHOTS",
          "SHOTS",
          "SHOTS",
          "SHOTS",
          "SHOTS",
          "SHOTS",
          "SHOTS",
          "SHOTS",
          "SHOTS",
          "SHOTS",
          "SHOTS",
          "SHOTS",
          "SHOTS",
          "SHOTS",
          "SHOTS",
          "SHOTS",
          "SHOTS",
          "SHOTS",
          "SHOTS",
          "SHOTS",
          "SHOTS",
          "SHOTS",
          "SHOTS",
          "SHOTS",
          "SHOTS",
          "SHOTS",
          "SHOTS",
          "SHOTS",
          "SHOTS",
          "SHOTS",
          "SHOTS",
          "SHOTS",
          "SHOTS",
          "SHOTS",
          "SHOTS",
          "SHOTS",
          "SHOTS",
          "SHOTS",
          "SHOTS",
          "SHOTS",
          "SHOTS",
          "SHOTS",
          "SHOTS",
          "SHOTS",
          "SHOTS",
          "SHOTS",
          "SHOTS",
          "SHOTS",
          "SHOTS",
          "SHOTS",
          "SHOTS",
          "SHOTS",
          "SHOTS",
          "SHOTS",
          "SHOTS",
          "SHOTS",
          "SHOTS",
          "SHOTS",
          "SHOTS",
          "SHOTS",
          "SHOTS",
          "SHOTS",
          "SHOTS",
          "SHOTS",
          "SHOTS",
          "SHOTS",
          "SHOTS",
          "SHOTS",
          "SHOTS",
          "SHOTS",
          "SHOTS",
          "SHOTS",
          "SHOTS ON GOAL",
          "SHOTS ON GOAL",
          "SHOTS ON GOAL",
          "SHOTS ON GOAL",
          "SHOTS ON GOAL",
          "SHOTS ON GOAL",
          "SHOTS ON GOAL",
          "SHOTS ON GOAL",
          "SHOTS ON GOAL",
          "SHOTS ON GOAL",
          "SHOTS ON GOAL",
          "SHOTS ON GOAL",
          "SHOTS ON GOAL",
          "SHOTS ON GOAL",
          "SHOTS ON GOAL",
          "SHOTS ON GOAL",
          "SHOTS ON GOAL",
          "SHOTS ON GOAL",
          "SHOTS ON GOAL",
          "SHOTS ON GOAL",
          "SHOTS ON GOAL",
          "SHOTS ON GOAL",
          "SHOTS ON GOAL",
          "SHOTS ON GOAL",
          "SHOTS ON GOAL",
          "SHOTS ON GOAL",
          "SHOTS ON GOAL",
          "SHOTS ON GOAL",
          "SHOTS ON GOAL",
          "SHOTS ON GOAL",
          "SHOTS ON GOAL",
          "SHOTS ON GOAL",
          "SHOTS ON GOAL",
          "SHOTS ON GOAL",
          "SHOTS ON GOAL",
          "SHOTS ON GOAL",
          "SHOTS ON GOAL",
          "SHOTS ON GOAL",
          "SHOTS ON GOAL",
          "SHOTS ON GOAL",
          "SHOTS ON GOAL",
          "SHOTS ON GOAL",
          "SHOTS ON GOAL",
          "SHOTS ON GOAL",
          "SHOTS ON GOAL",
          "SHOTS ON GOAL",
          "SHOTS ON GOAL",
          "SHOTS ON GOAL",
          "SHOTS ON GOAL",
          "SHOTS ON GOAL",
          "SHOTS ON GOAL",
          "SHOTS ON GOAL",
          "SHOTS ON GOAL",
          "SHOTS ON GOAL",
          "SHOTS ON GOAL",
          "SHOTS ON GOAL",
          "SHOTS ON GOAL",
          "SHOTS ON GOAL",
          "SHOTS ON GOAL",
          "SHOTS ON GOAL",
          "SHOTS ON GOAL",
          "SHOTS ON GOAL",
          "SHOTS ON GOAL",
          "SHOTS ON GOAL",
          "SHOTS ON GOAL",
          "SHOTS ON GOAL",
          "SHOTS ON GOAL",
          "SHOTS ON GOAL",
          "SHOTS ON GOAL",
          "SHOTS ON GOAL",
          "SHOTS ON GOAL",
          "SHOTS ON GOAL",
          "SHOTS ON GOAL",
          "SHOTS ON GOAL",
          "SHOTS ON GOAL",
          "SHOTS ON GOAL",
          "SHOTS ON GOAL",
          "SHOTS ON GOAL",
          "SHOTS ON GOAL",
          "SHOTS ON GOAL",
          "SHOTS ON GOAL",
          "SHOTS ON GOAL",
          "SHOTS ON GOAL",
          "SHOTS ON GOAL",
          "SHOTS ON GOAL",
          "SHOTS ON GOAL",
          "SHOTS ON GOAL",
          "SHOTS ON GOAL",
          "SHOTS ON GOAL",
          "SHOTS ON GOAL",
          "SHOTS ON GOAL",
          "SHOTS ON GOAL",
          "SHOTS ON GOAL",
          "SHOTS ON GOAL",
          "SHOTS ON GOAL",
          "SHOTS ON GOAL",
          "SHOTS ON GOAL",
          "SHOTS ON GOAL",
          "SHOTS ON GOAL",
          "SHOTS ON GOAL",
          "SHOTS ON GOAL",
          "SHOTS ON GOAL",
          "SHOTS ON GOAL",
          "SHOTS ON GOAL",
          "SHOTS ON GOAL",
          "SHOTS ON GOAL",
          "SHOTS ON GOAL",
          "SHOTS ON GOAL",
          "SHOTS ON GOAL",
          "SHOTS ON GOAL",
          "SHOTS ON GOAL",
          "SHOTS ON GOAL",
          "SHOTS ON GOAL",
          "SHOTS ON GOAL",
          "SHOTS ON GOAL",
          "SHOTS ON GOAL",
          "SHOTS ON GOAL",
          "SHOTS ON GOAL",
          "SHOTS ON GOAL",
          "SHOTS ON GOAL",
          "SHOTS ON GOAL",
          "SHOTS ON GOAL",
          "SHOTS ON GOAL",
          "SHOTS ON GOAL",
          "SHOTS ON GOAL",
          "SHOTS ON GOAL",
          "SHOTS ON GOAL",
          "SHOTS ON GOAL",
          "SHOTS ON GOAL",
          "SHOTS ON GOAL",
          "SHOTS ON GOAL",
          "SHOTS ON GOAL",
          "SHOTS ON GOAL",
          "SHOTS ON GOAL",
          "SHOTS ON GOAL",
          "SHOTS ON GOAL",
          "SHOTS ON GOAL",
          "SHOTS ON GOAL",
          "SHOTS ON GOAL",
          "SHOTS ON GOAL",
          "SHOTS ON GOAL",
          "SHOTS ON GOAL",
          "SHOTS ON GOAL",
          "SHOTS ON GOAL",
          "SHOTS ON GOAL",
          "SHOTS ON GOAL",
          "SHOTS ON GOAL",
          "SHOTS ON GOAL",
          "SHOTS ON GOAL",
          "SHOTS ON GOAL",
          "SHOTS ON GOAL",
          "SHOTS ON GOAL",
          "SHOTS ON GOAL",
          "SHOTS ON GOAL",
          "SHOTS ON GOAL",
          "SHOTS ON GOAL",
          "SHOTS ON GOAL",
          "SHOTS ON GOAL",
          "SHOTS ON GOAL",
          "SHOTS ON GOAL",
          "SHOTS ON GOAL",
          "SHOTS ON GOAL",
          "SHOTS ON GOAL",
          "SHOTS ON GOAL",
          "SHOTS ON GOAL",
          "SHOTS ON GOAL",
          "SHOTS ON GOAL",
          "SHOTS ON GOAL",
          "SHOTS ON GOAL",
          "SHOTS ON GOAL",
          "SHOTS ON GOAL",
          "SHOTS ON GOAL",
          "SHOTS ON GOAL",
          "SHOTS ON GOAL",
          "SHOTS ON GOAL",
          "SHOTS ON GOAL",
          "SHOTS ON GOAL",
          "SHOTS ON GOAL",
          "SHOTS ON GOAL",
          "SHOTS ON GOAL",
          "SHOTS ON GOAL",
          "SHOTS ON GOAL",
          "SHOTS ON GOAL",
          "SHOTS ON GOAL",
          "SHOTS ON GOAL",
          "SHOTS ON GOAL",
          "SHOTS ON GOAL",
          "SHOTS ON GOAL",
          "SHOTS ON GOAL",
          "SHOTS ON GOAL",
          "SHOTS ON GOAL",
          "SHOTS ON GOAL",
          "SHOTS ON GOAL",
          "SHOTS ON GOAL",
          "SHOTS ON GOAL",
          "SHOTS ON GOAL",
          "SHOTS ON GOAL"
         ],
         "x0": " ",
         "xaxis": "x",
         "y": [
          71,
          66,
          70,
          68,
          95,
          66,
          62,
          89,
          77,
          59,
          54,
          74,
          81,
          57,
          70,
          70,
          66,
          56,
          51,
          62,
          54,
          65,
          44,
          32,
          32,
          70,
          44,
          48,
          48,
          45,
          55,
          36,
          35,
          55,
          35,
          37,
          46,
          31,
          46,
          50,
          29,
          32,
          29,
          32,
          43,
          22,
          28,
          46,
          44,
          30,
          23,
          27,
          26,
          16,
          19,
          33,
          33,
          43,
          28,
          37,
          29,
          35,
          22,
          30,
          27,
          12,
          22,
          31,
          22,
          45,
          39,
          35,
          41,
          37,
          15,
          26,
          28,
          19,
          17,
          43,
          41,
          14,
          18,
          20,
          14,
          14,
          21,
          26,
          13,
          13,
          18,
          18,
          43,
          16,
          22,
          15,
          13,
          12,
          35,
          32,
          32,
          12,
          13,
          12,
          25,
          11,
          16,
          15,
          19,
          12,
          27,
          12,
          25,
          13,
          23,
          26,
          12,
          19,
          20,
          13,
          38,
          15,
          19,
          17,
          34,
          19,
          12,
          13,
          11,
          38,
          19,
          19,
          19,
          38,
          13,
          17,
          15,
          20,
          32,
          15,
          18,
          16,
          18,
          16,
          17,
          28,
          13,
          27,
          11,
          17,
          23,
          15,
          23,
          19,
          11,
          15,
          12,
          26,
          21,
          14,
          20,
          17,
          12,
          22,
          17,
          17,
          18,
          12,
          28,
          17,
          24,
          12,
          14,
          25,
          13,
          17,
          18,
          13,
          11,
          12,
          14,
          18,
          12,
          14,
          15,
          13,
          14,
          15,
          13,
          11,
          12,
          36,
          13,
          20,
          13,
          13,
          12,
          43,
          38,
          42,
          38,
          59,
          36,
          37,
          44,
          44,
          40,
          28,
          40,
          48,
          31,
          31,
          38,
          32,
          35,
          32,
          38,
          31,
          38,
          26,
          20,
          23,
          39,
          24,
          26,
          29,
          21,
          23,
          22,
          19,
          30,
          19,
          18,
          27,
          20,
          26,
          29,
          16,
          18,
          15,
          12,
          25,
          13,
          17,
          28,
          18,
          14,
          9,
          16,
          15,
          10,
          11,
          12,
          10,
          26,
          18,
          18,
          20,
          20,
          13,
          13,
          13,
          8,
          10,
          15,
          10,
          21,
          17,
          14,
          20,
          17,
          5,
          16,
          12,
          8,
          10,
          21,
          12,
          6,
          10,
          9,
          5,
          7,
          9,
          10,
          7,
          7,
          8,
          6,
          20,
          10,
          12,
          5,
          6,
          6,
          13,
          21,
          20,
          6,
          9,
          10,
          14,
          7,
          8,
          6,
          8,
          7,
          11,
          4,
          13,
          4,
          11,
          14,
          5,
          10,
          9,
          5,
          20,
          4,
          7,
          8,
          19,
          10,
          4,
          4,
          5,
          10,
          8,
          3,
          8,
          15,
          7,
          8,
          6,
          6,
          14,
          5,
          7,
          7,
          9,
          8,
          10,
          14,
          5,
          11,
          6,
          8,
          10,
          8,
          9,
          8,
          5,
          5,
          6,
          8,
          2,
          3,
          4,
          6,
          5,
          8,
          6,
          5,
          7,
          6,
          14,
          8,
          12,
          5,
          10,
          8,
          7,
          3,
          10,
          4,
          2,
          3,
          7,
          3,
          3,
          7,
          7,
          3,
          4,
          8,
          2,
          3,
          7,
          11,
          5,
          6,
          1,
          2,
          3
         ],
         "y0": " ",
         "yaxis": "y"
        }
       ],
       "layout": {
        "boxmode": "group",
        "legend": {
         "tracegroupgap": 0
        },
        "template": {
         "data": {
          "bar": [
           {
            "error_x": {
             "color": "#2a3f5f"
            },
            "error_y": {
             "color": "#2a3f5f"
            },
            "marker": {
             "line": {
              "color": "#E5ECF6",
              "width": 0.5
             }
            },
            "type": "bar"
           }
          ],
          "barpolar": [
           {
            "marker": {
             "line": {
              "color": "#E5ECF6",
              "width": 0.5
             }
            },
            "type": "barpolar"
           }
          ],
          "carpet": [
           {
            "aaxis": {
             "endlinecolor": "#2a3f5f",
             "gridcolor": "white",
             "linecolor": "white",
             "minorgridcolor": "white",
             "startlinecolor": "#2a3f5f"
            },
            "baxis": {
             "endlinecolor": "#2a3f5f",
             "gridcolor": "white",
             "linecolor": "white",
             "minorgridcolor": "white",
             "startlinecolor": "#2a3f5f"
            },
            "type": "carpet"
           }
          ],
          "choropleth": [
           {
            "colorbar": {
             "outlinewidth": 0,
             "ticks": ""
            },
            "type": "choropleth"
           }
          ],
          "contour": [
           {
            "colorbar": {
             "outlinewidth": 0,
             "ticks": ""
            },
            "colorscale": [
             [
              0,
              "#0d0887"
             ],
             [
              0.1111111111111111,
              "#46039f"
             ],
             [
              0.2222222222222222,
              "#7201a8"
             ],
             [
              0.3333333333333333,
              "#9c179e"
             ],
             [
              0.4444444444444444,
              "#bd3786"
             ],
             [
              0.5555555555555556,
              "#d8576b"
             ],
             [
              0.6666666666666666,
              "#ed7953"
             ],
             [
              0.7777777777777778,
              "#fb9f3a"
             ],
             [
              0.8888888888888888,
              "#fdca26"
             ],
             [
              1,
              "#f0f921"
             ]
            ],
            "type": "contour"
           }
          ],
          "contourcarpet": [
           {
            "colorbar": {
             "outlinewidth": 0,
             "ticks": ""
            },
            "type": "contourcarpet"
           }
          ],
          "heatmap": [
           {
            "colorbar": {
             "outlinewidth": 0,
             "ticks": ""
            },
            "colorscale": [
             [
              0,
              "#0d0887"
             ],
             [
              0.1111111111111111,
              "#46039f"
             ],
             [
              0.2222222222222222,
              "#7201a8"
             ],
             [
              0.3333333333333333,
              "#9c179e"
             ],
             [
              0.4444444444444444,
              "#bd3786"
             ],
             [
              0.5555555555555556,
              "#d8576b"
             ],
             [
              0.6666666666666666,
              "#ed7953"
             ],
             [
              0.7777777777777778,
              "#fb9f3a"
             ],
             [
              0.8888888888888888,
              "#fdca26"
             ],
             [
              1,
              "#f0f921"
             ]
            ],
            "type": "heatmap"
           }
          ],
          "heatmapgl": [
           {
            "colorbar": {
             "outlinewidth": 0,
             "ticks": ""
            },
            "colorscale": [
             [
              0,
              "#0d0887"
             ],
             [
              0.1111111111111111,
              "#46039f"
             ],
             [
              0.2222222222222222,
              "#7201a8"
             ],
             [
              0.3333333333333333,
              "#9c179e"
             ],
             [
              0.4444444444444444,
              "#bd3786"
             ],
             [
              0.5555555555555556,
              "#d8576b"
             ],
             [
              0.6666666666666666,
              "#ed7953"
             ],
             [
              0.7777777777777778,
              "#fb9f3a"
             ],
             [
              0.8888888888888888,
              "#fdca26"
             ],
             [
              1,
              "#f0f921"
             ]
            ],
            "type": "heatmapgl"
           }
          ],
          "histogram": [
           {
            "marker": {
             "colorbar": {
              "outlinewidth": 0,
              "ticks": ""
             }
            },
            "type": "histogram"
           }
          ],
          "histogram2d": [
           {
            "colorbar": {
             "outlinewidth": 0,
             "ticks": ""
            },
            "colorscale": [
             [
              0,
              "#0d0887"
             ],
             [
              0.1111111111111111,
              "#46039f"
             ],
             [
              0.2222222222222222,
              "#7201a8"
             ],
             [
              0.3333333333333333,
              "#9c179e"
             ],
             [
              0.4444444444444444,
              "#bd3786"
             ],
             [
              0.5555555555555556,
              "#d8576b"
             ],
             [
              0.6666666666666666,
              "#ed7953"
             ],
             [
              0.7777777777777778,
              "#fb9f3a"
             ],
             [
              0.8888888888888888,
              "#fdca26"
             ],
             [
              1,
              "#f0f921"
             ]
            ],
            "type": "histogram2d"
           }
          ],
          "histogram2dcontour": [
           {
            "colorbar": {
             "outlinewidth": 0,
             "ticks": ""
            },
            "colorscale": [
             [
              0,
              "#0d0887"
             ],
             [
              0.1111111111111111,
              "#46039f"
             ],
             [
              0.2222222222222222,
              "#7201a8"
             ],
             [
              0.3333333333333333,
              "#9c179e"
             ],
             [
              0.4444444444444444,
              "#bd3786"
             ],
             [
              0.5555555555555556,
              "#d8576b"
             ],
             [
              0.6666666666666666,
              "#ed7953"
             ],
             [
              0.7777777777777778,
              "#fb9f3a"
             ],
             [
              0.8888888888888888,
              "#fdca26"
             ],
             [
              1,
              "#f0f921"
             ]
            ],
            "type": "histogram2dcontour"
           }
          ],
          "mesh3d": [
           {
            "colorbar": {
             "outlinewidth": 0,
             "ticks": ""
            },
            "type": "mesh3d"
           }
          ],
          "parcoords": [
           {
            "line": {
             "colorbar": {
              "outlinewidth": 0,
              "ticks": ""
             }
            },
            "type": "parcoords"
           }
          ],
          "pie": [
           {
            "automargin": true,
            "type": "pie"
           }
          ],
          "scatter": [
           {
            "marker": {
             "colorbar": {
              "outlinewidth": 0,
              "ticks": ""
             }
            },
            "type": "scatter"
           }
          ],
          "scatter3d": [
           {
            "line": {
             "colorbar": {
              "outlinewidth": 0,
              "ticks": ""
             }
            },
            "marker": {
             "colorbar": {
              "outlinewidth": 0,
              "ticks": ""
             }
            },
            "type": "scatter3d"
           }
          ],
          "scattercarpet": [
           {
            "marker": {
             "colorbar": {
              "outlinewidth": 0,
              "ticks": ""
             }
            },
            "type": "scattercarpet"
           }
          ],
          "scattergeo": [
           {
            "marker": {
             "colorbar": {
              "outlinewidth": 0,
              "ticks": ""
             }
            },
            "type": "scattergeo"
           }
          ],
          "scattergl": [
           {
            "marker": {
             "colorbar": {
              "outlinewidth": 0,
              "ticks": ""
             }
            },
            "type": "scattergl"
           }
          ],
          "scattermapbox": [
           {
            "marker": {
             "colorbar": {
              "outlinewidth": 0,
              "ticks": ""
             }
            },
            "type": "scattermapbox"
           }
          ],
          "scatterpolar": [
           {
            "marker": {
             "colorbar": {
              "outlinewidth": 0,
              "ticks": ""
             }
            },
            "type": "scatterpolar"
           }
          ],
          "scatterpolargl": [
           {
            "marker": {
             "colorbar": {
              "outlinewidth": 0,
              "ticks": ""
             }
            },
            "type": "scatterpolargl"
           }
          ],
          "scatterternary": [
           {
            "marker": {
             "colorbar": {
              "outlinewidth": 0,
              "ticks": ""
             }
            },
            "type": "scatterternary"
           }
          ],
          "surface": [
           {
            "colorbar": {
             "outlinewidth": 0,
             "ticks": ""
            },
            "colorscale": [
             [
              0,
              "#0d0887"
             ],
             [
              0.1111111111111111,
              "#46039f"
             ],
             [
              0.2222222222222222,
              "#7201a8"
             ],
             [
              0.3333333333333333,
              "#9c179e"
             ],
             [
              0.4444444444444444,
              "#bd3786"
             ],
             [
              0.5555555555555556,
              "#d8576b"
             ],
             [
              0.6666666666666666,
              "#ed7953"
             ],
             [
              0.7777777777777778,
              "#fb9f3a"
             ],
             [
              0.8888888888888888,
              "#fdca26"
             ],
             [
              1,
              "#f0f921"
             ]
            ],
            "type": "surface"
           }
          ],
          "table": [
           {
            "cells": {
             "fill": {
              "color": "#EBF0F8"
             },
             "line": {
              "color": "white"
             }
            },
            "header": {
             "fill": {
              "color": "#C8D4E3"
             },
             "line": {
              "color": "white"
             }
            },
            "type": "table"
           }
          ]
         },
         "layout": {
          "annotationdefaults": {
           "arrowcolor": "#2a3f5f",
           "arrowhead": 0,
           "arrowwidth": 1
          },
          "coloraxis": {
           "colorbar": {
            "outlinewidth": 0,
            "ticks": ""
           }
          },
          "colorscale": {
           "diverging": [
            [
             0,
             "#8e0152"
            ],
            [
             0.1,
             "#c51b7d"
            ],
            [
             0.2,
             "#de77ae"
            ],
            [
             0.3,
             "#f1b6da"
            ],
            [
             0.4,
             "#fde0ef"
            ],
            [
             0.5,
             "#f7f7f7"
            ],
            [
             0.6,
             "#e6f5d0"
            ],
            [
             0.7,
             "#b8e186"
            ],
            [
             0.8,
             "#7fbc41"
            ],
            [
             0.9,
             "#4d9221"
            ],
            [
             1,
             "#276419"
            ]
           ],
           "sequential": [
            [
             0,
             "#0d0887"
            ],
            [
             0.1111111111111111,
             "#46039f"
            ],
            [
             0.2222222222222222,
             "#7201a8"
            ],
            [
             0.3333333333333333,
             "#9c179e"
            ],
            [
             0.4444444444444444,
             "#bd3786"
            ],
            [
             0.5555555555555556,
             "#d8576b"
            ],
            [
             0.6666666666666666,
             "#ed7953"
            ],
            [
             0.7777777777777778,
             "#fb9f3a"
            ],
            [
             0.8888888888888888,
             "#fdca26"
            ],
            [
             1,
             "#f0f921"
            ]
           ],
           "sequentialminus": [
            [
             0,
             "#0d0887"
            ],
            [
             0.1111111111111111,
             "#46039f"
            ],
            [
             0.2222222222222222,
             "#7201a8"
            ],
            [
             0.3333333333333333,
             "#9c179e"
            ],
            [
             0.4444444444444444,
             "#bd3786"
            ],
            [
             0.5555555555555556,
             "#d8576b"
            ],
            [
             0.6666666666666666,
             "#ed7953"
            ],
            [
             0.7777777777777778,
             "#fb9f3a"
            ],
            [
             0.8888888888888888,
             "#fdca26"
            ],
            [
             1,
             "#f0f921"
            ]
           ]
          },
          "colorway": [
           "#636efa",
           "#EF553B",
           "#00cc96",
           "#ab63fa",
           "#FFA15A",
           "#19d3f3",
           "#FF6692",
           "#B6E880",
           "#FF97FF",
           "#FECB52"
          ],
          "font": {
           "color": "#2a3f5f"
          },
          "geo": {
           "bgcolor": "white",
           "lakecolor": "white",
           "landcolor": "#E5ECF6",
           "showlakes": true,
           "showland": true,
           "subunitcolor": "white"
          },
          "hoverlabel": {
           "align": "left"
          },
          "hovermode": "closest",
          "mapbox": {
           "style": "light"
          },
          "paper_bgcolor": "white",
          "plot_bgcolor": "#E5ECF6",
          "polar": {
           "angularaxis": {
            "gridcolor": "white",
            "linecolor": "white",
            "ticks": ""
           },
           "bgcolor": "#E5ECF6",
           "radialaxis": {
            "gridcolor": "white",
            "linecolor": "white",
            "ticks": ""
           }
          },
          "scene": {
           "xaxis": {
            "backgroundcolor": "#E5ECF6",
            "gridcolor": "white",
            "gridwidth": 2,
            "linecolor": "white",
            "showbackground": true,
            "ticks": "",
            "zerolinecolor": "white"
           },
           "yaxis": {
            "backgroundcolor": "#E5ECF6",
            "gridcolor": "white",
            "gridwidth": 2,
            "linecolor": "white",
            "showbackground": true,
            "ticks": "",
            "zerolinecolor": "white"
           },
           "zaxis": {
            "backgroundcolor": "#E5ECF6",
            "gridcolor": "white",
            "gridwidth": 2,
            "linecolor": "white",
            "showbackground": true,
            "ticks": "",
            "zerolinecolor": "white"
           }
          },
          "shapedefaults": {
           "line": {
            "color": "#2a3f5f"
           }
          },
          "ternary": {
           "aaxis": {
            "gridcolor": "white",
            "linecolor": "white",
            "ticks": ""
           },
           "baxis": {
            "gridcolor": "white",
            "linecolor": "white",
            "ticks": ""
           },
           "bgcolor": "#E5ECF6",
           "caxis": {
            "gridcolor": "white",
            "linecolor": "white",
            "ticks": ""
           }
          },
          "title": {
           "x": 0.05
          },
          "xaxis": {
           "automargin": true,
           "gridcolor": "white",
           "linecolor": "white",
           "ticks": "",
           "title": {
            "standoff": 15
           },
           "zerolinecolor": "white",
           "zerolinewidth": 2
          },
          "yaxis": {
           "automargin": true,
           "gridcolor": "white",
           "linecolor": "white",
           "ticks": "",
           "title": {
            "standoff": 15
           },
           "zerolinecolor": "white",
           "zerolinewidth": 2
          }
         }
        },
        "title": {
         "text": "Box plot of shots and shots on goal"
        },
        "xaxis": {
         "anchor": "y",
         "domain": [
          0,
          1
         ],
         "title": {
          "text": "variable"
         }
        },
        "yaxis": {
         "anchor": "x",
         "domain": [
          0,
          1
         ],
         "title": {
          "text": "value"
         }
        }
       }
      }
     },
     "metadata": {}
    }
   ],
   "source": [
    "px.box(df[['SHOTS','SHOTS ON GOAL','PLAYER']],notched=True,title=\"Box plot of shots and shots on goal\",hover_data=[\"PLAYER\"])"
   ]
  },
  {
   "cell_type": "code",
   "execution_count": 17,
   "metadata": {},
   "outputs": [
    {
     "output_type": "display_data",
     "data": {
      "application/vnd.plotly.v1+json": {
       "config": {
        "plotlyServerURL": "https://plot.ly"
       },
       "data": [
        {
         "alignmentgroup": "True",
         "customdata": [
          [
           "Jamie Vardy"
          ],
          [
           "Danny Ings"
          ],
          [
           "Pierre-Emerick Aubameyang"
          ],
          [
           "Raheem Shaquille Sterling"
          ],
          [
           "Mohamed Salah Ghaly"
          ],
          [
           "Sadio Mané"
          ],
          [
           "Harry Kane"
          ],
          [
           "Raúl Alonso Jiménez Rodríguez"
          ],
          [
           "Marcus Rashford"
          ],
          [
           "Anthony Martial"
          ],
          [
           "Sergio Leonel Agüero del Castillo"
          ],
          [
           "Tammy Bakumo-Abraham"
          ],
          [
           "Gabriel Fernando de Jesus"
          ],
          [
           "Chris Wood"
          ],
          [
           "Kevin De Bruyne"
          ],
          [
           "Dominic Calvert-Lewin"
          ],
          [
           "Richarlison de Andrade"
          ],
          [
           "Teemu Pukki"
          ],
          [
           "Riyad Mahrez"
          ],
          [
           "Heung-Min Son"
          ],
          [
           "Michail Antonio"
          ],
          [
           "Neal Maupay"
          ],
          [
           "Alexandre Lacazette"
          ],
          [
           "Mason Greenwood"
          ],
          [
           "Troy Deeney"
          ],
          [
           "Roberto Firmino Barbosa de Oliveira"
          ],
          [
           "Jordan Ayew"
          ],
          [
           "Christian Pulisic"
          ],
          [
           "Willian Borges Da Silva"
          ],
          [
           "Callum Wilson"
          ],
          [
           "Jack Grealish"
          ],
          [
           "Ayoze Pérez"
          ],
          [
           "Olivier Giroud"
          ],
          [
           "Jay Rodriguez"
          ],
          [
           "Bamidele Alli"
          ],
          [
           "Bruno Miguel Borges Fernandes"
          ],
          [
           "Sébastien Haller"
          ],
          [
           "Harry Wilson"
          ],
          [
           "Diogo José Teixeira da Silva"
          ],
          [
           "Mason Mount"
          ],
          [
           "Todd Cantwell"
          ],
          [
           "David Silva"
          ],
          [
           "Bernardo Mota Veiga de Carvalho e Silva"
          ],
          [
           "Ashley Barnes"
          ],
          [
           "Oliver McBurnie"
          ],
          [
           "Joshua King"
          ],
          [
           "Mahmoud Ahmed Ibrahim Hassan"
          ],
          [
           "Harvey Barnes"
          ],
          [
           "James Maddison"
          ],
          [
           "Jonjo Shelvey"
          ],
          [
           "Lys Mousset"
          ],
          [
           "Virgil van Dijk"
          ],
          [
           "Phil Foden"
          ],
          [
           "Robert Snodgrass"
          ],
          [
           "John Fleck"
          ],
          [
           "Leandro Trossard"
          ],
          [
           "John Lundstram"
          ],
          [
           "James Ward-Prowse"
          ],
          [
           "Wesley Moraes Ferreira da Silva"
          ],
          [
           "Nicolas Pépé"
          ],
          [
           "Kelechi Iheanacho"
          ],
          [
           "Stuart Armstrong"
          ],
          [
           "Andrii Yarmolenko"
          ],
          [
           "Ismaïla Sarr"
          ],
          [
           "Trent Alexander-Arnold"
          ],
          [
           "Jordan Henderson"
          ],
          [
           "Alex Oxlade-Chamberlain"
          ],
          [
           "Georginio Wijnaldum"
          ],
          [
           "Che Adams"
          ],
          [
           "Nathan Redmond"
          ],
          [
           "Wilfried Zaha"
          ],
          [
           "Lucas Rodrigues Moura da Silva"
          ],
          [
           "Anwar El Ghazi"
          ],
          [
           "Miguel Ángel Almirón Rejala"
          ],
          [
           "Leander Dendoncker"
          ],
          [
           "Matt Doherty"
          ],
          [
           "Adama Traoré"
          ],
          [
           "Marcos Alonso"
          ],
          [
           "Scott McTominay"
          ],
          [
           "Gerard Deulofeu"
          ],
          [
           "Abdoulaye Doucouré"
          ],
          [
           "Mark Noble"
          ],
          [
           "Dwight Gayle"
          ],
          [
           "Rodrigo Hernández Cascante"
          ],
          [
           "Aaron Cresswell"
          ],
          [
           "Issa Diop"
          ],
          [
           "Luka Milivojević"
          ],
          [
           "Lewis Dunk"
          ],
          [
           "Billy Sharp"
          ],
          [
           "Adam Webster"
          ],
          [
           "Dominic Solanke"
          ],
          [
           "Patrick van Aanholt"
          ],
          [
           "John McGinn"
          ],
          [
           "Conor Hourihane"
          ],
          [
           "Douglas Luiz Soares de Paulo"
          ],
          [
           "Ricardo Domingos Barbosa Pereira"
          ],
          [
           "Ben Chilwell"
          ],
          [
           "Pedro Lomba Neto"
          ],
          [
           "Youri Tielemans"
          ],
          [
           "Allan Saint-Maximin"
          ],
          [
           "Daniel James"
          ],
          [
           "N'Golo Kanté"
          ],
          [
           "Roberto Maximiliano Pereyra"
          ],
          [
           "Jeffrey Schlupp"
          ],
          [
           "Aaron Anthony Connolly"
          ],
          [
           "Junior Stanislas"
          ],
          [
           "Tomáš Souček"
          ],
          [
           "Andrew Robertson"
          ],
          [
           "İlkay Gündoğan"
          ],
          [
           "Nicolás Hernán Otamendi"
          ],
          [
           "Pablo Fornals"
          ],
          [
           "Angelo Ogbonna"
          ],
          [
           "Moise Kean"
          ],
          [
           "Michael Keane"
          ],
          [
           "Yerry Fernando Mina González"
          ],
          [
           "Gylfi Sigurdsson"
          ],
          [
           "Cenk Tosun"
          ],
          [
           "Theo Walcott"
          ],
          [
           "Pascal Groß"
          ],
          [
           "John Egan"
          ],
          [
           "David McGoldrick"
          ],
          [
           "Enda Stevens"
          ],
          [
           "Nathan Aké"
          ],
          [
           "Moussa Djenepo"
          ],
          [
           "Christian Benteke Liolo"
          ],
          [
           "Erik Lamela"
          ],
          [
           "Moussa Sissoko"
          ],
          [
           "Toby Alderweireld"
          ],
          [
           "Jonathan Castro Otto"
          ],
          [
           "Rúben Diogo da Silva Neves"
          ],
          [
           "David Luiz Moreira Marinho"
          ],
          [
           "Onyinye Wilfred Ndidi"
          ],
          [
           "Romain Saïss"
          ],
          [
           "Joelinton Cássio Apolinário de Lira"
          ],
          [
           "Federico Fernández"
          ],
          [
           "Matt Ritchie"
          ],
          [
           "Fabian Schär"
          ],
          [
           "César Azpilicueta"
          ],
          [
           "Dwight McNeil"
          ],
          [
           "James Tarkowski"
          ],
          [
           "Craig Dawson"
          ],
          [
           "Andre Gray"
          ],
          [
           "Danny Welbeck"
          ],
          [
           "Demarai Gray"
          ],
          [
           "Matej Vydra"
          ],
          [
           "Shane Long"
          ],
          [
           "Eddie Nketiah"
          ],
          [
           "Emiliano Buendía"
          ],
          [
           "Josip Drmic"
          ],
          [
           "Onel Hernández"
          ],
          [
           "Kenny McLean"
          ],
          [
           "Felipe Anderson Pereira Gomes"
          ],
          [
           "Declan Rice"
          ],
          [
           "Davy Pröpper"
          ],
          [
           "Tom Davies"
          ],
          [
           "Glenn Murray"
          ],
          [
           "Oliver Norwood"
          ],
          [
           "Philip Billing"
          ],
          [
           "Jefferson Andrés Lerma Solís"
          ],
          [
           "Ryan Bertrand"
          ],
          [
           "Cheikhou Kouyaté"
          ],
          [
           "Lucas Torreira"
          ],
          [
           "Joseph Willock"
          ],
          [
           "Jonny Evans"
          ],
          [
           "João Filipe Iria Santos Moutinho"
          ],
          [
           "Çağlar Söyüncü"
          ],
          [
           "Sean Longstaff"
          ],
          [
           "Jesse Lingard"
          ],
          [
           "Andreas Hugo Hoelgebaum Pereira"
          ],
          [
           "Paul Pogba"
          ],
          [
           "Ross Barkley"
          ],
          [
           "Mateo Kovačić"
          ],
          [
           "Pedro Rodríguez Ledesma"
          ],
          [
           "Harry Maguire"
          ],
          [
           "Ben Mee"
          ],
          [
           "Will Hughes"
          ],
          [
           "Alex Iwobi"
          ],
          [
           "Alexander Tettey"
          ],
          [
           "Michy Batshuayi Tunga"
          ],
          [
           "Adam Masina"
          ],
          [
           "Yves Bissouma"
          ],
          [
           "Kortney Hause"
          ],
          [
           "Mbwana Ally Samatta"
          ],
          [
           "Jarrod Bowen"
          ],
          [
           "Manuel Lanzini"
          ],
          [
           "Erik Pieters"
          ],
          [
           "Lucas Digne"
          ],
          [
           "Solly March"
          ],
          [
           "Dale Stephens"
          ],
          [
           "Jack O'Connell"
          ],
          [
           "Sofiane Boufal"
          ],
          [
           "Pierre-Emile Højbjerg"
          ],
          [
           "Gary Cahill"
          ],
          [
           "James McArthur"
          ],
          [
           "Etienne Capoue"
          ],
          [
           "Fernando Luiz Rosa"
          ],
          [
           "Reece James"
          ]
         ],
         "hovertemplate": "variable=%{x}<br>value=%{y}<br>PLAYER=%{customdata[0]}<extra></extra>",
         "legendgroup": "",
         "marker": {
          "color": "#636efa"
         },
         "name": "",
         "notched": false,
         "offsetgroup": "",
         "orientation": "v",
         "showlegend": false,
         "type": "box",
         "x": [
          "GOALS",
          "GOALS",
          "GOALS",
          "GOALS",
          "GOALS",
          "GOALS",
          "GOALS",
          "GOALS",
          "GOALS",
          "GOALS",
          "GOALS",
          "GOALS",
          "GOALS",
          "GOALS",
          "GOALS",
          "GOALS",
          "GOALS",
          "GOALS",
          "GOALS",
          "GOALS",
          "GOALS",
          "GOALS",
          "GOALS",
          "GOALS",
          "GOALS",
          "GOALS",
          "GOALS",
          "GOALS",
          "GOALS",
          "GOALS",
          "GOALS",
          "GOALS",
          "GOALS",
          "GOALS",
          "GOALS",
          "GOALS",
          "GOALS",
          "GOALS",
          "GOALS",
          "GOALS",
          "GOALS",
          "GOALS",
          "GOALS",
          "GOALS",
          "GOALS",
          "GOALS",
          "GOALS",
          "GOALS",
          "GOALS",
          "GOALS",
          "GOALS",
          "GOALS",
          "GOALS",
          "GOALS",
          "GOALS",
          "GOALS",
          "GOALS",
          "GOALS",
          "GOALS",
          "GOALS",
          "GOALS",
          "GOALS",
          "GOALS",
          "GOALS",
          "GOALS",
          "GOALS",
          "GOALS",
          "GOALS",
          "GOALS",
          "GOALS",
          "GOALS",
          "GOALS",
          "GOALS",
          "GOALS",
          "GOALS",
          "GOALS",
          "GOALS",
          "GOALS",
          "GOALS",
          "GOALS",
          "GOALS",
          "GOALS",
          "GOALS",
          "GOALS",
          "GOALS",
          "GOALS",
          "GOALS",
          "GOALS",
          "GOALS",
          "GOALS",
          "GOALS",
          "GOALS",
          "GOALS",
          "GOALS",
          "GOALS",
          "GOALS",
          "GOALS",
          "GOALS",
          "GOALS",
          "GOALS",
          "GOALS",
          "GOALS",
          "GOALS",
          "GOALS",
          "GOALS",
          "GOALS",
          "GOALS",
          "GOALS",
          "GOALS",
          "GOALS",
          "GOALS",
          "GOALS",
          "GOALS",
          "GOALS",
          "GOALS",
          "GOALS",
          "GOALS",
          "GOALS",
          "GOALS",
          "GOALS",
          "GOALS",
          "GOALS",
          "GOALS",
          "GOALS",
          "GOALS",
          "GOALS",
          "GOALS",
          "GOALS",
          "GOALS",
          "GOALS",
          "GOALS",
          "GOALS",
          "GOALS",
          "GOALS",
          "GOALS",
          "GOALS",
          "GOALS",
          "GOALS",
          "GOALS",
          "GOALS",
          "GOALS",
          "GOALS",
          "GOALS",
          "GOALS",
          "GOALS",
          "GOALS",
          "GOALS",
          "GOALS",
          "GOALS",
          "GOALS",
          "GOALS",
          "GOALS",
          "GOALS",
          "GOALS",
          "GOALS",
          "GOALS",
          "GOALS",
          "GOALS",
          "GOALS",
          "GOALS",
          "GOALS",
          "GOALS",
          "GOALS",
          "GOALS",
          "GOALS",
          "GOALS",
          "GOALS",
          "GOALS",
          "GOALS",
          "GOALS",
          "GOALS",
          "GOALS",
          "GOALS",
          "GOALS",
          "GOALS",
          "GOALS",
          "GOALS",
          "GOALS",
          "GOALS",
          "GOALS",
          "GOALS",
          "GOALS",
          "GOALS",
          "GOALS",
          "GOALS",
          "GOALS",
          "GOALS",
          "GOALS",
          "GOALS",
          "GOALS",
          "GOALS",
          "GOALS",
          "GOALS",
          "GOALS",
          "GOALS",
          "GOALS",
          "GOALS"
         ],
         "x0": " ",
         "xaxis": "x",
         "y": [
          23,
          22,
          22,
          20,
          19,
          18,
          18,
          17,
          17,
          17,
          16,
          15,
          14,
          14,
          13,
          13,
          13,
          11,
          11,
          11,
          10,
          10,
          10,
          10,
          10,
          9,
          9,
          9,
          9,
          8,
          8,
          8,
          8,
          8,
          8,
          8,
          7,
          7,
          7,
          7,
          6,
          6,
          6,
          6,
          6,
          6,
          6,
          6,
          6,
          6,
          6,
          5,
          5,
          5,
          5,
          5,
          5,
          5,
          5,
          5,
          5,
          5,
          5,
          5,
          4,
          4,
          4,
          4,
          4,
          4,
          4,
          4,
          4,
          4,
          4,
          4,
          4,
          4,
          4,
          4,
          4,
          4,
          4,
          3,
          3,
          3,
          3,
          3,
          3,
          3,
          3,
          3,
          3,
          3,
          3,
          3,
          3,
          3,
          3,
          3,
          3,
          3,
          3,
          3,
          3,
          3,
          3,
          2,
          2,
          2,
          2,
          2,
          2,
          2,
          2,
          2,
          2,
          2,
          2,
          2,
          2,
          2,
          2,
          2,
          2,
          2,
          2,
          2,
          2,
          2,
          2,
          2,
          2,
          2,
          2,
          2,
          2,
          2,
          2,
          2,
          2,
          2,
          2,
          2,
          2,
          2,
          2,
          1,
          1,
          1,
          1,
          1,
          1,
          1,
          1,
          1,
          1,
          1,
          1,
          1,
          1,
          1,
          1,
          1,
          1,
          1,
          1,
          1,
          1,
          1,
          1,
          1,
          1,
          1,
          1,
          1,
          1,
          1,
          1,
          1,
          1,
          1,
          1,
          1,
          0,
          0,
          0,
          0,
          0,
          0,
          0,
          0,
          0,
          0,
          0,
          0,
          0
         ],
         "y0": " ",
         "yaxis": "y"
        }
       ],
       "layout": {
        "boxmode": "group",
        "legend": {
         "tracegroupgap": 0
        },
        "margin": {
         "t": 60
        },
        "template": {
         "data": {
          "bar": [
           {
            "error_x": {
             "color": "#2a3f5f"
            },
            "error_y": {
             "color": "#2a3f5f"
            },
            "marker": {
             "line": {
              "color": "#E5ECF6",
              "width": 0.5
             }
            },
            "type": "bar"
           }
          ],
          "barpolar": [
           {
            "marker": {
             "line": {
              "color": "#E5ECF6",
              "width": 0.5
             }
            },
            "type": "barpolar"
           }
          ],
          "carpet": [
           {
            "aaxis": {
             "endlinecolor": "#2a3f5f",
             "gridcolor": "white",
             "linecolor": "white",
             "minorgridcolor": "white",
             "startlinecolor": "#2a3f5f"
            },
            "baxis": {
             "endlinecolor": "#2a3f5f",
             "gridcolor": "white",
             "linecolor": "white",
             "minorgridcolor": "white",
             "startlinecolor": "#2a3f5f"
            },
            "type": "carpet"
           }
          ],
          "choropleth": [
           {
            "colorbar": {
             "outlinewidth": 0,
             "ticks": ""
            },
            "type": "choropleth"
           }
          ],
          "contour": [
           {
            "colorbar": {
             "outlinewidth": 0,
             "ticks": ""
            },
            "colorscale": [
             [
              0,
              "#0d0887"
             ],
             [
              0.1111111111111111,
              "#46039f"
             ],
             [
              0.2222222222222222,
              "#7201a8"
             ],
             [
              0.3333333333333333,
              "#9c179e"
             ],
             [
              0.4444444444444444,
              "#bd3786"
             ],
             [
              0.5555555555555556,
              "#d8576b"
             ],
             [
              0.6666666666666666,
              "#ed7953"
             ],
             [
              0.7777777777777778,
              "#fb9f3a"
             ],
             [
              0.8888888888888888,
              "#fdca26"
             ],
             [
              1,
              "#f0f921"
             ]
            ],
            "type": "contour"
           }
          ],
          "contourcarpet": [
           {
            "colorbar": {
             "outlinewidth": 0,
             "ticks": ""
            },
            "type": "contourcarpet"
           }
          ],
          "heatmap": [
           {
            "colorbar": {
             "outlinewidth": 0,
             "ticks": ""
            },
            "colorscale": [
             [
              0,
              "#0d0887"
             ],
             [
              0.1111111111111111,
              "#46039f"
             ],
             [
              0.2222222222222222,
              "#7201a8"
             ],
             [
              0.3333333333333333,
              "#9c179e"
             ],
             [
              0.4444444444444444,
              "#bd3786"
             ],
             [
              0.5555555555555556,
              "#d8576b"
             ],
             [
              0.6666666666666666,
              "#ed7953"
             ],
             [
              0.7777777777777778,
              "#fb9f3a"
             ],
             [
              0.8888888888888888,
              "#fdca26"
             ],
             [
              1,
              "#f0f921"
             ]
            ],
            "type": "heatmap"
           }
          ],
          "heatmapgl": [
           {
            "colorbar": {
             "outlinewidth": 0,
             "ticks": ""
            },
            "colorscale": [
             [
              0,
              "#0d0887"
             ],
             [
              0.1111111111111111,
              "#46039f"
             ],
             [
              0.2222222222222222,
              "#7201a8"
             ],
             [
              0.3333333333333333,
              "#9c179e"
             ],
             [
              0.4444444444444444,
              "#bd3786"
             ],
             [
              0.5555555555555556,
              "#d8576b"
             ],
             [
              0.6666666666666666,
              "#ed7953"
             ],
             [
              0.7777777777777778,
              "#fb9f3a"
             ],
             [
              0.8888888888888888,
              "#fdca26"
             ],
             [
              1,
              "#f0f921"
             ]
            ],
            "type": "heatmapgl"
           }
          ],
          "histogram": [
           {
            "marker": {
             "colorbar": {
              "outlinewidth": 0,
              "ticks": ""
             }
            },
            "type": "histogram"
           }
          ],
          "histogram2d": [
           {
            "colorbar": {
             "outlinewidth": 0,
             "ticks": ""
            },
            "colorscale": [
             [
              0,
              "#0d0887"
             ],
             [
              0.1111111111111111,
              "#46039f"
             ],
             [
              0.2222222222222222,
              "#7201a8"
             ],
             [
              0.3333333333333333,
              "#9c179e"
             ],
             [
              0.4444444444444444,
              "#bd3786"
             ],
             [
              0.5555555555555556,
              "#d8576b"
             ],
             [
              0.6666666666666666,
              "#ed7953"
             ],
             [
              0.7777777777777778,
              "#fb9f3a"
             ],
             [
              0.8888888888888888,
              "#fdca26"
             ],
             [
              1,
              "#f0f921"
             ]
            ],
            "type": "histogram2d"
           }
          ],
          "histogram2dcontour": [
           {
            "colorbar": {
             "outlinewidth": 0,
             "ticks": ""
            },
            "colorscale": [
             [
              0,
              "#0d0887"
             ],
             [
              0.1111111111111111,
              "#46039f"
             ],
             [
              0.2222222222222222,
              "#7201a8"
             ],
             [
              0.3333333333333333,
              "#9c179e"
             ],
             [
              0.4444444444444444,
              "#bd3786"
             ],
             [
              0.5555555555555556,
              "#d8576b"
             ],
             [
              0.6666666666666666,
              "#ed7953"
             ],
             [
              0.7777777777777778,
              "#fb9f3a"
             ],
             [
              0.8888888888888888,
              "#fdca26"
             ],
             [
              1,
              "#f0f921"
             ]
            ],
            "type": "histogram2dcontour"
           }
          ],
          "mesh3d": [
           {
            "colorbar": {
             "outlinewidth": 0,
             "ticks": ""
            },
            "type": "mesh3d"
           }
          ],
          "parcoords": [
           {
            "line": {
             "colorbar": {
              "outlinewidth": 0,
              "ticks": ""
             }
            },
            "type": "parcoords"
           }
          ],
          "pie": [
           {
            "automargin": true,
            "type": "pie"
           }
          ],
          "scatter": [
           {
            "marker": {
             "colorbar": {
              "outlinewidth": 0,
              "ticks": ""
             }
            },
            "type": "scatter"
           }
          ],
          "scatter3d": [
           {
            "line": {
             "colorbar": {
              "outlinewidth": 0,
              "ticks": ""
             }
            },
            "marker": {
             "colorbar": {
              "outlinewidth": 0,
              "ticks": ""
             }
            },
            "type": "scatter3d"
           }
          ],
          "scattercarpet": [
           {
            "marker": {
             "colorbar": {
              "outlinewidth": 0,
              "ticks": ""
             }
            },
            "type": "scattercarpet"
           }
          ],
          "scattergeo": [
           {
            "marker": {
             "colorbar": {
              "outlinewidth": 0,
              "ticks": ""
             }
            },
            "type": "scattergeo"
           }
          ],
          "scattergl": [
           {
            "marker": {
             "colorbar": {
              "outlinewidth": 0,
              "ticks": ""
             }
            },
            "type": "scattergl"
           }
          ],
          "scattermapbox": [
           {
            "marker": {
             "colorbar": {
              "outlinewidth": 0,
              "ticks": ""
             }
            },
            "type": "scattermapbox"
           }
          ],
          "scatterpolar": [
           {
            "marker": {
             "colorbar": {
              "outlinewidth": 0,
              "ticks": ""
             }
            },
            "type": "scatterpolar"
           }
          ],
          "scatterpolargl": [
           {
            "marker": {
             "colorbar": {
              "outlinewidth": 0,
              "ticks": ""
             }
            },
            "type": "scatterpolargl"
           }
          ],
          "scatterternary": [
           {
            "marker": {
             "colorbar": {
              "outlinewidth": 0,
              "ticks": ""
             }
            },
            "type": "scatterternary"
           }
          ],
          "surface": [
           {
            "colorbar": {
             "outlinewidth": 0,
             "ticks": ""
            },
            "colorscale": [
             [
              0,
              "#0d0887"
             ],
             [
              0.1111111111111111,
              "#46039f"
             ],
             [
              0.2222222222222222,
              "#7201a8"
             ],
             [
              0.3333333333333333,
              "#9c179e"
             ],
             [
              0.4444444444444444,
              "#bd3786"
             ],
             [
              0.5555555555555556,
              "#d8576b"
             ],
             [
              0.6666666666666666,
              "#ed7953"
             ],
             [
              0.7777777777777778,
              "#fb9f3a"
             ],
             [
              0.8888888888888888,
              "#fdca26"
             ],
             [
              1,
              "#f0f921"
             ]
            ],
            "type": "surface"
           }
          ],
          "table": [
           {
            "cells": {
             "fill": {
              "color": "#EBF0F8"
             },
             "line": {
              "color": "white"
             }
            },
            "header": {
             "fill": {
              "color": "#C8D4E3"
             },
             "line": {
              "color": "white"
             }
            },
            "type": "table"
           }
          ]
         },
         "layout": {
          "annotationdefaults": {
           "arrowcolor": "#2a3f5f",
           "arrowhead": 0,
           "arrowwidth": 1
          },
          "coloraxis": {
           "colorbar": {
            "outlinewidth": 0,
            "ticks": ""
           }
          },
          "colorscale": {
           "diverging": [
            [
             0,
             "#8e0152"
            ],
            [
             0.1,
             "#c51b7d"
            ],
            [
             0.2,
             "#de77ae"
            ],
            [
             0.3,
             "#f1b6da"
            ],
            [
             0.4,
             "#fde0ef"
            ],
            [
             0.5,
             "#f7f7f7"
            ],
            [
             0.6,
             "#e6f5d0"
            ],
            [
             0.7,
             "#b8e186"
            ],
            [
             0.8,
             "#7fbc41"
            ],
            [
             0.9,
             "#4d9221"
            ],
            [
             1,
             "#276419"
            ]
           ],
           "sequential": [
            [
             0,
             "#0d0887"
            ],
            [
             0.1111111111111111,
             "#46039f"
            ],
            [
             0.2222222222222222,
             "#7201a8"
            ],
            [
             0.3333333333333333,
             "#9c179e"
            ],
            [
             0.4444444444444444,
             "#bd3786"
            ],
            [
             0.5555555555555556,
             "#d8576b"
            ],
            [
             0.6666666666666666,
             "#ed7953"
            ],
            [
             0.7777777777777778,
             "#fb9f3a"
            ],
            [
             0.8888888888888888,
             "#fdca26"
            ],
            [
             1,
             "#f0f921"
            ]
           ],
           "sequentialminus": [
            [
             0,
             "#0d0887"
            ],
            [
             0.1111111111111111,
             "#46039f"
            ],
            [
             0.2222222222222222,
             "#7201a8"
            ],
            [
             0.3333333333333333,
             "#9c179e"
            ],
            [
             0.4444444444444444,
             "#bd3786"
            ],
            [
             0.5555555555555556,
             "#d8576b"
            ],
            [
             0.6666666666666666,
             "#ed7953"
            ],
            [
             0.7777777777777778,
             "#fb9f3a"
            ],
            [
             0.8888888888888888,
             "#fdca26"
            ],
            [
             1,
             "#f0f921"
            ]
           ]
          },
          "colorway": [
           "#636efa",
           "#EF553B",
           "#00cc96",
           "#ab63fa",
           "#FFA15A",
           "#19d3f3",
           "#FF6692",
           "#B6E880",
           "#FF97FF",
           "#FECB52"
          ],
          "font": {
           "color": "#2a3f5f"
          },
          "geo": {
           "bgcolor": "white",
           "lakecolor": "white",
           "landcolor": "#E5ECF6",
           "showlakes": true,
           "showland": true,
           "subunitcolor": "white"
          },
          "hoverlabel": {
           "align": "left"
          },
          "hovermode": "closest",
          "mapbox": {
           "style": "light"
          },
          "paper_bgcolor": "white",
          "plot_bgcolor": "#E5ECF6",
          "polar": {
           "angularaxis": {
            "gridcolor": "white",
            "linecolor": "white",
            "ticks": ""
           },
           "bgcolor": "#E5ECF6",
           "radialaxis": {
            "gridcolor": "white",
            "linecolor": "white",
            "ticks": ""
           }
          },
          "scene": {
           "xaxis": {
            "backgroundcolor": "#E5ECF6",
            "gridcolor": "white",
            "gridwidth": 2,
            "linecolor": "white",
            "showbackground": true,
            "ticks": "",
            "zerolinecolor": "white"
           },
           "yaxis": {
            "backgroundcolor": "#E5ECF6",
            "gridcolor": "white",
            "gridwidth": 2,
            "linecolor": "white",
            "showbackground": true,
            "ticks": "",
            "zerolinecolor": "white"
           },
           "zaxis": {
            "backgroundcolor": "#E5ECF6",
            "gridcolor": "white",
            "gridwidth": 2,
            "linecolor": "white",
            "showbackground": true,
            "ticks": "",
            "zerolinecolor": "white"
           }
          },
          "shapedefaults": {
           "line": {
            "color": "#2a3f5f"
           }
          },
          "ternary": {
           "aaxis": {
            "gridcolor": "white",
            "linecolor": "white",
            "ticks": ""
           },
           "baxis": {
            "gridcolor": "white",
            "linecolor": "white",
            "ticks": ""
           },
           "bgcolor": "#E5ECF6",
           "caxis": {
            "gridcolor": "white",
            "linecolor": "white",
            "ticks": ""
           }
          },
          "title": {
           "x": 0.05
          },
          "xaxis": {
           "automargin": true,
           "gridcolor": "white",
           "linecolor": "white",
           "ticks": "",
           "title": {
            "standoff": 15
           },
           "zerolinecolor": "white",
           "zerolinewidth": 2
          },
          "yaxis": {
           "automargin": true,
           "gridcolor": "white",
           "linecolor": "white",
           "ticks": "",
           "title": {
            "standoff": 15
           },
           "zerolinecolor": "white",
           "zerolinewidth": 2
          }
         }
        },
        "xaxis": {
         "anchor": "y",
         "domain": [
          0,
          1
         ],
         "title": {
          "text": "variable"
         }
        },
        "yaxis": {
         "anchor": "x",
         "domain": [
          0,
          1
         ],
         "title": {
          "text": "value"
         }
        }
       }
      }
     },
     "metadata": {}
    }
   ],
   "source": [
    "px.box(df[['GOALS','PLAYER']],hover_data=[\"PLAYER\"])"
   ]
  },
  {
   "cell_type": "markdown",
   "metadata": {},
   "source": [
    "## To dowload the modified DataFrame into a new CSV file"
   ]
  },
  {
   "cell_type": "code",
   "execution_count": 20,
   "metadata": {},
   "outputs": [],
   "source": [
    "df.to_csv('PlDataAnalysed.csv')"
   ]
  },
  {
   "cell_type": "markdown",
   "metadata": {},
   "source": [
    "## List of the bottom five players in the top 3 teams"
   ]
  },
  {
   "cell_type": "code",
   "execution_count": 18,
   "metadata": {},
   "outputs": [
    {
     "output_type": "execute_result",
     "data": {
      "text/plain": "                               PLAYER               TEAM  GAMES PLAYED  \\\nRank                                                                     \n216                     Jesse Lingard  Manchester United            22   \n217   Andreas Hugo Hoelgebaum Pereira  Manchester United            25   \n218                        Paul Pogba  Manchester United            16   \n224                     Harry Maguire  Manchester United            38   \n390                Fernando Luiz Rosa    Manchester City            30   \n\n      GAMES STARTED  MINUTES PLAYED  GOALS  ASSISTS  SHOTS  SHOTS ON GOAL  \\\nRank                                                                        \n216               9             932      1        0     12              6   \n217              18            1488      1        3     28             14   \n218              13            1205      1        3     17              8   \n224              38            3420      1        1     25              8   \n390              26            2399      0        1     13              2   \n\n      NUMBER OF MATCHS EQUIVALENT  \nRank                               \n216                            10  \n217                            16  \n218                            13  \n224                            38  \n390                            26  ",
      "text/html": "<div>\n<style scoped>\n    .dataframe tbody tr th:only-of-type {\n        vertical-align: middle;\n    }\n\n    .dataframe tbody tr th {\n        vertical-align: top;\n    }\n\n    .dataframe thead th {\n        text-align: right;\n    }\n</style>\n<table border=\"1\" class=\"dataframe\">\n  <thead>\n    <tr style=\"text-align: right;\">\n      <th></th>\n      <th>PLAYER</th>\n      <th>TEAM</th>\n      <th>GAMES PLAYED</th>\n      <th>GAMES STARTED</th>\n      <th>MINUTES PLAYED</th>\n      <th>GOALS</th>\n      <th>ASSISTS</th>\n      <th>SHOTS</th>\n      <th>SHOTS ON GOAL</th>\n      <th>NUMBER OF MATCHS EQUIVALENT</th>\n    </tr>\n    <tr>\n      <th>Rank</th>\n      <th></th>\n      <th></th>\n      <th></th>\n      <th></th>\n      <th></th>\n      <th></th>\n      <th></th>\n      <th></th>\n      <th></th>\n      <th></th>\n    </tr>\n  </thead>\n  <tbody>\n    <tr>\n      <th>216</th>\n      <td>Jesse Lingard</td>\n      <td>Manchester United</td>\n      <td>22</td>\n      <td>9</td>\n      <td>932</td>\n      <td>1</td>\n      <td>0</td>\n      <td>12</td>\n      <td>6</td>\n      <td>10</td>\n    </tr>\n    <tr>\n      <th>217</th>\n      <td>Andreas Hugo Hoelgebaum Pereira</td>\n      <td>Manchester United</td>\n      <td>25</td>\n      <td>18</td>\n      <td>1488</td>\n      <td>1</td>\n      <td>3</td>\n      <td>28</td>\n      <td>14</td>\n      <td>16</td>\n    </tr>\n    <tr>\n      <th>218</th>\n      <td>Paul Pogba</td>\n      <td>Manchester United</td>\n      <td>16</td>\n      <td>13</td>\n      <td>1205</td>\n      <td>1</td>\n      <td>3</td>\n      <td>17</td>\n      <td>8</td>\n      <td>13</td>\n    </tr>\n    <tr>\n      <th>224</th>\n      <td>Harry Maguire</td>\n      <td>Manchester United</td>\n      <td>38</td>\n      <td>38</td>\n      <td>3420</td>\n      <td>1</td>\n      <td>1</td>\n      <td>25</td>\n      <td>8</td>\n      <td>38</td>\n    </tr>\n    <tr>\n      <th>390</th>\n      <td>Fernando Luiz Rosa</td>\n      <td>Manchester City</td>\n      <td>30</td>\n      <td>26</td>\n      <td>2399</td>\n      <td>0</td>\n      <td>1</td>\n      <td>13</td>\n      <td>2</td>\n      <td>26</td>\n    </tr>\n  </tbody>\n</table>\n</div>"
     },
     "metadata": {},
     "execution_count": 18
    }
   ],
   "source": [
    "df.loc[df['TEAM'].isin(['Liverpool','Manchester City','Manchester United'])].tail()"
   ]
  },
  {
   "cell_type": "markdown",
   "metadata": {},
   "source": [
    "## List of the top five players in the top 3 teams"
   ]
  },
  {
   "cell_type": "code",
   "execution_count": 19,
   "metadata": {},
   "outputs": [
    {
     "output_type": "execute_result",
     "data": {
      "text/plain": "                         PLAYER               TEAM  GAMES PLAYED  \\\nRank                                                               \n4     Raheem Shaquille Sterling    Manchester City            33   \n5           Mohamed Salah Ghaly          Liverpool            34   \n6                    Sadio Mané          Liverpool            35   \n9               Marcus Rashford  Manchester United            31   \n10              Anthony Martial  Manchester United            32   \n\n      GAMES STARTED  MINUTES PLAYED  GOALS  ASSISTS  SHOTS  SHOTS ON GOAL  \\\nRank                                                                        \n4                30            2660     20        1     68             38   \n5                33            2884     19       10     95             59   \n6                31            2753     18        7     66             36   \n9                31            2653     17        7     77             44   \n10               31            2638     17        6     59             40   \n\n      NUMBER OF MATCHS EQUIVALENT  \nRank                               \n4                              29  \n5                              32  \n6                              30  \n9                              29  \n10                             29  ",
      "text/html": "<div>\n<style scoped>\n    .dataframe tbody tr th:only-of-type {\n        vertical-align: middle;\n    }\n\n    .dataframe tbody tr th {\n        vertical-align: top;\n    }\n\n    .dataframe thead th {\n        text-align: right;\n    }\n</style>\n<table border=\"1\" class=\"dataframe\">\n  <thead>\n    <tr style=\"text-align: right;\">\n      <th></th>\n      <th>PLAYER</th>\n      <th>TEAM</th>\n      <th>GAMES PLAYED</th>\n      <th>GAMES STARTED</th>\n      <th>MINUTES PLAYED</th>\n      <th>GOALS</th>\n      <th>ASSISTS</th>\n      <th>SHOTS</th>\n      <th>SHOTS ON GOAL</th>\n      <th>NUMBER OF MATCHS EQUIVALENT</th>\n    </tr>\n    <tr>\n      <th>Rank</th>\n      <th></th>\n      <th></th>\n      <th></th>\n      <th></th>\n      <th></th>\n      <th></th>\n      <th></th>\n      <th></th>\n      <th></th>\n      <th></th>\n    </tr>\n  </thead>\n  <tbody>\n    <tr>\n      <th>4</th>\n      <td>Raheem Shaquille Sterling</td>\n      <td>Manchester City</td>\n      <td>33</td>\n      <td>30</td>\n      <td>2660</td>\n      <td>20</td>\n      <td>1</td>\n      <td>68</td>\n      <td>38</td>\n      <td>29</td>\n    </tr>\n    <tr>\n      <th>5</th>\n      <td>Mohamed Salah Ghaly</td>\n      <td>Liverpool</td>\n      <td>34</td>\n      <td>33</td>\n      <td>2884</td>\n      <td>19</td>\n      <td>10</td>\n      <td>95</td>\n      <td>59</td>\n      <td>32</td>\n    </tr>\n    <tr>\n      <th>6</th>\n      <td>Sadio Mané</td>\n      <td>Liverpool</td>\n      <td>35</td>\n      <td>31</td>\n      <td>2753</td>\n      <td>18</td>\n      <td>7</td>\n      <td>66</td>\n      <td>36</td>\n      <td>30</td>\n    </tr>\n    <tr>\n      <th>9</th>\n      <td>Marcus Rashford</td>\n      <td>Manchester United</td>\n      <td>31</td>\n      <td>31</td>\n      <td>2653</td>\n      <td>17</td>\n      <td>7</td>\n      <td>77</td>\n      <td>44</td>\n      <td>29</td>\n    </tr>\n    <tr>\n      <th>10</th>\n      <td>Anthony Martial</td>\n      <td>Manchester United</td>\n      <td>32</td>\n      <td>31</td>\n      <td>2638</td>\n      <td>17</td>\n      <td>6</td>\n      <td>59</td>\n      <td>40</td>\n      <td>29</td>\n    </tr>\n  </tbody>\n</table>\n</div>"
     },
     "metadata": {},
     "execution_count": 19
    }
   ],
   "source": [
    "df.loc[df['TEAM'].isin(['Liverpool','Manchester City','Manchester United'])].head()"
   ]
  }
 ],
 "metadata": {
  "kernelspec": {
   "display_name": "Python 3",
   "language": "python",
   "name": "python3"
  },
  "language_info": {
   "codemirror_mode": {
    "name": "ipython",
    "version": 3
   },
   "file_extension": ".py",
   "mimetype": "text/x-python",
   "name": "python",
   "nbconvert_exporter": "python",
   "pygments_lexer": "ipython3",
   "version": "3.7.6-final"
  }
 },
 "nbformat": 4,
 "nbformat_minor": 4
}